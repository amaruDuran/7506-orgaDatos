{
 "cells": [
  {
   "cell_type": "code",
   "execution_count": 1,
   "metadata": {},
   "outputs": [],
   "source": [
    "import pandas as pd\n",
    "from matplotlib import pyplot as plt\n",
    "import numpy as np\n",
    "import seaborn as sns"
   ]
  },
  {
   "cell_type": "markdown",
   "metadata": {},
   "source": [
    "# Inicialización"
   ]
  },
  {
   "cell_type": "markdown",
   "metadata": {},
   "source": [
    "El primer paso que vamos a realizar es cargar las dos tablas en dos data frames distintos. "
   ]
  },
  {
   "cell_type": "code",
   "execution_count": 2,
   "metadata": {},
   "outputs": [
    {
     "data": {
      "text/html": [
       "<div>\n",
       "<style scoped>\n",
       "    .dataframe tbody tr th:only-of-type {\n",
       "        vertical-align: middle;\n",
       "    }\n",
       "\n",
       "    .dataframe tbody tr th {\n",
       "        vertical-align: top;\n",
       "    }\n",
       "\n",
       "    .dataframe thead th {\n",
       "        text-align: right;\n",
       "    }\n",
       "</style>\n",
       "<table border=\"1\" class=\"dataframe\">\n",
       "  <thead>\n",
       "    <tr style=\"text-align: right;\">\n",
       "      <th></th>\n",
       "      <th>id_usuario</th>\n",
       "      <th>volveria</th>\n",
       "    </tr>\n",
       "  </thead>\n",
       "  <tbody>\n",
       "    <tr>\n",
       "      <th>0</th>\n",
       "      <td>117</td>\n",
       "      <td>0</td>\n",
       "    </tr>\n",
       "    <tr>\n",
       "      <th>1</th>\n",
       "      <td>658</td>\n",
       "      <td>0</td>\n",
       "    </tr>\n",
       "    <tr>\n",
       "      <th>2</th>\n",
       "      <td>794</td>\n",
       "      <td>0</td>\n",
       "    </tr>\n",
       "    <tr>\n",
       "      <th>3</th>\n",
       "      <td>455</td>\n",
       "      <td>0</td>\n",
       "    </tr>\n",
       "    <tr>\n",
       "      <th>4</th>\n",
       "      <td>173</td>\n",
       "      <td>1</td>\n",
       "    </tr>\n",
       "    <tr>\n",
       "      <th>...</th>\n",
       "      <td>...</td>\n",
       "      <td>...</td>\n",
       "    </tr>\n",
       "    <tr>\n",
       "      <th>796</th>\n",
       "      <td>448</td>\n",
       "      <td>1</td>\n",
       "    </tr>\n",
       "    <tr>\n",
       "      <th>797</th>\n",
       "      <td>636</td>\n",
       "      <td>1</td>\n",
       "    </tr>\n",
       "    <tr>\n",
       "      <th>798</th>\n",
       "      <td>848</td>\n",
       "      <td>0</td>\n",
       "    </tr>\n",
       "    <tr>\n",
       "      <th>799</th>\n",
       "      <td>304</td>\n",
       "      <td>1</td>\n",
       "    </tr>\n",
       "    <tr>\n",
       "      <th>800</th>\n",
       "      <td>385</td>\n",
       "      <td>0</td>\n",
       "    </tr>\n",
       "  </tbody>\n",
       "</table>\n",
       "<p>801 rows × 2 columns</p>\n",
       "</div>"
      ],
      "text/plain": [
       "     id_usuario  volveria\n",
       "0           117         0\n",
       "1           658         0\n",
       "2           794         0\n",
       "3           455         0\n",
       "4           173         1\n",
       "..          ...       ...\n",
       "796         448         1\n",
       "797         636         1\n",
       "798         848         0\n",
       "799         304         1\n",
       "800         385         0\n",
       "\n",
       "[801 rows x 2 columns]"
      ]
     },
     "execution_count": 2,
     "metadata": {},
     "output_type": "execute_result"
    }
   ],
   "source": [
    "df_volvera = pd.read_csv(\"tp-2020-2c-train-cols1.csv\")\n",
    "df_volvera"
   ]
  },
  {
   "cell_type": "code",
   "execution_count": 3,
   "metadata": {},
   "outputs": [
    {
     "data": {
      "text/html": [
       "<div>\n",
       "<style scoped>\n",
       "    .dataframe tbody tr th:only-of-type {\n",
       "        vertical-align: middle;\n",
       "    }\n",
       "\n",
       "    .dataframe tbody tr th {\n",
       "        vertical-align: top;\n",
       "    }\n",
       "\n",
       "    .dataframe thead th {\n",
       "        text-align: right;\n",
       "    }\n",
       "</style>\n",
       "<table border=\"1\" class=\"dataframe\">\n",
       "  <thead>\n",
       "    <tr style=\"text-align: right;\">\n",
       "      <th></th>\n",
       "      <th>tipo_de_sala</th>\n",
       "      <th>nombre</th>\n",
       "      <th>id_usuario</th>\n",
       "      <th>genero</th>\n",
       "      <th>edad</th>\n",
       "      <th>amigos</th>\n",
       "      <th>parientes</th>\n",
       "      <th>id_ticket</th>\n",
       "      <th>precio_ticket</th>\n",
       "      <th>fila</th>\n",
       "      <th>nombre_sede</th>\n",
       "    </tr>\n",
       "  </thead>\n",
       "  <tbody>\n",
       "    <tr>\n",
       "      <th>0</th>\n",
       "      <td>4d</td>\n",
       "      <td>Señor Camilo Pedro</td>\n",
       "      <td>117</td>\n",
       "      <td>hombre</td>\n",
       "      <td>73.5</td>\n",
       "      <td>0</td>\n",
       "      <td>0</td>\n",
       "      <td>59258;</td>\n",
       "      <td>1</td>\n",
       "      <td>NaN</td>\n",
       "      <td>fiumark_quilmes</td>\n",
       "    </tr>\n",
       "    <tr>\n",
       "      <th>1</th>\n",
       "      <td>4d</td>\n",
       "      <td>Señora Raquel Angelica</td>\n",
       "      <td>658</td>\n",
       "      <td>mujer</td>\n",
       "      <td>35.0</td>\n",
       "      <td>1</td>\n",
       "      <td>1</td>\n",
       "      <td>586:6;</td>\n",
       "      <td>2</td>\n",
       "      <td>NaN</td>\n",
       "      <td>fiumark_quilmes</td>\n",
       "    </tr>\n",
       "    <tr>\n",
       "      <th>2</th>\n",
       "      <td>normal</td>\n",
       "      <td>Señor Antonio Federico</td>\n",
       "      <td>794</td>\n",
       "      <td>hombre</td>\n",
       "      <td>NaN</td>\n",
       "      <td>0</td>\n",
       "      <td>0</td>\n",
       "      <td>RE\"39822</td>\n",
       "      <td>3</td>\n",
       "      <td>NaN</td>\n",
       "      <td>fiumark_chacarita</td>\n",
       "    </tr>\n",
       "    <tr>\n",
       "      <th>3</th>\n",
       "      <td>4d</td>\n",
       "      <td>Señor Osvaldo Aureliano</td>\n",
       "      <td>455</td>\n",
       "      <td>hombre</td>\n",
       "      <td>NaN</td>\n",
       "      <td>0</td>\n",
       "      <td>0</td>\n",
       "      <td>C17\"4:39</td>\n",
       "      <td>1</td>\n",
       "      <td>NaN</td>\n",
       "      <td>fiumark_palermo</td>\n",
       "    </tr>\n",
       "    <tr>\n",
       "      <th>4</th>\n",
       "      <td>4d</td>\n",
       "      <td>Señorita Rita Eudosia</td>\n",
       "      <td>173</td>\n",
       "      <td>mujer</td>\n",
       "      <td>4.0</td>\n",
       "      <td>1</td>\n",
       "      <td>1</td>\n",
       "      <td>569964</td>\n",
       "      <td>2</td>\n",
       "      <td>NaN</td>\n",
       "      <td>fiumark_palermo</td>\n",
       "    </tr>\n",
       "    <tr>\n",
       "      <th>...</th>\n",
       "      <td>...</td>\n",
       "      <td>...</td>\n",
       "      <td>...</td>\n",
       "      <td>...</td>\n",
       "      <td>...</td>\n",
       "      <td>...</td>\n",
       "      <td>...</td>\n",
       "      <td>...</td>\n",
       "      <td>...</td>\n",
       "      <td>...</td>\n",
       "      <td>...</td>\n",
       "    </tr>\n",
       "    <tr>\n",
       "      <th>796</th>\n",
       "      <td>normal</td>\n",
       "      <td>Señor Bernardo Melesio</td>\n",
       "      <td>448</td>\n",
       "      <td>hombre</td>\n",
       "      <td>37.0</td>\n",
       "      <td>0</td>\n",
       "      <td>0</td>\n",
       "      <td>3359;6</td>\n",
       "      <td>3</td>\n",
       "      <td>NaN</td>\n",
       "      <td>fiumark_palermo</td>\n",
       "    </tr>\n",
       "    <tr>\n",
       "      <th>797</th>\n",
       "      <td>3d</td>\n",
       "      <td>Señorita Lidia Catalina</td>\n",
       "      <td>636</td>\n",
       "      <td>mujer</td>\n",
       "      <td>31.0</td>\n",
       "      <td>0</td>\n",
       "      <td>0</td>\n",
       "      <td>45988:</td>\n",
       "      <td>2</td>\n",
       "      <td>NaN</td>\n",
       "      <td>fiumark_palermo</td>\n",
       "    </tr>\n",
       "    <tr>\n",
       "      <th>798</th>\n",
       "      <td>4d</td>\n",
       "      <td>Señor Arturo Antenor</td>\n",
       "      <td>848</td>\n",
       "      <td>hombre</td>\n",
       "      <td>38.0</td>\n",
       "      <td>0</td>\n",
       "      <td>0</td>\n",
       "      <td>56;435</td>\n",
       "      <td>1</td>\n",
       "      <td>NaN</td>\n",
       "      <td>fiumark_chacarita</td>\n",
       "    </tr>\n",
       "    <tr>\n",
       "      <th>799</th>\n",
       "      <td>3d</td>\n",
       "      <td>Señorita Natividad Sofia</td>\n",
       "      <td>304</td>\n",
       "      <td>mujer</td>\n",
       "      <td>NaN</td>\n",
       "      <td>0</td>\n",
       "      <td>0</td>\n",
       "      <td>4487;5</td>\n",
       "      <td>2</td>\n",
       "      <td>adelante</td>\n",
       "      <td>fiumark_quilmes</td>\n",
       "    </tr>\n",
       "    <tr>\n",
       "      <th>800</th>\n",
       "      <td>4d</td>\n",
       "      <td>Señor Isidoro Sebastian</td>\n",
       "      <td>385</td>\n",
       "      <td>hombre</td>\n",
       "      <td>NaN</td>\n",
       "      <td>0</td>\n",
       "      <td>0</td>\n",
       "      <td>56;449</td>\n",
       "      <td>1</td>\n",
       "      <td>NaN</td>\n",
       "      <td>fiumark_palermo</td>\n",
       "    </tr>\n",
       "  </tbody>\n",
       "</table>\n",
       "<p>801 rows × 11 columns</p>\n",
       "</div>"
      ],
      "text/plain": [
       "    tipo_de_sala                    nombre  id_usuario  genero  edad  amigos  \\\n",
       "0             4d        Señor Camilo Pedro         117  hombre  73.5       0   \n",
       "1             4d    Señora Raquel Angelica         658   mujer  35.0       1   \n",
       "2         normal    Señor Antonio Federico         794  hombre   NaN       0   \n",
       "3             4d   Señor Osvaldo Aureliano         455  hombre   NaN       0   \n",
       "4             4d     Señorita Rita Eudosia         173   mujer   4.0       1   \n",
       "..           ...                       ...         ...     ...   ...     ...   \n",
       "796       normal    Señor Bernardo Melesio         448  hombre  37.0       0   \n",
       "797           3d   Señorita Lidia Catalina         636   mujer  31.0       0   \n",
       "798           4d      Señor Arturo Antenor         848  hombre  38.0       0   \n",
       "799           3d  Señorita Natividad Sofia         304   mujer   NaN       0   \n",
       "800           4d   Señor Isidoro Sebastian         385  hombre   NaN       0   \n",
       "\n",
       "     parientes id_ticket  precio_ticket      fila        nombre_sede  \n",
       "0            0    59258;              1       NaN    fiumark_quilmes  \n",
       "1            1    586:6;              2       NaN    fiumark_quilmes  \n",
       "2            0  RE\"39822              3       NaN  fiumark_chacarita  \n",
       "3            0  C17\"4:39              1       NaN    fiumark_palermo  \n",
       "4            1    569964              2       NaN    fiumark_palermo  \n",
       "..         ...       ...            ...       ...                ...  \n",
       "796          0    3359;6              3       NaN    fiumark_palermo  \n",
       "797          0    45988:              2       NaN    fiumark_palermo  \n",
       "798          0    56;435              1       NaN  fiumark_chacarita  \n",
       "799          0    4487;5              2  adelante    fiumark_quilmes  \n",
       "800          0    56;449              1       NaN    fiumark_palermo  \n",
       "\n",
       "[801 rows x 11 columns]"
      ]
     },
     "execution_count": 3,
     "metadata": {},
     "output_type": "execute_result"
    }
   ],
   "source": [
    "df_usuario = pd.read_csv(\"tp-2020-2c-train-cols2.csv\")\n",
    "df_usuario"
   ]
  },
  {
   "cell_type": "markdown",
   "metadata": {},
   "source": [
    "En un primer análisis, podemos ver de ambas tablas que poseen un total de 801 filas. \n",
    "\n",
    "Consideramos hacer un join de las mismas, para operar y analizar la variable target(`volveria`) junto con los datos. \n",
    "Para ello utilizamos el campo `id_usuario` el cual es compartido.\n",
    "\n",
    "Dejaremos en la variable `df_joined` las tablas unidas sin modificar, y usaremos `df` para ir realizando operaciones sobre la misma."
   ]
  },
  {
   "cell_type": "code",
   "execution_count": 4,
   "metadata": {},
   "outputs": [
    {
     "data": {
      "text/html": [
       "<div>\n",
       "<style scoped>\n",
       "    .dataframe tbody tr th:only-of-type {\n",
       "        vertical-align: middle;\n",
       "    }\n",
       "\n",
       "    .dataframe tbody tr th {\n",
       "        vertical-align: top;\n",
       "    }\n",
       "\n",
       "    .dataframe thead th {\n",
       "        text-align: right;\n",
       "    }\n",
       "</style>\n",
       "<table border=\"1\" class=\"dataframe\">\n",
       "  <thead>\n",
       "    <tr style=\"text-align: right;\">\n",
       "      <th></th>\n",
       "      <th>tipo_de_sala</th>\n",
       "      <th>nombre</th>\n",
       "      <th>genero</th>\n",
       "      <th>edad</th>\n",
       "      <th>amigos</th>\n",
       "      <th>parientes</th>\n",
       "      <th>id_ticket</th>\n",
       "      <th>precio_ticket</th>\n",
       "      <th>fila</th>\n",
       "      <th>nombre_sede</th>\n",
       "      <th>volveria</th>\n",
       "    </tr>\n",
       "    <tr>\n",
       "      <th>id_usuario</th>\n",
       "      <th></th>\n",
       "      <th></th>\n",
       "      <th></th>\n",
       "      <th></th>\n",
       "      <th></th>\n",
       "      <th></th>\n",
       "      <th></th>\n",
       "      <th></th>\n",
       "      <th></th>\n",
       "      <th></th>\n",
       "      <th></th>\n",
       "    </tr>\n",
       "  </thead>\n",
       "  <tbody>\n",
       "    <tr>\n",
       "      <th>117</th>\n",
       "      <td>4d</td>\n",
       "      <td>Señor Camilo Pedro</td>\n",
       "      <td>hombre</td>\n",
       "      <td>73.5</td>\n",
       "      <td>0</td>\n",
       "      <td>0</td>\n",
       "      <td>59258;</td>\n",
       "      <td>1</td>\n",
       "      <td>NaN</td>\n",
       "      <td>fiumark_quilmes</td>\n",
       "      <td>0</td>\n",
       "    </tr>\n",
       "    <tr>\n",
       "      <th>658</th>\n",
       "      <td>4d</td>\n",
       "      <td>Señora Raquel Angelica</td>\n",
       "      <td>mujer</td>\n",
       "      <td>35.0</td>\n",
       "      <td>1</td>\n",
       "      <td>1</td>\n",
       "      <td>586:6;</td>\n",
       "      <td>2</td>\n",
       "      <td>NaN</td>\n",
       "      <td>fiumark_quilmes</td>\n",
       "      <td>0</td>\n",
       "    </tr>\n",
       "    <tr>\n",
       "      <th>794</th>\n",
       "      <td>normal</td>\n",
       "      <td>Señor Antonio Federico</td>\n",
       "      <td>hombre</td>\n",
       "      <td>NaN</td>\n",
       "      <td>0</td>\n",
       "      <td>0</td>\n",
       "      <td>RE\"39822</td>\n",
       "      <td>3</td>\n",
       "      <td>NaN</td>\n",
       "      <td>fiumark_chacarita</td>\n",
       "      <td>0</td>\n",
       "    </tr>\n",
       "    <tr>\n",
       "      <th>455</th>\n",
       "      <td>4d</td>\n",
       "      <td>Señor Osvaldo Aureliano</td>\n",
       "      <td>hombre</td>\n",
       "      <td>NaN</td>\n",
       "      <td>0</td>\n",
       "      <td>0</td>\n",
       "      <td>C17\"4:39</td>\n",
       "      <td>1</td>\n",
       "      <td>NaN</td>\n",
       "      <td>fiumark_palermo</td>\n",
       "      <td>0</td>\n",
       "    </tr>\n",
       "    <tr>\n",
       "      <th>173</th>\n",
       "      <td>4d</td>\n",
       "      <td>Señorita Rita Eudosia</td>\n",
       "      <td>mujer</td>\n",
       "      <td>4.0</td>\n",
       "      <td>1</td>\n",
       "      <td>1</td>\n",
       "      <td>569964</td>\n",
       "      <td>2</td>\n",
       "      <td>NaN</td>\n",
       "      <td>fiumark_palermo</td>\n",
       "      <td>1</td>\n",
       "    </tr>\n",
       "    <tr>\n",
       "      <th>...</th>\n",
       "      <td>...</td>\n",
       "      <td>...</td>\n",
       "      <td>...</td>\n",
       "      <td>...</td>\n",
       "      <td>...</td>\n",
       "      <td>...</td>\n",
       "      <td>...</td>\n",
       "      <td>...</td>\n",
       "      <td>...</td>\n",
       "      <td>...</td>\n",
       "      <td>...</td>\n",
       "    </tr>\n",
       "    <tr>\n",
       "      <th>448</th>\n",
       "      <td>normal</td>\n",
       "      <td>Señor Bernardo Melesio</td>\n",
       "      <td>hombre</td>\n",
       "      <td>37.0</td>\n",
       "      <td>0</td>\n",
       "      <td>0</td>\n",
       "      <td>3359;6</td>\n",
       "      <td>3</td>\n",
       "      <td>NaN</td>\n",
       "      <td>fiumark_palermo</td>\n",
       "      <td>1</td>\n",
       "    </tr>\n",
       "    <tr>\n",
       "      <th>636</th>\n",
       "      <td>3d</td>\n",
       "      <td>Señorita Lidia Catalina</td>\n",
       "      <td>mujer</td>\n",
       "      <td>31.0</td>\n",
       "      <td>0</td>\n",
       "      <td>0</td>\n",
       "      <td>45988:</td>\n",
       "      <td>2</td>\n",
       "      <td>NaN</td>\n",
       "      <td>fiumark_palermo</td>\n",
       "      <td>1</td>\n",
       "    </tr>\n",
       "    <tr>\n",
       "      <th>848</th>\n",
       "      <td>4d</td>\n",
       "      <td>Señor Arturo Antenor</td>\n",
       "      <td>hombre</td>\n",
       "      <td>38.0</td>\n",
       "      <td>0</td>\n",
       "      <td>0</td>\n",
       "      <td>56;435</td>\n",
       "      <td>1</td>\n",
       "      <td>NaN</td>\n",
       "      <td>fiumark_chacarita</td>\n",
       "      <td>0</td>\n",
       "    </tr>\n",
       "    <tr>\n",
       "      <th>304</th>\n",
       "      <td>3d</td>\n",
       "      <td>Señorita Natividad Sofia</td>\n",
       "      <td>mujer</td>\n",
       "      <td>NaN</td>\n",
       "      <td>0</td>\n",
       "      <td>0</td>\n",
       "      <td>4487;5</td>\n",
       "      <td>2</td>\n",
       "      <td>adelante</td>\n",
       "      <td>fiumark_quilmes</td>\n",
       "      <td>1</td>\n",
       "    </tr>\n",
       "    <tr>\n",
       "      <th>385</th>\n",
       "      <td>4d</td>\n",
       "      <td>Señor Isidoro Sebastian</td>\n",
       "      <td>hombre</td>\n",
       "      <td>NaN</td>\n",
       "      <td>0</td>\n",
       "      <td>0</td>\n",
       "      <td>56;449</td>\n",
       "      <td>1</td>\n",
       "      <td>NaN</td>\n",
       "      <td>fiumark_palermo</td>\n",
       "      <td>0</td>\n",
       "    </tr>\n",
       "  </tbody>\n",
       "</table>\n",
       "<p>801 rows × 11 columns</p>\n",
       "</div>"
      ],
      "text/plain": [
       "           tipo_de_sala                    nombre  genero  edad  amigos  \\\n",
       "id_usuario                                                                \n",
       "117                  4d        Señor Camilo Pedro  hombre  73.5       0   \n",
       "658                  4d    Señora Raquel Angelica   mujer  35.0       1   \n",
       "794              normal    Señor Antonio Federico  hombre   NaN       0   \n",
       "455                  4d   Señor Osvaldo Aureliano  hombre   NaN       0   \n",
       "173                  4d     Señorita Rita Eudosia   mujer   4.0       1   \n",
       "...                 ...                       ...     ...   ...     ...   \n",
       "448              normal    Señor Bernardo Melesio  hombre  37.0       0   \n",
       "636                  3d   Señorita Lidia Catalina   mujer  31.0       0   \n",
       "848                  4d      Señor Arturo Antenor  hombre  38.0       0   \n",
       "304                  3d  Señorita Natividad Sofia   mujer   NaN       0   \n",
       "385                  4d   Señor Isidoro Sebastian  hombre   NaN       0   \n",
       "\n",
       "            parientes id_ticket  precio_ticket      fila        nombre_sede  \\\n",
       "id_usuario                                                                    \n",
       "117                 0    59258;              1       NaN    fiumark_quilmes   \n",
       "658                 1    586:6;              2       NaN    fiumark_quilmes   \n",
       "794                 0  RE\"39822              3       NaN  fiumark_chacarita   \n",
       "455                 0  C17\"4:39              1       NaN    fiumark_palermo   \n",
       "173                 1    569964              2       NaN    fiumark_palermo   \n",
       "...               ...       ...            ...       ...                ...   \n",
       "448                 0    3359;6              3       NaN    fiumark_palermo   \n",
       "636                 0    45988:              2       NaN    fiumark_palermo   \n",
       "848                 0    56;435              1       NaN  fiumark_chacarita   \n",
       "304                 0    4487;5              2  adelante    fiumark_quilmes   \n",
       "385                 0    56;449              1       NaN    fiumark_palermo   \n",
       "\n",
       "            volveria  \n",
       "id_usuario            \n",
       "117                0  \n",
       "658                0  \n",
       "794                0  \n",
       "455                0  \n",
       "173                1  \n",
       "...              ...  \n",
       "448                1  \n",
       "636                1  \n",
       "848                0  \n",
       "304                1  \n",
       "385                0  \n",
       "\n",
       "[801 rows x 11 columns]"
      ]
     },
     "execution_count": 4,
     "metadata": {},
     "output_type": "execute_result"
    }
   ],
   "source": [
    "df_joined = df_usuario.join(df_volvera.set_index('id_usuario'), on='id_usuario', how='inner').set_index('id_usuario')\n",
    "df = df_joined.copy()\n",
    "df"
   ]
  },
  {
   "cell_type": "markdown",
   "metadata": {},
   "source": [
    "# Análisis de Datos"
   ]
  },
  {
   "cell_type": "markdown",
   "metadata": {},
   "source": [
    "## Columnas con información duplicada\n",
    "\n",
    "En este paso vamos a tratar de averiguar si tenemos información duplicada. El siguiente comando nos mostrara si existen filas exactamente iguales en la encuesta."
   ]
  },
  {
   "cell_type": "code",
   "execution_count": 5,
   "metadata": {},
   "outputs": [
    {
     "data": {
      "text/html": [
       "<div>\n",
       "<style scoped>\n",
       "    .dataframe tbody tr th:only-of-type {\n",
       "        vertical-align: middle;\n",
       "    }\n",
       "\n",
       "    .dataframe tbody tr th {\n",
       "        vertical-align: top;\n",
       "    }\n",
       "\n",
       "    .dataframe thead th {\n",
       "        text-align: right;\n",
       "    }\n",
       "</style>\n",
       "<table border=\"1\" class=\"dataframe\">\n",
       "  <thead>\n",
       "    <tr style=\"text-align: right;\">\n",
       "      <th></th>\n",
       "      <th>tipo_de_sala</th>\n",
       "      <th>nombre</th>\n",
       "      <th>genero</th>\n",
       "      <th>edad</th>\n",
       "      <th>amigos</th>\n",
       "      <th>parientes</th>\n",
       "      <th>id_ticket</th>\n",
       "      <th>precio_ticket</th>\n",
       "      <th>fila</th>\n",
       "      <th>nombre_sede</th>\n",
       "      <th>volveria</th>\n",
       "    </tr>\n",
       "    <tr>\n",
       "      <th>id_usuario</th>\n",
       "      <th></th>\n",
       "      <th></th>\n",
       "      <th></th>\n",
       "      <th></th>\n",
       "      <th></th>\n",
       "      <th></th>\n",
       "      <th></th>\n",
       "      <th></th>\n",
       "      <th></th>\n",
       "      <th></th>\n",
       "      <th></th>\n",
       "    </tr>\n",
       "  </thead>\n",
       "  <tbody>\n",
       "  </tbody>\n",
       "</table>\n",
       "</div>"
      ],
      "text/plain": [
       "Empty DataFrame\n",
       "Columns: [tipo_de_sala, nombre, genero, edad, amigos, parientes, id_ticket, precio_ticket, fila, nombre_sede, volveria]\n",
       "Index: []"
      ]
     },
     "execution_count": 5,
     "metadata": {},
     "output_type": "execute_result"
    }
   ],
   "source": [
    "df[df.duplicated(keep=False)]"
   ]
  },
  {
   "cell_type": "markdown",
   "metadata": {},
   "source": [
    "Lo bueno de la verifcación anterior es que sabemos que no existio multiples respuestas exactamente iguales."
   ]
  },
  {
   "cell_type": "markdown",
   "metadata": {},
   "source": [
    "## Columnas con ausencia de información\n",
    "\n",
    "El objetivo de este análisis es poder entender cuales son las columnas que poseen faltante de información."
   ]
  },
  {
   "cell_type": "code",
   "execution_count": 6,
   "metadata": {},
   "outputs": [
    {
     "name": "stdout",
     "output_type": "stream",
     "text": [
      "Column has simbol: ' - '\n",
      "tipo_de_sala     False\n",
      "nombre           False\n",
      "genero           False\n",
      "edad             False\n",
      "amigos           False\n",
      "parientes        False\n",
      "id_ticket        False\n",
      "precio_ticket    False\n",
      "fila             False\n",
      "nombre_sede      False\n",
      "volveria         False\n",
      "dtype: bool\n",
      "Column has simbol: '  '\n",
      "tipo_de_sala     False\n",
      "nombre           False\n",
      "genero           False\n",
      "edad             False\n",
      "amigos           False\n",
      "parientes        False\n",
      "id_ticket        False\n",
      "precio_ticket    False\n",
      "fila             False\n",
      "nombre_sede      False\n",
      "volveria         False\n",
      "dtype: bool\n",
      "Column has simbol: ' _ '\n",
      "tipo_de_sala     False\n",
      "nombre           False\n",
      "genero           False\n",
      "edad             False\n",
      "amigos           False\n",
      "parientes        False\n",
      "id_ticket        False\n",
      "precio_ticket    False\n",
      "fila             False\n",
      "nombre_sede      False\n",
      "volveria         False\n",
      "dtype: bool\n"
     ]
    }
   ],
   "source": [
    "simbols = [\"-\",\"\",\"_\"]\n",
    "for c in simbols:\n",
    "    print(\"Column has simbol: '\",c,\"'\")\n",
    "    print(df.astype('str').eq(c).any())"
   ]
  },
  {
   "cell_type": "markdown",
   "metadata": {},
   "source": [
    "Viendo el resultado anterior, sabemos que no existen caracteres especiales que puedan representar la ausencia de valor distinto a NaN.\n",
    "\n",
    "A continuación, analizaremos las tablas con valores númericos. En la columna `edad` deberemos considerar como inválido cualquier valor menor o igual a cero. mientras que las columnas numéricas `amigos` `parientes` `precio_ticket` `volveria`, un valor menor a cero sería invalido."
   ]
  },
  {
   "cell_type": "code",
   "execution_count": 7,
   "metadata": {},
   "outputs": [
    {
     "data": {
      "text/plain": [
       "False"
      ]
     },
     "execution_count": 7,
     "metadata": {},
     "output_type": "execute_result"
    }
   ],
   "source": [
    "(df['edad'] <= 0).any()"
   ]
  },
  {
   "cell_type": "code",
   "execution_count": 8,
   "metadata": {},
   "outputs": [
    {
     "data": {
      "text/plain": [
       "amigos           False\n",
       "parientes        False\n",
       "precio_ticket    False\n",
       "volveria         False\n",
       "dtype: bool"
      ]
     },
     "execution_count": 8,
     "metadata": {},
     "output_type": "execute_result"
    }
   ],
   "source": [
    "columnas_con_numeros = ['amigos', 'parientes', 'precio_ticket', 'volveria']\n",
    "(df[columnas_con_numeros] < 0).any()"
   ]
  },
  {
   "cell_type": "markdown",
   "metadata": {},
   "source": [
    "Por lo visto de analizar la información, no tenemos casos extraños de respuestas que requieran de un análisis particular. Sin embargo, nos queda una verificacición de reelevancia como lo es verificar valores en `null`."
   ]
  },
  {
   "cell_type": "code",
   "execution_count": 9,
   "metadata": {},
   "outputs": [
    {
     "data": {
      "text/plain": [
       "tipo_de_sala       0\n",
       "nombre             0\n",
       "genero             0\n",
       "edad             160\n",
       "amigos             0\n",
       "parientes          0\n",
       "id_ticket          0\n",
       "precio_ticket      0\n",
       "fila             624\n",
       "nombre_sede        2\n",
       "volveria           0\n",
       "dtype: int64"
      ]
     },
     "execution_count": 9,
     "metadata": {},
     "output_type": "execute_result"
    }
   ],
   "source": [
    "df.isnull().sum()"
   ]
  },
  {
   "cell_type": "markdown",
   "metadata": {},
   "source": [
    "Como podemos ver de este último comando, la columna `fila` posee unos 624 nulls de los 801 valores. Adicionalmente, la segunda columna con poca información es la columna edad. A continuación calcularemos el porcentaje de que ausencia de valor de dichas columnas."
   ]
  },
  {
   "cell_type": "code",
   "execution_count": 10,
   "metadata": {},
   "outputs": [
    {
     "data": {
      "text/html": [
       "<div>\n",
       "<style scoped>\n",
       "    .dataframe tbody tr th:only-of-type {\n",
       "        vertical-align: middle;\n",
       "    }\n",
       "\n",
       "    .dataframe tbody tr th {\n",
       "        vertical-align: top;\n",
       "    }\n",
       "\n",
       "    .dataframe thead th {\n",
       "        text-align: right;\n",
       "    }\n",
       "</style>\n",
       "<table border=\"1\" class=\"dataframe\">\n",
       "  <thead>\n",
       "    <tr style=\"text-align: right;\">\n",
       "      <th></th>\n",
       "      <th>porcentaje nulls</th>\n",
       "    </tr>\n",
       "  </thead>\n",
       "  <tbody>\n",
       "    <tr>\n",
       "      <th>tipo_de_sala</th>\n",
       "      <td>0.000000</td>\n",
       "    </tr>\n",
       "    <tr>\n",
       "      <th>nombre</th>\n",
       "      <td>0.000000</td>\n",
       "    </tr>\n",
       "    <tr>\n",
       "      <th>genero</th>\n",
       "      <td>0.000000</td>\n",
       "    </tr>\n",
       "    <tr>\n",
       "      <th>edad</th>\n",
       "      <td>19.975031</td>\n",
       "    </tr>\n",
       "    <tr>\n",
       "      <th>amigos</th>\n",
       "      <td>0.000000</td>\n",
       "    </tr>\n",
       "    <tr>\n",
       "      <th>parientes</th>\n",
       "      <td>0.000000</td>\n",
       "    </tr>\n",
       "    <tr>\n",
       "      <th>id_ticket</th>\n",
       "      <td>0.000000</td>\n",
       "    </tr>\n",
       "    <tr>\n",
       "      <th>precio_ticket</th>\n",
       "      <td>0.000000</td>\n",
       "    </tr>\n",
       "    <tr>\n",
       "      <th>fila</th>\n",
       "      <td>77.902622</td>\n",
       "    </tr>\n",
       "    <tr>\n",
       "      <th>nombre_sede</th>\n",
       "      <td>0.249688</td>\n",
       "    </tr>\n",
       "    <tr>\n",
       "      <th>volveria</th>\n",
       "      <td>0.000000</td>\n",
       "    </tr>\n",
       "  </tbody>\n",
       "</table>\n",
       "</div>"
      ],
      "text/plain": [
       "               porcentaje nulls\n",
       "tipo_de_sala           0.000000\n",
       "nombre                 0.000000\n",
       "genero                 0.000000\n",
       "edad                  19.975031\n",
       "amigos                 0.000000\n",
       "parientes              0.000000\n",
       "id_ticket              0.000000\n",
       "precio_ticket          0.000000\n",
       "fila                  77.902622\n",
       "nombre_sede            0.249688\n",
       "volveria               0.000000"
      ]
     },
     "execution_count": 10,
     "metadata": {},
     "output_type": "execute_result"
    }
   ],
   "source": [
    "(df.isnull().mean()*100).to_frame('porcentaje nulls')"
   ]
  },
  {
   "cell_type": "markdown",
   "metadata": {},
   "source": [
    "Viendo estos valores, podemos observar que en la columna `fila` que representa la fila donde se sento el cliente al ver la pelicula tiene un 78% de ausencia de información. En cuanto a la columna `edad`, encontramos un 20% de faltante de información. \n",
    "\n",
    "Es importante mencionar tambien que la columna `nombre_sede` tiene algunos valores en null por lo que deberemos tomar una decisión de que hacer con dichas entradas. En este paso vamos consultar si tenemos alguna fila duplicada. El siguiente comando nos mostrara si existen respuestas exactamente iguales en la encuesta. **TODO: Mencionar que hicimos con las variables nulas de sede.**"
   ]
  },
  {
   "cell_type": "markdown",
   "metadata": {},
   "source": [
    "## Funciones para el Analisis de cada Columna"
   ]
  },
  {
   "cell_type": "markdown",
   "metadata": {},
   "source": [
    "La función `porcentajeVolveria` nos servira para poder obtener los porcentajes que volverian basados en un agrupamiento."
   ]
  },
  {
   "cell_type": "code",
   "execution_count": 11,
   "metadata": {},
   "outputs": [],
   "source": [
    "def porcentajeVolveria(group):\n",
    "    return (group == 1).mean() * 100.0"
   ]
  },
  {
   "cell_type": "markdown",
   "metadata": {},
   "source": [
    "## Análisis de la columna \"nombre\" y \"numero_de_ticket\""
   ]
  },
  {
   "cell_type": "markdown",
   "metadata": {},
   "source": [
    "Consideramos que el análisis de nombres y de los números de tickets son irrelevantes para determinar una relación que sirva a fiumark para determinar si la persona volveria ó no.\n",
    "\n",
    "Analizar estas variables podría conducir a correlaciones espurias con la variable target."
   ]
  },
  {
   "cell_type": "markdown",
   "metadata": {},
   "source": [
    "## Analisis de la columna \"Fila\"\n",
    "\n",
    "En este inciso analizaremos la columna `Fila`. Como vimos anteriormente, es una columna con muchos valores vacios. Es importante poder ver que hacer con dichos valores o si la columna tiene algo de información que nos pueda ser util. "
   ]
  },
  {
   "cell_type": "code",
   "execution_count": 12,
   "metadata": {},
   "outputs": [
    {
     "data": {
      "text/html": [
       "<div>\n",
       "<style scoped>\n",
       "    .dataframe tbody tr th:only-of-type {\n",
       "        vertical-align: middle;\n",
       "    }\n",
       "\n",
       "    .dataframe tbody tr th {\n",
       "        vertical-align: top;\n",
       "    }\n",
       "\n",
       "    .dataframe thead th {\n",
       "        text-align: right;\n",
       "    }\n",
       "</style>\n",
       "<table border=\"1\" class=\"dataframe\">\n",
       "  <thead>\n",
       "    <tr style=\"text-align: right;\">\n",
       "      <th></th>\n",
       "      <th>volveria</th>\n",
       "    </tr>\n",
       "    <tr>\n",
       "      <th>fila</th>\n",
       "      <th></th>\n",
       "    </tr>\n",
       "  </thead>\n",
       "  <tbody>\n",
       "    <tr>\n",
       "      <th>adelante</th>\n",
       "      <td>68.902439</td>\n",
       "    </tr>\n",
       "    <tr>\n",
       "      <th>medio</th>\n",
       "      <td>53.846154</td>\n",
       "    </tr>\n",
       "  </tbody>\n",
       "</table>\n",
       "</div>"
      ],
      "text/plain": [
       "           volveria\n",
       "fila               \n",
       "adelante  68.902439\n",
       "medio     53.846154"
      ]
     },
     "execution_count": 12,
     "metadata": {},
     "output_type": "execute_result"
    }
   ],
   "source": [
    "volveria_por_fila = df.groupby(by='fila').agg({\n",
    "        \"volveria\" : porcentajeVolveria,       \n",
    "})\n",
    "volveria_por_fila"
   ]
  },
  {
   "cell_type": "code",
   "execution_count": 13,
   "metadata": {},
   "outputs": [
    {
     "data": {
      "text/plain": [
       "Text(0.5, 1.0, 'Volverian segun la fila')"
      ]
     },
     "execution_count": 13,
     "metadata": {},
     "output_type": "execute_result"
    },
    {
     "data": {
      "image/png": "[encoded data removed]",
      "text/plain": [
       "<Figure size 600x400 with 1 Axes>"
      ]
     },
     "metadata": {
      "needs_background": "light"
     },
     "output_type": "display_data"
    }
   ],
   "source": [
    "plt.figure(dpi=100)\n",
    "sns.countplot(data=df, x='fila', hue='volveria', palette={0: '#FF5555', 1: '#44EE44'},orient=\"vertical\")\n",
    "plt.ylabel(\"Cantidad\")\n",
    "plt.xlabel(\"Fila del Asiento donde vio Frozen 3\")\n",
    "plt.title(\"Volverian segun la fila\")"
   ]
  },
  {
   "cell_type": "markdown",
   "metadata": {},
   "source": [
    "Además del gran cantidad de ausencia de información acerca de dicha variable, lo que vemos es que la gran mayoría que contesto dijo que lo hizo en filas de adelante, lo que en principio nos dificulta poder hacer una diferencia entre los dos valores que tenemos que nos pueda determinar concretamente una relación entre el lugar donde se sento y la preferencia para volver.\n",
    "\n",
    "Teniendo esto en cuenta, y que no podemos inferir un valor para reemplazar en las ausencias, vamos a proceder a descartar dicha columna de nuestros analisis."
   ]
  },
  {
   "cell_type": "code",
   "execution_count": 14,
   "metadata": {},
   "outputs": [
    {
     "data": {
      "text/html": [
       "<div>\n",
       "<style scoped>\n",
       "    .dataframe tbody tr th:only-of-type {\n",
       "        vertical-align: middle;\n",
       "    }\n",
       "\n",
       "    .dataframe tbody tr th {\n",
       "        vertical-align: top;\n",
       "    }\n",
       "\n",
       "    .dataframe thead th {\n",
       "        text-align: right;\n",
       "    }\n",
       "</style>\n",
       "<table border=\"1\" class=\"dataframe\">\n",
       "  <thead>\n",
       "    <tr style=\"text-align: right;\">\n",
       "      <th></th>\n",
       "      <th>tipo_de_sala</th>\n",
       "      <th>nombre</th>\n",
       "      <th>genero</th>\n",
       "      <th>edad</th>\n",
       "      <th>amigos</th>\n",
       "      <th>parientes</th>\n",
       "      <th>id_ticket</th>\n",
       "      <th>precio_ticket</th>\n",
       "      <th>nombre_sede</th>\n",
       "      <th>volveria</th>\n",
       "    </tr>\n",
       "    <tr>\n",
       "      <th>id_usuario</th>\n",
       "      <th></th>\n",
       "      <th></th>\n",
       "      <th></th>\n",
       "      <th></th>\n",
       "      <th></th>\n",
       "      <th></th>\n",
       "      <th></th>\n",
       "      <th></th>\n",
       "      <th></th>\n",
       "      <th></th>\n",
       "    </tr>\n",
       "  </thead>\n",
       "  <tbody>\n",
       "    <tr>\n",
       "      <th>117</th>\n",
       "      <td>4d</td>\n",
       "      <td>Señor Camilo Pedro</td>\n",
       "      <td>hombre</td>\n",
       "      <td>73.5</td>\n",
       "      <td>0</td>\n",
       "      <td>0</td>\n",
       "      <td>59258;</td>\n",
       "      <td>1</td>\n",
       "      <td>fiumark_quilmes</td>\n",
       "      <td>0</td>\n",
       "    </tr>\n",
       "    <tr>\n",
       "      <th>658</th>\n",
       "      <td>4d</td>\n",
       "      <td>Señora Raquel Angelica</td>\n",
       "      <td>mujer</td>\n",
       "      <td>35.0</td>\n",
       "      <td>1</td>\n",
       "      <td>1</td>\n",
       "      <td>586:6;</td>\n",
       "      <td>2</td>\n",
       "      <td>fiumark_quilmes</td>\n",
       "      <td>0</td>\n",
       "    </tr>\n",
       "    <tr>\n",
       "      <th>794</th>\n",
       "      <td>normal</td>\n",
       "      <td>Señor Antonio Federico</td>\n",
       "      <td>hombre</td>\n",
       "      <td>NaN</td>\n",
       "      <td>0</td>\n",
       "      <td>0</td>\n",
       "      <td>RE\"39822</td>\n",
       "      <td>3</td>\n",
       "      <td>fiumark_chacarita</td>\n",
       "      <td>0</td>\n",
       "    </tr>\n",
       "    <tr>\n",
       "      <th>455</th>\n",
       "      <td>4d</td>\n",
       "      <td>Señor Osvaldo Aureliano</td>\n",
       "      <td>hombre</td>\n",
       "      <td>NaN</td>\n",
       "      <td>0</td>\n",
       "      <td>0</td>\n",
       "      <td>C17\"4:39</td>\n",
       "      <td>1</td>\n",
       "      <td>fiumark_palermo</td>\n",
       "      <td>0</td>\n",
       "    </tr>\n",
       "    <tr>\n",
       "      <th>173</th>\n",
       "      <td>4d</td>\n",
       "      <td>Señorita Rita Eudosia</td>\n",
       "      <td>mujer</td>\n",
       "      <td>4.0</td>\n",
       "      <td>1</td>\n",
       "      <td>1</td>\n",
       "      <td>569964</td>\n",
       "      <td>2</td>\n",
       "      <td>fiumark_palermo</td>\n",
       "      <td>1</td>\n",
       "    </tr>\n",
       "    <tr>\n",
       "      <th>...</th>\n",
       "      <td>...</td>\n",
       "      <td>...</td>\n",
       "      <td>...</td>\n",
       "      <td>...</td>\n",
       "      <td>...</td>\n",
       "      <td>...</td>\n",
       "      <td>...</td>\n",
       "      <td>...</td>\n",
       "      <td>...</td>\n",
       "      <td>...</td>\n",
       "    </tr>\n",
       "    <tr>\n",
       "      <th>448</th>\n",
       "      <td>normal</td>\n",
       "      <td>Señor Bernardo Melesio</td>\n",
       "      <td>hombre</td>\n",
       "      <td>37.0</td>\n",
       "      <td>0</td>\n",
       "      <td>0</td>\n",
       "      <td>3359;6</td>\n",
       "      <td>3</td>\n",
       "      <td>fiumark_palermo</td>\n",
       "      <td>1</td>\n",
       "    </tr>\n",
       "    <tr>\n",
       "      <th>636</th>\n",
       "      <td>3d</td>\n",
       "      <td>Señorita Lidia Catalina</td>\n",
       "      <td>mujer</td>\n",
       "      <td>31.0</td>\n",
       "      <td>0</td>\n",
       "      <td>0</td>\n",
       "      <td>45988:</td>\n",
       "      <td>2</td>\n",
       "      <td>fiumark_palermo</td>\n",
       "      <td>1</td>\n",
       "    </tr>\n",
       "    <tr>\n",
       "      <th>848</th>\n",
       "      <td>4d</td>\n",
       "      <td>Señor Arturo Antenor</td>\n",
       "      <td>hombre</td>\n",
       "      <td>38.0</td>\n",
       "      <td>0</td>\n",
       "      <td>0</td>\n",
       "      <td>56;435</td>\n",
       "      <td>1</td>\n",
       "      <td>fiumark_chacarita</td>\n",
       "      <td>0</td>\n",
       "    </tr>\n",
       "    <tr>\n",
       "      <th>304</th>\n",
       "      <td>3d</td>\n",
       "      <td>Señorita Natividad Sofia</td>\n",
       "      <td>mujer</td>\n",
       "      <td>NaN</td>\n",
       "      <td>0</td>\n",
       "      <td>0</td>\n",
       "      <td>4487;5</td>\n",
       "      <td>2</td>\n",
       "      <td>fiumark_quilmes</td>\n",
       "      <td>1</td>\n",
       "    </tr>\n",
       "    <tr>\n",
       "      <th>385</th>\n",
       "      <td>4d</td>\n",
       "      <td>Señor Isidoro Sebastian</td>\n",
       "      <td>hombre</td>\n",
       "      <td>NaN</td>\n",
       "      <td>0</td>\n",
       "      <td>0</td>\n",
       "      <td>56;449</td>\n",
       "      <td>1</td>\n",
       "      <td>fiumark_palermo</td>\n",
       "      <td>0</td>\n",
       "    </tr>\n",
       "  </tbody>\n",
       "</table>\n",
       "<p>801 rows × 10 columns</p>\n",
       "</div>"
      ],
      "text/plain": [
       "           tipo_de_sala                    nombre  genero  edad  amigos  \\\n",
       "id_usuario                                                                \n",
       "117                  4d        Señor Camilo Pedro  hombre  73.5       0   \n",
       "658                  4d    Señora Raquel Angelica   mujer  35.0       1   \n",
       "794              normal    Señor Antonio Federico  hombre   NaN       0   \n",
       "455                  4d   Señor Osvaldo Aureliano  hombre   NaN       0   \n",
       "173                  4d     Señorita Rita Eudosia   mujer   4.0       1   \n",
       "...                 ...                       ...     ...   ...     ...   \n",
       "448              normal    Señor Bernardo Melesio  hombre  37.0       0   \n",
       "636                  3d   Señorita Lidia Catalina   mujer  31.0       0   \n",
       "848                  4d      Señor Arturo Antenor  hombre  38.0       0   \n",
       "304                  3d  Señorita Natividad Sofia   mujer   NaN       0   \n",
       "385                  4d   Señor Isidoro Sebastian  hombre   NaN       0   \n",
       "\n",
       "            parientes id_ticket  precio_ticket        nombre_sede  volveria  \n",
       "id_usuario                                                                   \n",
       "117                 0    59258;              1    fiumark_quilmes         0  \n",
       "658                 1    586:6;              2    fiumark_quilmes         0  \n",
       "794                 0  RE\"39822              3  fiumark_chacarita         0  \n",
       "455                 0  C17\"4:39              1    fiumark_palermo         0  \n",
       "173                 1    569964              2    fiumark_palermo         1  \n",
       "...               ...       ...            ...                ...       ...  \n",
       "448                 0    3359;6              3    fiumark_palermo         1  \n",
       "636                 0    45988:              2    fiumark_palermo         1  \n",
       "848                 0    56;435              1  fiumark_chacarita         0  \n",
       "304                 0    4487;5              2    fiumark_quilmes         1  \n",
       "385                 0    56;449              1    fiumark_palermo         0  \n",
       "\n",
       "[801 rows x 10 columns]"
      ]
     },
     "execution_count": 14,
     "metadata": {},
     "output_type": "execute_result"
    }
   ],
   "source": [
    "df.drop(columns=['fila'],inplace=True)\n",
    "df"
   ]
  },
  {
   "cell_type": "markdown",
   "metadata": {},
   "source": [
    "## Analisis de la columna \"Edad\""
   ]
  },
  {
   "cell_type": "markdown",
   "metadata": {},
   "source": [
    "Reutilizaremos la función definida anteriomente para analizar la columna edad."
   ]
  },
  {
   "cell_type": "code",
   "execution_count": 15,
   "metadata": {},
   "outputs": [
    {
     "data": {
      "text/html": [
       "<div>\n",
       "<style scoped>\n",
       "    .dataframe tbody tr th:only-of-type {\n",
       "        vertical-align: middle;\n",
       "    }\n",
       "\n",
       "    .dataframe tbody tr th {\n",
       "        vertical-align: top;\n",
       "    }\n",
       "\n",
       "    .dataframe thead th {\n",
       "        text-align: right;\n",
       "    }\n",
       "</style>\n",
       "<table border=\"1\" class=\"dataframe\">\n",
       "  <thead>\n",
       "    <tr style=\"text-align: right;\">\n",
       "      <th></th>\n",
       "      <th>volveria</th>\n",
       "    </tr>\n",
       "    <tr>\n",
       "      <th>edad</th>\n",
       "      <th></th>\n",
       "    </tr>\n",
       "  </thead>\n",
       "  <tbody>\n",
       "    <tr>\n",
       "      <th>3.42</th>\n",
       "      <td>100.000000</td>\n",
       "    </tr>\n",
       "    <tr>\n",
       "      <th>3.67</th>\n",
       "      <td>100.000000</td>\n",
       "    </tr>\n",
       "    <tr>\n",
       "      <th>3.75</th>\n",
       "      <td>100.000000</td>\n",
       "    </tr>\n",
       "    <tr>\n",
       "      <th>3.83</th>\n",
       "      <td>100.000000</td>\n",
       "    </tr>\n",
       "    <tr>\n",
       "      <th>4.00</th>\n",
       "      <td>71.428571</td>\n",
       "    </tr>\n",
       "    <tr>\n",
       "      <th>...</th>\n",
       "      <td>...</td>\n",
       "    </tr>\n",
       "    <tr>\n",
       "      <th>73.00</th>\n",
       "      <td>0.000000</td>\n",
       "    </tr>\n",
       "    <tr>\n",
       "      <th>73.50</th>\n",
       "      <td>0.000000</td>\n",
       "    </tr>\n",
       "    <tr>\n",
       "      <th>74.00</th>\n",
       "      <td>0.000000</td>\n",
       "    </tr>\n",
       "    <tr>\n",
       "      <th>77.00</th>\n",
       "      <td>0.000000</td>\n",
       "    </tr>\n",
       "    <tr>\n",
       "      <th>83.00</th>\n",
       "      <td>100.000000</td>\n",
       "    </tr>\n",
       "  </tbody>\n",
       "</table>\n",
       "<p>84 rows × 1 columns</p>\n",
       "</div>"
      ],
      "text/plain": [
       "         volveria\n",
       "edad             \n",
       "3.42   100.000000\n",
       "3.67   100.000000\n",
       "3.75   100.000000\n",
       "3.83   100.000000\n",
       "4.00    71.428571\n",
       "...           ...\n",
       "73.00    0.000000\n",
       "73.50    0.000000\n",
       "74.00    0.000000\n",
       "77.00    0.000000\n",
       "83.00  100.000000\n",
       "\n",
       "[84 rows x 1 columns]"
      ]
     },
     "execution_count": 15,
     "metadata": {},
     "output_type": "execute_result"
    }
   ],
   "source": [
    "volveria_por_edad = df.groupby(by='edad').agg({\n",
    "        \"volveria\" : porcentajeVolveria,       \n",
    "})\n",
    "volveria_por_edad"
   ]
  },
  {
   "cell_type": "markdown",
   "metadata": {},
   "source": [
    "En un primer analisis sobre las edades, podemos observar valores decimales lo cual genera demasiados valores posibles para dicha variable. Para poder optimizar los calculos, vamos a generar una categoría agrupando de a 10 años tomando su digito mas significativo. Ejemplo, todos aquellos que respondieron que tienen entre 20 y 30 años, estaran categorizados como 2."
   ]
  },
  {
   "cell_type": "code",
   "execution_count": 16,
   "metadata": {},
   "outputs": [
    {
     "data": {
      "text/html": [
       "<div>\n",
       "<style scoped>\n",
       "    .dataframe tbody tr th:only-of-type {\n",
       "        vertical-align: middle;\n",
       "    }\n",
       "\n",
       "    .dataframe tbody tr th {\n",
       "        vertical-align: top;\n",
       "    }\n",
       "\n",
       "    .dataframe thead th {\n",
       "        text-align: right;\n",
       "    }\n",
       "</style>\n",
       "<table border=\"1\" class=\"dataframe\">\n",
       "  <thead>\n",
       "    <tr style=\"text-align: right;\">\n",
       "      <th></th>\n",
       "      <th>tipo_de_sala</th>\n",
       "      <th>nombre</th>\n",
       "      <th>genero</th>\n",
       "      <th>edad</th>\n",
       "      <th>amigos</th>\n",
       "      <th>parientes</th>\n",
       "      <th>id_ticket</th>\n",
       "      <th>precio_ticket</th>\n",
       "      <th>nombre_sede</th>\n",
       "      <th>volveria</th>\n",
       "      <th>edad_categorizada</th>\n",
       "    </tr>\n",
       "    <tr>\n",
       "      <th>id_usuario</th>\n",
       "      <th></th>\n",
       "      <th></th>\n",
       "      <th></th>\n",
       "      <th></th>\n",
       "      <th></th>\n",
       "      <th></th>\n",
       "      <th></th>\n",
       "      <th></th>\n",
       "      <th></th>\n",
       "      <th></th>\n",
       "      <th></th>\n",
       "    </tr>\n",
       "  </thead>\n",
       "  <tbody>\n",
       "    <tr>\n",
       "      <th>117</th>\n",
       "      <td>4d</td>\n",
       "      <td>Señor Camilo Pedro</td>\n",
       "      <td>hombre</td>\n",
       "      <td>73.5</td>\n",
       "      <td>0</td>\n",
       "      <td>0</td>\n",
       "      <td>59258;</td>\n",
       "      <td>1</td>\n",
       "      <td>fiumark_quilmes</td>\n",
       "      <td>0</td>\n",
       "      <td>7.0</td>\n",
       "    </tr>\n",
       "    <tr>\n",
       "      <th>658</th>\n",
       "      <td>4d</td>\n",
       "      <td>Señora Raquel Angelica</td>\n",
       "      <td>mujer</td>\n",
       "      <td>35.0</td>\n",
       "      <td>1</td>\n",
       "      <td>1</td>\n",
       "      <td>586:6;</td>\n",
       "      <td>2</td>\n",
       "      <td>fiumark_quilmes</td>\n",
       "      <td>0</td>\n",
       "      <td>4.0</td>\n",
       "    </tr>\n",
       "    <tr>\n",
       "      <th>794</th>\n",
       "      <td>normal</td>\n",
       "      <td>Señor Antonio Federico</td>\n",
       "      <td>hombre</td>\n",
       "      <td>NaN</td>\n",
       "      <td>0</td>\n",
       "      <td>0</td>\n",
       "      <td>RE\"39822</td>\n",
       "      <td>3</td>\n",
       "      <td>fiumark_chacarita</td>\n",
       "      <td>0</td>\n",
       "      <td>NaN</td>\n",
       "    </tr>\n",
       "    <tr>\n",
       "      <th>455</th>\n",
       "      <td>4d</td>\n",
       "      <td>Señor Osvaldo Aureliano</td>\n",
       "      <td>hombre</td>\n",
       "      <td>NaN</td>\n",
       "      <td>0</td>\n",
       "      <td>0</td>\n",
       "      <td>C17\"4:39</td>\n",
       "      <td>1</td>\n",
       "      <td>fiumark_palermo</td>\n",
       "      <td>0</td>\n",
       "      <td>NaN</td>\n",
       "    </tr>\n",
       "    <tr>\n",
       "      <th>173</th>\n",
       "      <td>4d</td>\n",
       "      <td>Señorita Rita Eudosia</td>\n",
       "      <td>mujer</td>\n",
       "      <td>4.0</td>\n",
       "      <td>1</td>\n",
       "      <td>1</td>\n",
       "      <td>569964</td>\n",
       "      <td>2</td>\n",
       "      <td>fiumark_palermo</td>\n",
       "      <td>1</td>\n",
       "      <td>0.0</td>\n",
       "    </tr>\n",
       "    <tr>\n",
       "      <th>...</th>\n",
       "      <td>...</td>\n",
       "      <td>...</td>\n",
       "      <td>...</td>\n",
       "      <td>...</td>\n",
       "      <td>...</td>\n",
       "      <td>...</td>\n",
       "      <td>...</td>\n",
       "      <td>...</td>\n",
       "      <td>...</td>\n",
       "      <td>...</td>\n",
       "      <td>...</td>\n",
       "    </tr>\n",
       "    <tr>\n",
       "      <th>448</th>\n",
       "      <td>normal</td>\n",
       "      <td>Señor Bernardo Melesio</td>\n",
       "      <td>hombre</td>\n",
       "      <td>37.0</td>\n",
       "      <td>0</td>\n",
       "      <td>0</td>\n",
       "      <td>3359;6</td>\n",
       "      <td>3</td>\n",
       "      <td>fiumark_palermo</td>\n",
       "      <td>1</td>\n",
       "      <td>4.0</td>\n",
       "    </tr>\n",
       "    <tr>\n",
       "      <th>636</th>\n",
       "      <td>3d</td>\n",
       "      <td>Señorita Lidia Catalina</td>\n",
       "      <td>mujer</td>\n",
       "      <td>31.0</td>\n",
       "      <td>0</td>\n",
       "      <td>0</td>\n",
       "      <td>45988:</td>\n",
       "      <td>2</td>\n",
       "      <td>fiumark_palermo</td>\n",
       "      <td>1</td>\n",
       "      <td>3.0</td>\n",
       "    </tr>\n",
       "    <tr>\n",
       "      <th>848</th>\n",
       "      <td>4d</td>\n",
       "      <td>Señor Arturo Antenor</td>\n",
       "      <td>hombre</td>\n",
       "      <td>38.0</td>\n",
       "      <td>0</td>\n",
       "      <td>0</td>\n",
       "      <td>56;435</td>\n",
       "      <td>1</td>\n",
       "      <td>fiumark_chacarita</td>\n",
       "      <td>0</td>\n",
       "      <td>4.0</td>\n",
       "    </tr>\n",
       "    <tr>\n",
       "      <th>304</th>\n",
       "      <td>3d</td>\n",
       "      <td>Señorita Natividad Sofia</td>\n",
       "      <td>mujer</td>\n",
       "      <td>NaN</td>\n",
       "      <td>0</td>\n",
       "      <td>0</td>\n",
       "      <td>4487;5</td>\n",
       "      <td>2</td>\n",
       "      <td>fiumark_quilmes</td>\n",
       "      <td>1</td>\n",
       "      <td>NaN</td>\n",
       "    </tr>\n",
       "    <tr>\n",
       "      <th>385</th>\n",
       "      <td>4d</td>\n",
       "      <td>Señor Isidoro Sebastian</td>\n",
       "      <td>hombre</td>\n",
       "      <td>NaN</td>\n",
       "      <td>0</td>\n",
       "      <td>0</td>\n",
       "      <td>56;449</td>\n",
       "      <td>1</td>\n",
       "      <td>fiumark_palermo</td>\n",
       "      <td>0</td>\n",
       "      <td>NaN</td>\n",
       "    </tr>\n",
       "  </tbody>\n",
       "</table>\n",
       "<p>801 rows × 11 columns</p>\n",
       "</div>"
      ],
      "text/plain": [
       "           tipo_de_sala                    nombre  genero  edad  amigos  \\\n",
       "id_usuario                                                                \n",
       "117                  4d        Señor Camilo Pedro  hombre  73.5       0   \n",
       "658                  4d    Señora Raquel Angelica   mujer  35.0       1   \n",
       "794              normal    Señor Antonio Federico  hombre   NaN       0   \n",
       "455                  4d   Señor Osvaldo Aureliano  hombre   NaN       0   \n",
       "173                  4d     Señorita Rita Eudosia   mujer   4.0       1   \n",
       "...                 ...                       ...     ...   ...     ...   \n",
       "448              normal    Señor Bernardo Melesio  hombre  37.0       0   \n",
       "636                  3d   Señorita Lidia Catalina   mujer  31.0       0   \n",
       "848                  4d      Señor Arturo Antenor  hombre  38.0       0   \n",
       "304                  3d  Señorita Natividad Sofia   mujer   NaN       0   \n",
       "385                  4d   Señor Isidoro Sebastian  hombre   NaN       0   \n",
       "\n",
       "            parientes id_ticket  precio_ticket        nombre_sede  volveria  \\\n",
       "id_usuario                                                                    \n",
       "117                 0    59258;              1    fiumark_quilmes         0   \n",
       "658                 1    586:6;              2    fiumark_quilmes         0   \n",
       "794                 0  RE\"39822              3  fiumark_chacarita         0   \n",
       "455                 0  C17\"4:39              1    fiumark_palermo         0   \n",
       "173                 1    569964              2    fiumark_palermo         1   \n",
       "...               ...       ...            ...                ...       ...   \n",
       "448                 0    3359;6              3    fiumark_palermo         1   \n",
       "636                 0    45988:              2    fiumark_palermo         1   \n",
       "848                 0    56;435              1  fiumark_chacarita         0   \n",
       "304                 0    4487;5              2    fiumark_quilmes         1   \n",
       "385                 0    56;449              1    fiumark_palermo         0   \n",
       "\n",
       "            edad_categorizada  \n",
       "id_usuario                     \n",
       "117                       7.0  \n",
       "658                       4.0  \n",
       "794                       NaN  \n",
       "455                       NaN  \n",
       "173                       0.0  \n",
       "...                       ...  \n",
       "448                       4.0  \n",
       "636                       3.0  \n",
       "848                       4.0  \n",
       "304                       NaN  \n",
       "385                       NaN  \n",
       "\n",
       "[801 rows x 11 columns]"
      ]
     },
     "execution_count": 16,
     "metadata": {},
     "output_type": "execute_result"
    }
   ],
   "source": [
    "def categorizarEdad(edad):\n",
    "    if(np.isnan(edad)):\n",
    "        return edad\n",
    "    else:\n",
    "        return int(round(edad/10,0))\n",
    "\n",
    "\n",
    "df['edad_categorizada'] = df.edad.apply(categorizarEdad)\n",
    "df"
   ]
  },
  {
   "cell_type": "code",
   "execution_count": 17,
   "metadata": {},
   "outputs": [
    {
     "data": {
      "text/plain": [
       "Text(0.5, 1.0, 'Volverian segun categoria de edad')"
      ]
     },
     "execution_count": 17,
     "metadata": {},
     "output_type": "execute_result"
    },
    {
     "data": {
      "image/png": "[encoded data removed]",
      "text/plain": [
       "<Figure size 720x480 with 1 Axes>"
      ]
     },
     "metadata": {
      "needs_background": "light"
     },
     "output_type": "display_data"
    }
   ],
   "source": [
    "plt.figure(dpi=120)\n",
    "sns.countplot(data=df, x='edad_categorizada', hue='volveria', palette={0: '#FF5555', 1: '#44EE44'},orient=\"vertical\")\n",
    "plt.ylabel(\"Cantidad\")\n",
    "plt.xticks(rotation='vertical')\n",
    "plt.xlabel(\"Categoria de Edad\")\n",
    "plt.title(\"Volverian segun categoria de edad\")"
   ]
  },
  {
   "cell_type": "markdown",
   "metadata": {},
   "source": [
    "El grafico anterior nos muestra que para personas con edad menor a 20 años, existe ciertos valores que podrian indicar una preferencia por volver. Sin embargo, de 20 años en adelante, en cada categoría la mayoria dice que no volveria. Esto tambien lo podemos observar obteniendo los porcentajes que volverian segun cada categoría."
   ]
  },
  {
   "cell_type": "code",
   "execution_count": 18,
   "metadata": {},
   "outputs": [
    {
     "data": {
      "text/html": [
       "<div>\n",
       "<style scoped>\n",
       "    .dataframe tbody tr th:only-of-type {\n",
       "        vertical-align: middle;\n",
       "    }\n",
       "\n",
       "    .dataframe tbody tr th {\n",
       "        vertical-align: top;\n",
       "    }\n",
       "\n",
       "    .dataframe thead th {\n",
       "        text-align: right;\n",
       "    }\n",
       "</style>\n",
       "<table border=\"1\" class=\"dataframe\">\n",
       "  <thead>\n",
       "    <tr style=\"text-align: right;\">\n",
       "      <th></th>\n",
       "      <th>volveria</th>\n",
       "    </tr>\n",
       "    <tr>\n",
       "      <th>edad_categorizada</th>\n",
       "      <th></th>\n",
       "    </tr>\n",
       "  </thead>\n",
       "  <tbody>\n",
       "    <tr>\n",
       "      <th>0.0</th>\n",
       "      <td>61.904762</td>\n",
       "    </tr>\n",
       "    <tr>\n",
       "      <th>1.0</th>\n",
       "      <td>51.351351</td>\n",
       "    </tr>\n",
       "    <tr>\n",
       "      <th>2.0</th>\n",
       "      <td>37.086093</td>\n",
       "    </tr>\n",
       "    <tr>\n",
       "      <th>3.0</th>\n",
       "      <td>38.636364</td>\n",
       "    </tr>\n",
       "    <tr>\n",
       "      <th>4.0</th>\n",
       "      <td>45.390071</td>\n",
       "    </tr>\n",
       "    <tr>\n",
       "      <th>5.0</th>\n",
       "      <td>36.363636</td>\n",
       "    </tr>\n",
       "    <tr>\n",
       "      <th>6.0</th>\n",
       "      <td>41.666667</td>\n",
       "    </tr>\n",
       "    <tr>\n",
       "      <th>7.0</th>\n",
       "      <td>9.090909</td>\n",
       "    </tr>\n",
       "    <tr>\n",
       "      <th>8.0</th>\n",
       "      <td>50.000000</td>\n",
       "    </tr>\n",
       "  </tbody>\n",
       "</table>\n",
       "</div>"
      ],
      "text/plain": [
       "                    volveria\n",
       "edad_categorizada           \n",
       "0.0                61.904762\n",
       "1.0                51.351351\n",
       "2.0                37.086093\n",
       "3.0                38.636364\n",
       "4.0                45.390071\n",
       "5.0                36.363636\n",
       "6.0                41.666667\n",
       "7.0                 9.090909\n",
       "8.0                50.000000"
      ]
     },
     "execution_count": 18,
     "metadata": {},
     "output_type": "execute_result"
    }
   ],
   "source": [
    "df.groupby(by='edad_categorizada').agg({\n",
    "        \"volveria\" : porcentajeVolveria\n",
    "})"
   ]
  },
  {
   "cell_type": "markdown",
   "metadata": {},
   "source": [
    "## Analisis de la columna \"Genero\""
   ]
  },
  {
   "cell_type": "markdown",
   "metadata": {},
   "source": [
    "Para el analisis por genero, lo primero que trataremos de observa es si existe algun tipo de preferencia entre volver o no dependiendo del mismo."
   ]
  },
  {
   "cell_type": "code",
   "execution_count": 19,
   "metadata": {},
   "outputs": [
    {
     "data": {
      "text/plain": [
       "Text(0.5, 1.0, 'Volverian segun el Genero')"
      ]
     },
     "execution_count": 19,
     "metadata": {},
     "output_type": "execute_result"
    },
    {
     "data": {
      "image/png": "[encoded data removed]",
      "text/plain": [
       "<Figure size 600x400 with 1 Axes>"
      ]
     },
     "metadata": {
      "needs_background": "light"
     },
     "output_type": "display_data"
    }
   ],
   "source": [
    "plt.figure(dpi=100)\n",
    "sns.countplot(data=df, x='genero', hue='volveria', palette={0: '#FF5555', 1: '#44EE44'},orient=\"vertical\")\n",
    "plt.ylabel(\"Cantidad\")\n",
    "plt.xlabel(\"Genero\")\n",
    "plt.title(\"Volverian segun el Genero\")"
   ]
  },
  {
   "cell_type": "markdown",
   "metadata": {},
   "source": [
    "Como podemos observar, existe una relación muy fuerte entre el genero y las respuestas que dieron sobre si volverian o no, teniendo en los hombres una predeterminación a no volver y en las mujeres lo opuesto."
   ]
  },
  {
   "cell_type": "code",
   "execution_count": 20,
   "metadata": {},
   "outputs": [
    {
     "data": {
      "text/html": [
       "<div>\n",
       "<style scoped>\n",
       "    .dataframe tbody tr th:only-of-type {\n",
       "        vertical-align: middle;\n",
       "    }\n",
       "\n",
       "    .dataframe tbody tr th {\n",
       "        vertical-align: top;\n",
       "    }\n",
       "\n",
       "    .dataframe thead th {\n",
       "        text-align: right;\n",
       "    }\n",
       "</style>\n",
       "<table border=\"1\" class=\"dataframe\">\n",
       "  <thead>\n",
       "    <tr style=\"text-align: right;\">\n",
       "      <th></th>\n",
       "      <th>volveria</th>\n",
       "    </tr>\n",
       "    <tr>\n",
       "      <th>genero</th>\n",
       "      <th></th>\n",
       "    </tr>\n",
       "  </thead>\n",
       "  <tbody>\n",
       "    <tr>\n",
       "      <th>hombre</th>\n",
       "      <td>18.323587</td>\n",
       "    </tr>\n",
       "    <tr>\n",
       "      <th>mujer</th>\n",
       "      <td>73.958333</td>\n",
       "    </tr>\n",
       "  </tbody>\n",
       "</table>\n",
       "</div>"
      ],
      "text/plain": [
       "         volveria\n",
       "genero           \n",
       "hombre  18.323587\n",
       "mujer   73.958333"
      ]
     },
     "execution_count": 20,
     "metadata": {},
     "output_type": "execute_result"
    }
   ],
   "source": [
    "df.groupby(by='genero').agg({\n",
    "        \"volveria\" : porcentajeVolveria\n",
    "})"
   ]
  },
  {
   "cell_type": "markdown",
   "metadata": {},
   "source": [
    "Con estos ultimos datos, podemos ver que la tendencia de no regresar de los hombres es mas marcada que la de volver de las mujeres. Aún así, estos valores nos muestran una tendencia muy marcada para cada uno de los generos, lo que nos proporciona una buena variable para iniciar nuestra función de predicción."
   ]
  },
  {
   "cell_type": "markdown",
   "metadata": {},
   "source": [
    "### Anásisis de la columna \"Amigos\"\n",
    "\n",
    "Aquí nos centraremos en ver si existe alguna influencia con la variable target: \"volveria\" respecto a la cantidad de amigos."
   ]
  },
  {
   "cell_type": "code",
   "execution_count": 21,
   "metadata": {},
   "outputs": [
    {
     "data": {
      "image/png": "[encoded data removed]",
      "text/plain": [
       "<Figure size 720x480 with 1 Axes>"
      ]
     },
     "metadata": {
      "needs_background": "light"
     },
     "output_type": "display_data"
    }
   ],
   "source": [
    "plt.figure(dpi=120)\n",
    "sns.countplot(data=df, x='amigos', hue='volveria', palette={0: '#FF5555', 1: '#44EE44'})\n",
    "\n",
    "plt.show()"
   ]
  },
  {
   "cell_type": "markdown",
   "metadata": {},
   "source": [
    "Podemos observar que la cantidad de personas que **no volveria es importante para cuando la persona va sin amigos**, \n",
    "respecto a la cantidad de personas que volverían.\n",
    "\n",
    "Mientras que para las personas que van con 1 amigo ó más, notamos que no hay diferencias marcadas como para tomar una determinación clara sobre si volveria al cine ó no."
   ]
  },
  {
   "cell_type": "markdown",
   "metadata": {},
   "source": [
    "A continuación los porcentajes en valor numérico para cada cantidad de amigos en el df:"
   ]
  },
  {
   "cell_type": "code",
   "execution_count": 22,
   "metadata": {},
   "outputs": [
    {
     "data": {
      "text/html": [
       "<div>\n",
       "<style scoped>\n",
       "    .dataframe tbody tr th:only-of-type {\n",
       "        vertical-align: middle;\n",
       "    }\n",
       "\n",
       "    .dataframe tbody tr th {\n",
       "        vertical-align: top;\n",
       "    }\n",
       "\n",
       "    .dataframe thead th {\n",
       "        text-align: right;\n",
       "    }\n",
       "</style>\n",
       "<table border=\"1\" class=\"dataframe\">\n",
       "  <thead>\n",
       "    <tr style=\"text-align: right;\">\n",
       "      <th></th>\n",
       "      <th>volveria</th>\n",
       "    </tr>\n",
       "    <tr>\n",
       "      <th>amigos</th>\n",
       "      <th></th>\n",
       "    </tr>\n",
       "  </thead>\n",
       "  <tbody>\n",
       "    <tr>\n",
       "      <th>0</th>\n",
       "      <td>34.829443</td>\n",
       "    </tr>\n",
       "    <tr>\n",
       "      <th>1</th>\n",
       "      <td>53.072626</td>\n",
       "    </tr>\n",
       "    <tr>\n",
       "      <th>2</th>\n",
       "      <td>52.000000</td>\n",
       "    </tr>\n",
       "    <tr>\n",
       "      <th>3</th>\n",
       "      <td>21.428571</td>\n",
       "    </tr>\n",
       "    <tr>\n",
       "      <th>4</th>\n",
       "      <td>13.333333</td>\n",
       "    </tr>\n",
       "    <tr>\n",
       "      <th>5</th>\n",
       "      <td>0.000000</td>\n",
       "    </tr>\n",
       "    <tr>\n",
       "      <th>8</th>\n",
       "      <td>0.000000</td>\n",
       "    </tr>\n",
       "  </tbody>\n",
       "</table>\n",
       "</div>"
      ],
      "text/plain": [
       "         volveria\n",
       "amigos           \n",
       "0       34.829443\n",
       "1       53.072626\n",
       "2       52.000000\n",
       "3       21.428571\n",
       "4       13.333333\n",
       "5        0.000000\n",
       "8        0.000000"
      ]
     },
     "execution_count": 22,
     "metadata": {},
     "output_type": "execute_result"
    }
   ],
   "source": [
    "volveria_por_sede = df.groupby(by='amigos').agg({\n",
    "        \"volveria\" : porcentajeVolveria,       \n",
    "})\n",
    "volveria_por_sede"
   ]
  },
  {
   "cell_type": "markdown",
   "metadata": {},
   "source": [
    "### Análisis de la columna \"Parientes\""
   ]
  },
  {
   "cell_type": "markdown",
   "metadata": {},
   "source": [
    "En este caso haremos un análisis similar teniendo en cuenta también la cantidad de parientes respecto a la cantidad de personas que volverían(1) ó no(0)"
   ]
  },
  {
   "cell_type": "code",
   "execution_count": 23,
   "metadata": {},
   "outputs": [
    {
     "data": {
      "image/png": "[encoded data removed]",
      "text/plain": [
       "<Figure size 780x520 with 1 Axes>"
      ]
     },
     "metadata": {
      "needs_background": "light"
     },
     "output_type": "display_data"
    }
   ],
   "source": [
    "import seaborn as sns\n",
    "\n",
    "plt.figure(dpi=130)\n",
    "sns.countplot(data=df, x='parientes', hue='volveria', palette={0: '#FF5555', 1: '#44EE44'})\n",
    "plt.plot()\n",
    "plt.show()"
   ]
  },
  {
   "cell_type": "markdown",
   "metadata": {},
   "source": [
    "Podemos observar que la cantidad de personas que **no volveria es reelevante para cuando la persona va sin parientes**, \n",
    "respecto a la cantidad de personas que volverían para esa misma cantidad de parientes.\n",
    "\n",
    "Mientras que para las personas que van con 1 pariente ó más, notamos que no hay diferencias marcadas como para tomar una determinación clara sobre si volveria al cine ó no."
   ]
  },
  {
   "cell_type": "markdown",
   "metadata": {},
   "source": [
    "A continuación una muestra de los porcentajes obtenidos para cada grupo de parientes:"
   ]
  },
  {
   "cell_type": "code",
   "execution_count": 24,
   "metadata": {},
   "outputs": [
    {
     "data": {
      "text/html": [
       "<div>\n",
       "<style scoped>\n",
       "    .dataframe tbody tr th:only-of-type {\n",
       "        vertical-align: middle;\n",
       "    }\n",
       "\n",
       "    .dataframe tbody tr th {\n",
       "        vertical-align: top;\n",
       "    }\n",
       "\n",
       "    .dataframe thead th {\n",
       "        text-align: right;\n",
       "    }\n",
       "</style>\n",
       "<table border=\"1\" class=\"dataframe\">\n",
       "  <thead>\n",
       "    <tr style=\"text-align: right;\">\n",
       "      <th></th>\n",
       "      <th>volveria</th>\n",
       "    </tr>\n",
       "    <tr>\n",
       "      <th>parientes</th>\n",
       "      <th></th>\n",
       "    </tr>\n",
       "  </thead>\n",
       "  <tbody>\n",
       "    <tr>\n",
       "      <th>0</th>\n",
       "      <td>34.431631</td>\n",
       "    </tr>\n",
       "    <tr>\n",
       "      <th>1</th>\n",
       "      <td>54.545455</td>\n",
       "    </tr>\n",
       "    <tr>\n",
       "      <th>2</th>\n",
       "      <td>48.571429</td>\n",
       "    </tr>\n",
       "    <tr>\n",
       "      <th>3</th>\n",
       "      <td>60.000000</td>\n",
       "    </tr>\n",
       "    <tr>\n",
       "      <th>4</th>\n",
       "      <td>0.000000</td>\n",
       "    </tr>\n",
       "    <tr>\n",
       "      <th>5</th>\n",
       "      <td>25.000000</td>\n",
       "    </tr>\n",
       "    <tr>\n",
       "      <th>6</th>\n",
       "      <td>0.000000</td>\n",
       "    </tr>\n",
       "  </tbody>\n",
       "</table>\n",
       "</div>"
      ],
      "text/plain": [
       "            volveria\n",
       "parientes           \n",
       "0          34.431631\n",
       "1          54.545455\n",
       "2          48.571429\n",
       "3          60.000000\n",
       "4           0.000000\n",
       "5          25.000000\n",
       "6           0.000000"
      ]
     },
     "execution_count": 24,
     "metadata": {},
     "output_type": "execute_result"
    }
   ],
   "source": [
    "volveria_por_sede = df.groupby(by='parientes').agg({\n",
    "        \"volveria\" : porcentajeVolveria,       \n",
    "})\n",
    "volveria_por_sede"
   ]
  },
  {
   "cell_type": "markdown",
   "metadata": {},
   "source": [
    "### ¿Qué pasa cuando la persona concurre al cine acompañado ó no?"
   ]
  },
  {
   "cell_type": "markdown",
   "metadata": {},
   "source": [
    "Luego de análizar las últimas 2 variables, vemos una tendencia a que la gente tiene una tendencia a no volver al cine en caso de ir sin amigos ó sin parientes, Entonces se nos ocurre la idea de analizar el dataframe construyendo una columna basándonos en si la persona fue acompañada al cine ó no, con el objetivo de ver si tienen la misma tendencia de resultados en el target: `volveria`, respecto a el análisis de amigos y parientes."
   ]
  },
  {
   "cell_type": "code",
   "execution_count": 25,
   "metadata": {},
   "outputs": [
    {
     "data": {
      "image/png": "[encoded data removed]",
      "text/plain": [
       "<Figure size 720x480 with 1 Axes>"
      ]
     },
     "metadata": {
      "needs_background": "light"
     },
     "output_type": "display_data"
    }
   ],
   "source": [
    "def transformar_acompañado(amigos, parientes):\n",
    "    return ((amigos > 0) | (parientes > 0))\n",
    "\n",
    "df['acompañado'] = df.apply(lambda x: transformar_acompañado(x.amigos, x.parientes), axis=1)\n",
    "plt.figure(dpi=120)\n",
    "sns.countplot(data=df, x='acompañado', hue='volveria', palette={0: '#FF5555', 1: '#44EE44'}, orient=\"vertical\")\n",
    "plt.show()"
   ]
  },
  {
   "cell_type": "markdown",
   "metadata": {},
   "source": [
    "Esto nos da una noción de que el ir acompañado ayuda un poco pero no es un variable que nos sirva de mucho a la hora de decidir si volveria al cine.\n",
    "Mientras que el hecho de ir sólo, hace que dificilmente vuelva y puede ser reelevante para futuros análisis y el armado del baseline."
   ]
  },
  {
   "cell_type": "markdown",
   "metadata": {},
   "source": [
    "Acontinuación se muestran los porcentajes obtenidos para esta nueva columna en el data frame:"
   ]
  },
  {
   "cell_type": "code",
   "execution_count": 26,
   "metadata": {},
   "outputs": [
    {
     "data": {
      "text/html": [
       "<div>\n",
       "<style scoped>\n",
       "    .dataframe tbody tr th:only-of-type {\n",
       "        vertical-align: middle;\n",
       "    }\n",
       "\n",
       "    .dataframe tbody tr th {\n",
       "        vertical-align: top;\n",
       "    }\n",
       "\n",
       "    .dataframe thead th {\n",
       "        text-align: right;\n",
       "    }\n",
       "</style>\n",
       "<table border=\"1\" class=\"dataframe\">\n",
       "  <thead>\n",
       "    <tr style=\"text-align: right;\">\n",
       "      <th></th>\n",
       "      <th>volveria</th>\n",
       "    </tr>\n",
       "    <tr>\n",
       "      <th>acompañado</th>\n",
       "      <th></th>\n",
       "    </tr>\n",
       "  </thead>\n",
       "  <tbody>\n",
       "    <tr>\n",
       "      <th>False</th>\n",
       "      <td>30.628803</td>\n",
       "    </tr>\n",
       "    <tr>\n",
       "      <th>True</th>\n",
       "      <td>50.649351</td>\n",
       "    </tr>\n",
       "  </tbody>\n",
       "</table>\n",
       "</div>"
      ],
      "text/plain": [
       "             volveria\n",
       "acompañado           \n",
       "False       30.628803\n",
       "True        50.649351"
      ]
     },
     "execution_count": 26,
     "metadata": {},
     "output_type": "execute_result"
    }
   ],
   "source": [
    "volveria_por_sede = df.groupby(by='acompañado').agg({\n",
    "        \"volveria\" : porcentajeVolveria,       \n",
    "})\n",
    "volveria_por_sede"
   ]
  },
  {
   "cell_type": "markdown",
   "metadata": {},
   "source": [
    "### Análisis de la columna \"nombre_sede\""
   ]
  },
  {
   "cell_type": "markdown",
   "metadata": {},
   "source": [
    "para este análisis usamos un gráfico de barras con el objetivo de cuantificar que cantidad de personas vuelve ó no al cine según la sede. para ello agrupo el data frame por sedes y luego ploteo con el target."
   ]
  },
  {
   "cell_type": "code",
   "execution_count": 27,
   "metadata": {},
   "outputs": [
    {
     "data": {
      "image/png": "[encoded data removed]",
      "text/plain": [
       "<Figure size 720x480 with 1 Axes>"
      ]
     },
     "metadata": {
      "needs_background": "light"
     },
     "output_type": "display_data"
    }
   ],
   "source": [
    "plt.figure(dpi=120)\n",
    "sns.countplot(data=df, x='nombre_sede', hue='volveria', palette={0: '#FF5555', 1: '#44EE44'}, order=[\"fiumark_chacarita\",\"fiumark_palermo\",\"fiumark_quilmes\"])\n",
    "plt.title(\"Cantidad de personas que volvería/no volverían respecto a la sede\")\n",
    "plt.ylabel(\"Cantidad\")\n",
    "plt.xlabel(\"Sede\")\n",
    "plt.show()\n",
    "\n"
   ]
  },
  {
   "cell_type": "markdown",
   "metadata": {},
   "source": [
    "Aquí podemos inferir que para la sede palermo la mayor parte de personas encuestadas no volvería, y en una gran cantidad respecto al total de usuarios encuestados(~800). Lo que nos da un pie a un posible futuro análisis junto a otras variables."
   ]
  },
  {
   "cell_type": "markdown",
   "metadata": {},
   "source": [
    "A continuación muestro los porcentajes de el target volveria en referencia a cada sede:"
   ]
  },
  {
   "cell_type": "code",
   "execution_count": 28,
   "metadata": {},
   "outputs": [
    {
     "data": {
      "text/html": [
       "<div>\n",
       "<style scoped>\n",
       "    .dataframe tbody tr th:only-of-type {\n",
       "        vertical-align: middle;\n",
       "    }\n",
       "\n",
       "    .dataframe tbody tr th {\n",
       "        vertical-align: top;\n",
       "    }\n",
       "\n",
       "    .dataframe thead th {\n",
       "        text-align: right;\n",
       "    }\n",
       "</style>\n",
       "<table border=\"1\" class=\"dataframe\">\n",
       "  <thead>\n",
       "    <tr style=\"text-align: right;\">\n",
       "      <th></th>\n",
       "      <th>volveria</th>\n",
       "    </tr>\n",
       "    <tr>\n",
       "      <th>nombre_sede</th>\n",
       "      <th></th>\n",
       "    </tr>\n",
       "  </thead>\n",
       "  <tbody>\n",
       "    <tr>\n",
       "      <th>fiumark_chacarita</th>\n",
       "      <td>55.704698</td>\n",
       "    </tr>\n",
       "    <tr>\n",
       "      <th>fiumark_palermo</th>\n",
       "      <td>33.678756</td>\n",
       "    </tr>\n",
       "    <tr>\n",
       "      <th>fiumark_quilmes</th>\n",
       "      <td>38.028169</td>\n",
       "    </tr>\n",
       "  </tbody>\n",
       "</table>\n",
       "</div>"
      ],
      "text/plain": [
       "                    volveria\n",
       "nombre_sede                 \n",
       "fiumark_chacarita  55.704698\n",
       "fiumark_palermo    33.678756\n",
       "fiumark_quilmes    38.028169"
      ]
     },
     "execution_count": 28,
     "metadata": {},
     "output_type": "execute_result"
    }
   ],
   "source": [
    "volveria_por_sede = df.groupby(by='nombre_sede').agg({\n",
    "        \"volveria\" : porcentajeVolveria,       \n",
    "})\n",
    "volveria_por_sede"
   ]
  },
  {
   "cell_type": "markdown",
   "metadata": {},
   "source": [
    "### Análisis de la columna \"tipo_de_sala\""
   ]
  },
  {
   "cell_type": "markdown",
   "metadata": {},
   "source": [
    "Nuevamente analizamos la variable **tipo_de_sala**, discreta, de solo 3 tipos de sala: **normal, 3d y 4d**. ploteamos las cantidad y porcentajes en función de la variable target y obtuvimos los siguentes valores. "
   ]
  },
  {
   "cell_type": "code",
   "execution_count": 29,
   "metadata": {},
   "outputs": [
    {
     "data": {
      "image/png": "[encoded data removed]",
      "text/plain": [
       "<Figure size 720x480 with 1 Axes>"
      ]
     },
     "metadata": {
      "needs_background": "light"
     },
     "output_type": "display_data"
    }
   ],
   "source": [
    "plt.figure(dpi=120)\n",
    "sns.countplot(data=df, x='tipo_de_sala', hue='volveria', palette={0: '#FF5555', 1: '#44EE44'} )\n",
    "plt.title(\"Cantidad de personas que volverías/no volverían respecto al tipo de sala\")\n",
    "plt.ylabel(\"Cantidad\")\n",
    "plt.xlabel(\"Sala\")\n",
    "plt.show()"
   ]
  },
  {
   "cell_type": "markdown",
   "metadata": {},
   "source": []
  },
  {
   "cell_type": "markdown",
   "metadata": {},
   "source": [
    "## Analisis de la columna \"Precio Ticket\"\n",
    "\n",
    "Como previamente hicimos, analizaremos a grande razgos la variable en un principio para ver si existe algun categoría de precio que debamos analizar en particular."
   ]
  },
  {
   "cell_type": "code",
   "execution_count": 30,
   "metadata": {},
   "outputs": [
    {
     "data": {
      "text/plain": [
       "Text(0.5, 1.0, 'Volverian segun el precio del ticket')"
      ]
     },
     "execution_count": 30,
     "metadata": {},
     "output_type": "execute_result"
    },
    {
     "data": {
      "image/png": "[encoded data removed]",
      "text/plain": [
       "<Figure size 780x520 with 1 Axes>"
      ]
     },
     "metadata": {
      "needs_background": "light"
     },
     "output_type": "display_data"
    }
   ],
   "source": [
    "plt.figure(dpi=130)\n",
    "sns.countplot(data=df, x='precio_ticket', hue='volveria', palette={0: '#FF5555', 1: '#44EE44'},orient=\"vertical\")\n",
    "plt.ylabel(\"Cantidad\")\n",
    "plt.xlabel(\"Genero\")\n",
    "plt.title(\"Volverian segun el precio del ticket\")"
   ]
  },
  {
   "cell_type": "markdown",
   "metadata": {},
   "source": [
    "Como podemos observar, para los que su precio de ticket fue categorizado como `1`, las respuestas negativas son muy altas en comparación con las respuestas positivas. Esto nos inclina a analizar en parte para todos aquellos que tuvieron esa categoria, en comparación con los que tuvieron otra categoria de precio. Para esto, vamos a generar una nueva categoría que se llamara precio_1 y tendra un True o False si pertenece a dicha categoria."
   ]
  },
  {
   "cell_type": "code",
   "execution_count": 31,
   "metadata": {},
   "outputs": [
    {
     "data": {
      "text/html": [
       "<div>\n",
       "<style scoped>\n",
       "    .dataframe tbody tr th:only-of-type {\n",
       "        vertical-align: middle;\n",
       "    }\n",
       "\n",
       "    .dataframe tbody tr th {\n",
       "        vertical-align: top;\n",
       "    }\n",
       "\n",
       "    .dataframe thead th {\n",
       "        text-align: right;\n",
       "    }\n",
       "</style>\n",
       "<table border=\"1\" class=\"dataframe\">\n",
       "  <thead>\n",
       "    <tr style=\"text-align: right;\">\n",
       "      <th></th>\n",
       "      <th>tipo_de_sala</th>\n",
       "      <th>nombre</th>\n",
       "      <th>genero</th>\n",
       "      <th>edad</th>\n",
       "      <th>amigos</th>\n",
       "      <th>parientes</th>\n",
       "      <th>id_ticket</th>\n",
       "      <th>precio_ticket</th>\n",
       "      <th>nombre_sede</th>\n",
       "      <th>volveria</th>\n",
       "      <th>edad_categorizada</th>\n",
       "      <th>acompañado</th>\n",
       "      <th>es_precio_ticket_1</th>\n",
       "    </tr>\n",
       "    <tr>\n",
       "      <th>id_usuario</th>\n",
       "      <th></th>\n",
       "      <th></th>\n",
       "      <th></th>\n",
       "      <th></th>\n",
       "      <th></th>\n",
       "      <th></th>\n",
       "      <th></th>\n",
       "      <th></th>\n",
       "      <th></th>\n",
       "      <th></th>\n",
       "      <th></th>\n",
       "      <th></th>\n",
       "      <th></th>\n",
       "    </tr>\n",
       "  </thead>\n",
       "  <tbody>\n",
       "    <tr>\n",
       "      <th>117</th>\n",
       "      <td>4d</td>\n",
       "      <td>Señor Camilo Pedro</td>\n",
       "      <td>hombre</td>\n",
       "      <td>73.5</td>\n",
       "      <td>0</td>\n",
       "      <td>0</td>\n",
       "      <td>59258;</td>\n",
       "      <td>1</td>\n",
       "      <td>fiumark_quilmes</td>\n",
       "      <td>0</td>\n",
       "      <td>7.0</td>\n",
       "      <td>False</td>\n",
       "      <td>True</td>\n",
       "    </tr>\n",
       "    <tr>\n",
       "      <th>658</th>\n",
       "      <td>4d</td>\n",
       "      <td>Señora Raquel Angelica</td>\n",
       "      <td>mujer</td>\n",
       "      <td>35.0</td>\n",
       "      <td>1</td>\n",
       "      <td>1</td>\n",
       "      <td>586:6;</td>\n",
       "      <td>2</td>\n",
       "      <td>fiumark_quilmes</td>\n",
       "      <td>0</td>\n",
       "      <td>4.0</td>\n",
       "      <td>True</td>\n",
       "      <td>False</td>\n",
       "    </tr>\n",
       "    <tr>\n",
       "      <th>794</th>\n",
       "      <td>normal</td>\n",
       "      <td>Señor Antonio Federico</td>\n",
       "      <td>hombre</td>\n",
       "      <td>NaN</td>\n",
       "      <td>0</td>\n",
       "      <td>0</td>\n",
       "      <td>RE\"39822</td>\n",
       "      <td>3</td>\n",
       "      <td>fiumark_chacarita</td>\n",
       "      <td>0</td>\n",
       "      <td>NaN</td>\n",
       "      <td>False</td>\n",
       "      <td>False</td>\n",
       "    </tr>\n",
       "    <tr>\n",
       "      <th>455</th>\n",
       "      <td>4d</td>\n",
       "      <td>Señor Osvaldo Aureliano</td>\n",
       "      <td>hombre</td>\n",
       "      <td>NaN</td>\n",
       "      <td>0</td>\n",
       "      <td>0</td>\n",
       "      <td>C17\"4:39</td>\n",
       "      <td>1</td>\n",
       "      <td>fiumark_palermo</td>\n",
       "      <td>0</td>\n",
       "      <td>NaN</td>\n",
       "      <td>False</td>\n",
       "      <td>True</td>\n",
       "    </tr>\n",
       "    <tr>\n",
       "      <th>173</th>\n",
       "      <td>4d</td>\n",
       "      <td>Señorita Rita Eudosia</td>\n",
       "      <td>mujer</td>\n",
       "      <td>4.0</td>\n",
       "      <td>1</td>\n",
       "      <td>1</td>\n",
       "      <td>569964</td>\n",
       "      <td>2</td>\n",
       "      <td>fiumark_palermo</td>\n",
       "      <td>1</td>\n",
       "      <td>0.0</td>\n",
       "      <td>True</td>\n",
       "      <td>False</td>\n",
       "    </tr>\n",
       "    <tr>\n",
       "      <th>...</th>\n",
       "      <td>...</td>\n",
       "      <td>...</td>\n",
       "      <td>...</td>\n",
       "      <td>...</td>\n",
       "      <td>...</td>\n",
       "      <td>...</td>\n",
       "      <td>...</td>\n",
       "      <td>...</td>\n",
       "      <td>...</td>\n",
       "      <td>...</td>\n",
       "      <td>...</td>\n",
       "      <td>...</td>\n",
       "      <td>...</td>\n",
       "    </tr>\n",
       "    <tr>\n",
       "      <th>448</th>\n",
       "      <td>normal</td>\n",
       "      <td>Señor Bernardo Melesio</td>\n",
       "      <td>hombre</td>\n",
       "      <td>37.0</td>\n",
       "      <td>0</td>\n",
       "      <td>0</td>\n",
       "      <td>3359;6</td>\n",
       "      <td>3</td>\n",
       "      <td>fiumark_palermo</td>\n",
       "      <td>1</td>\n",
       "      <td>4.0</td>\n",
       "      <td>False</td>\n",
       "      <td>False</td>\n",
       "    </tr>\n",
       "    <tr>\n",
       "      <th>636</th>\n",
       "      <td>3d</td>\n",
       "      <td>Señorita Lidia Catalina</td>\n",
       "      <td>mujer</td>\n",
       "      <td>31.0</td>\n",
       "      <td>0</td>\n",
       "      <td>0</td>\n",
       "      <td>45988:</td>\n",
       "      <td>2</td>\n",
       "      <td>fiumark_palermo</td>\n",
       "      <td>1</td>\n",
       "      <td>3.0</td>\n",
       "      <td>False</td>\n",
       "      <td>False</td>\n",
       "    </tr>\n",
       "    <tr>\n",
       "      <th>848</th>\n",
       "      <td>4d</td>\n",
       "      <td>Señor Arturo Antenor</td>\n",
       "      <td>hombre</td>\n",
       "      <td>38.0</td>\n",
       "      <td>0</td>\n",
       "      <td>0</td>\n",
       "      <td>56;435</td>\n",
       "      <td>1</td>\n",
       "      <td>fiumark_chacarita</td>\n",
       "      <td>0</td>\n",
       "      <td>4.0</td>\n",
       "      <td>False</td>\n",
       "      <td>True</td>\n",
       "    </tr>\n",
       "    <tr>\n",
       "      <th>304</th>\n",
       "      <td>3d</td>\n",
       "      <td>Señorita Natividad Sofia</td>\n",
       "      <td>mujer</td>\n",
       "      <td>NaN</td>\n",
       "      <td>0</td>\n",
       "      <td>0</td>\n",
       "      <td>4487;5</td>\n",
       "      <td>2</td>\n",
       "      <td>fiumark_quilmes</td>\n",
       "      <td>1</td>\n",
       "      <td>NaN</td>\n",
       "      <td>False</td>\n",
       "      <td>False</td>\n",
       "    </tr>\n",
       "    <tr>\n",
       "      <th>385</th>\n",
       "      <td>4d</td>\n",
       "      <td>Señor Isidoro Sebastian</td>\n",
       "      <td>hombre</td>\n",
       "      <td>NaN</td>\n",
       "      <td>0</td>\n",
       "      <td>0</td>\n",
       "      <td>56;449</td>\n",
       "      <td>1</td>\n",
       "      <td>fiumark_palermo</td>\n",
       "      <td>0</td>\n",
       "      <td>NaN</td>\n",
       "      <td>False</td>\n",
       "      <td>True</td>\n",
       "    </tr>\n",
       "  </tbody>\n",
       "</table>\n",
       "<p>801 rows × 13 columns</p>\n",
       "</div>"
      ],
      "text/plain": [
       "           tipo_de_sala                    nombre  genero  edad  amigos  \\\n",
       "id_usuario                                                                \n",
       "117                  4d        Señor Camilo Pedro  hombre  73.5       0   \n",
       "658                  4d    Señora Raquel Angelica   mujer  35.0       1   \n",
       "794              normal    Señor Antonio Federico  hombre   NaN       0   \n",
       "455                  4d   Señor Osvaldo Aureliano  hombre   NaN       0   \n",
       "173                  4d     Señorita Rita Eudosia   mujer   4.0       1   \n",
       "...                 ...                       ...     ...   ...     ...   \n",
       "448              normal    Señor Bernardo Melesio  hombre  37.0       0   \n",
       "636                  3d   Señorita Lidia Catalina   mujer  31.0       0   \n",
       "848                  4d      Señor Arturo Antenor  hombre  38.0       0   \n",
       "304                  3d  Señorita Natividad Sofia   mujer   NaN       0   \n",
       "385                  4d   Señor Isidoro Sebastian  hombre   NaN       0   \n",
       "\n",
       "            parientes id_ticket  precio_ticket        nombre_sede  volveria  \\\n",
       "id_usuario                                                                    \n",
       "117                 0    59258;              1    fiumark_quilmes         0   \n",
       "658                 1    586:6;              2    fiumark_quilmes         0   \n",
       "794                 0  RE\"39822              3  fiumark_chacarita         0   \n",
       "455                 0  C17\"4:39              1    fiumark_palermo         0   \n",
       "173                 1    569964              2    fiumark_palermo         1   \n",
       "...               ...       ...            ...                ...       ...   \n",
       "448                 0    3359;6              3    fiumark_palermo         1   \n",
       "636                 0    45988:              2    fiumark_palermo         1   \n",
       "848                 0    56;435              1  fiumark_chacarita         0   \n",
       "304                 0    4487;5              2    fiumark_quilmes         1   \n",
       "385                 0    56;449              1    fiumark_palermo         0   \n",
       "\n",
       "            edad_categorizada  acompañado  es_precio_ticket_1  \n",
       "id_usuario                                                     \n",
       "117                       7.0       False                True  \n",
       "658                       4.0        True               False  \n",
       "794                       NaN       False               False  \n",
       "455                       NaN       False                True  \n",
       "173                       0.0        True               False  \n",
       "...                       ...         ...                 ...  \n",
       "448                       4.0       False               False  \n",
       "636                       3.0       False               False  \n",
       "848                       4.0       False                True  \n",
       "304                       NaN       False               False  \n",
       "385                       NaN       False                True  \n",
       "\n",
       "[801 rows x 13 columns]"
      ]
     },
     "execution_count": 31,
     "metadata": {},
     "output_type": "execute_result"
    }
   ],
   "source": [
    "def categorizarPrecio(precio):\n",
    "    return precio == 1\n",
    "\n",
    "\n",
    "df['es_precio_ticket_1'] = df.precio_ticket.apply(categorizarPrecio)\n",
    "df"
   ]
  },
  {
   "cell_type": "code",
   "execution_count": 32,
   "metadata": {},
   "outputs": [
    {
     "data": {
      "text/plain": [
       "Text(0.5, 1.0, 'Volverian segun el precio del ticket')"
      ]
     },
     "execution_count": 32,
     "metadata": {},
     "output_type": "execute_result"
    },
    {
     "data": {
      "image/png": "[encoded data removed]",
      "text/plain": [
       "<Figure size 600x400 with 1 Axes>"
      ]
     },
     "metadata": {
      "needs_background": "light"
     },
     "output_type": "display_data"
    }
   ],
   "source": [
    "plt.figure(dpi=100)\n",
    "sns.countplot(data=df, x='es_precio_ticket_1', hue='volveria', palette={0: '#FF5555', 1: '#44EE44'},orient=\"vertical\")\n",
    "plt.ylabel(\"Cantidad\")\n",
    "plt.xlabel(\"¿Su ticket era de la categoria precio 1?\")\n",
    "plt.title(\"Volverian segun el precio del ticket\")"
   ]
  },
  {
   "cell_type": "markdown",
   "metadata": {},
   "source": [
    "Como ya vimos, para aquellos que fueron categorizados que abonaron el precio ticket `1` tienen una gran tendencia en la respuesta a no volver. Sin embargo, agrupando todas las otras categorias, vemos que es bastante similar los valores, con una leve inclinación a volver."
   ]
  },
  {
   "cell_type": "code",
   "execution_count": 33,
   "metadata": {},
   "outputs": [
    {
     "data": {
      "text/html": [
       "<div>\n",
       "<style scoped>\n",
       "    .dataframe tbody tr th:only-of-type {\n",
       "        vertical-align: middle;\n",
       "    }\n",
       "\n",
       "    .dataframe tbody tr th {\n",
       "        vertical-align: top;\n",
       "    }\n",
       "\n",
       "    .dataframe thead th {\n",
       "        text-align: right;\n",
       "    }\n",
       "</style>\n",
       "<table border=\"1\" class=\"dataframe\">\n",
       "  <thead>\n",
       "    <tr style=\"text-align: right;\">\n",
       "      <th></th>\n",
       "      <th>volveria</th>\n",
       "    </tr>\n",
       "    <tr>\n",
       "      <th>es_precio_ticket_1</th>\n",
       "      <th></th>\n",
       "    </tr>\n",
       "  </thead>\n",
       "  <tbody>\n",
       "    <tr>\n",
       "      <th>False</th>\n",
       "      <td>50.819672</td>\n",
       "    </tr>\n",
       "    <tr>\n",
       "      <th>True</th>\n",
       "      <td>18.849840</td>\n",
       "    </tr>\n",
       "  </tbody>\n",
       "</table>\n",
       "</div>"
      ],
      "text/plain": [
       "                     volveria\n",
       "es_precio_ticket_1           \n",
       "False               50.819672\n",
       "True                18.849840"
      ]
     },
     "execution_count": 33,
     "metadata": {},
     "output_type": "execute_result"
    }
   ],
   "source": [
    "df.groupby(by='es_precio_ticket_1').agg({\"volveria\" : porcentajeVolveria})"
   ]
  },
  {
   "cell_type": "markdown",
   "metadata": {},
   "source": [
    "# Conclusión de los Análisis de las Variables Individuales"
   ]
  },
  {
   "cell_type": "markdown",
   "metadata": {},
   "source": [
    "De las variables anteriores, hemos visto que la mas marcada diferencia entre volveria o no y entre sus distintas sub-categorias fue la variable genero. Es por eso que vamos a tomar a esta primera variable para generar nuestra primera función de predicción."
   ]
  },
  {
   "cell_type": "markdown",
   "metadata": {},
   "source": [
    "# Función de Predicción (Accuracy)"
   ]
  },
  {
   "cell_type": "markdown",
   "metadata": {},
   "source": [
    "La función `porcentualAcertado` nos permitira pasarle dos listados representando en el mismo orden los valores de si volvería o no retornando un valor porcentual de acierto."
   ]
  },
  {
   "cell_type": "code",
   "execution_count": 34,
   "metadata": {},
   "outputs": [],
   "source": [
    "def porcentualAcertado(a,b):\n",
    "    cantidad_acertada = 0\n",
    "    total_usuarios = len(a)\n",
    "    for i in range(total_usuarios):\n",
    "        if(a[i] == b[i]):\n",
    "            cantidad_acertada += 1\n",
    "    return cantidad_acertada / total_usuarios"
   ]
  },
  {
   "cell_type": "markdown",
   "metadata": {},
   "source": [
    "Luego definiremos la función `baseline` la cual tiene por objetivo recibir un data frame y asi retornar el listado ordenado de si cumple o no para cada respuesta del formulario. Para esto utilizara la `funcionPrediccion` definida que determinara por fila si debe volver o no, retornando 0 para no volveria y 1 para volveria."
   ]
  },
  {
   "cell_type": "code",
   "execution_count": 35,
   "metadata": {},
   "outputs": [],
   "source": [
    "def baseline(dataFrame):\n",
    "    resultado = []\n",
    "    for i, fila in dataFrame.iterrows():\n",
    "        resultado.append(funcionPrediccion(fila))\n",
    "    return resultado"
   ]
  },
  {
   "cell_type": "markdown",
   "metadata": {},
   "source": [
    "Y por ultimo, vamos a definir la función `accuracy`, que nos retornara el porcentaje de aciertos que posee una función determinada para un data frame."
   ]
  },
  {
   "cell_type": "code",
   "execution_count": 36,
   "metadata": {},
   "outputs": [],
   "source": [
    "def accuracy(dataFrame):\n",
    "    aciertos = porcentualAcertado(baseline(dataFrame.drop(columns=['volveria'],inplace=False)), dataFrame['volveria'].to_list())\n",
    "    return round(aciertos * 100, 2)"
   ]
  },
  {
   "cell_type": "markdown",
   "metadata": {},
   "source": [
    "# Generación de la función de predicción"
   ]
  },
  {
   "cell_type": "markdown",
   "metadata": {},
   "source": [
    "Primeramente vamos a tratar de analizar una función muy basica asumiendo que todos volverian"
   ]
  },
  {
   "cell_type": "code",
   "execution_count": 37,
   "metadata": {},
   "outputs": [
    {
     "data": {
      "text/plain": [
       "38.33"
      ]
     },
     "execution_count": 37,
     "metadata": {},
     "output_type": "execute_result"
    }
   ],
   "source": [
    "def funcionPrediccion(fila):\n",
    "     return 1\n",
    "accuracy(df)"
   ]
  },
  {
   "cell_type": "markdown",
   "metadata": {},
   "source": [
    "Como podemos observar, una función asi solo nos da un 38,33% de acierto. Este numero tampoco es al azar, ya que coincide con el porcentaje de volverian que habia en nuestro data frame. Para mejorar el valor predecido, podemos utilizar el negado de esta función asumiendo que todos no volverian, donde obtendremos el resultado complemento"
   ]
  },
  {
   "cell_type": "code",
   "execution_count": 38,
   "metadata": {},
   "outputs": [
    {
     "data": {
      "text/plain": [
       "61.67"
      ]
     },
     "execution_count": 38,
     "metadata": {},
     "output_type": "execute_result"
    }
   ],
   "source": [
    "def funcionPrediccion(fila):\n",
    "     return 0\n",
    "accuracy(df)"
   ]
  },
  {
   "cell_type": "markdown",
   "metadata": {},
   "source": [
    "De los analisis anteriores, esta vez vamos a generar una función de predicción utilizando la variable con mayor polarizacion que observamos que fue la variable Genero. En este caso, si nos encontramos con una mujer asumiremos que volvera, y en cambio para los hombres, el resultado sera el opuesto."
   ]
  },
  {
   "cell_type": "code",
   "execution_count": 39,
   "metadata": {},
   "outputs": [
    {
     "data": {
      "text/plain": [
       "78.9"
      ]
     },
     "execution_count": 39,
     "metadata": {},
     "output_type": "execute_result"
    }
   ],
   "source": [
    "def funcionPrediccion(fila):\n",
    "     return 1 if (fila['genero'] == 'mujer') else 0\n",
    "accuracy(df)"
   ]
  },
  {
   "cell_type": "markdown",
   "metadata": {},
   "source": [
    "Como podemos observar, ya solo haber realizado un filtrado por dicha variable, generamos una función de predicción capaz de acertar en un 78,9% en relación con la información original que teniamos, el cual es un mejor valor que asumir que ninguno volvia.\n",
    "\n",
    "Realizaremos otras funciones de predición en base a los analisis superiores de cada variable individual como para revisar si existe alguna otra variable que nos presente un mejor valor."
   ]
  },
  {
   "cell_type": "code",
   "execution_count": 40,
   "metadata": {},
   "outputs": [
    {
     "data": {
      "text/plain": [
       "62.67"
      ]
     },
     "execution_count": 40,
     "metadata": {},
     "output_type": "execute_result"
    }
   ],
   "source": [
    "def funcionPrediccion(fila):\n",
    "     return 1 if (fila['es_precio_ticket_1'] == False) else 0\n",
    "accuracy(df)"
   ]
  },
  {
   "cell_type": "code",
   "execution_count": 41,
   "metadata": {},
   "outputs": [
    {
     "data": {
      "text/plain": [
       "61.67"
      ]
     },
     "execution_count": 41,
     "metadata": {},
     "output_type": "execute_result"
    }
   ],
   "source": [
    "def funcionPrediccion(fila):\n",
    "     return 1 if (fila['tipo_de_sala'] == '4D') else 0\n",
    "accuracy(df)"
   ]
  },
  {
   "cell_type": "code",
   "execution_count": 42,
   "metadata": {},
   "outputs": [
    {
     "data": {
      "text/plain": [
       "62.17"
      ]
     },
     "execution_count": 42,
     "metadata": {},
     "output_type": "execute_result"
    }
   ],
   "source": [
    "def funcionPrediccion(fila):\n",
    "     return 1 if (fila['acompañado']) else 0\n",
    "accuracy(df)"
   ]
  },
  {
   "cell_type": "code",
   "execution_count": 43,
   "metadata": {},
   "outputs": [
    {
     "data": {
      "text/plain": [
       "63.8"
      ]
     },
     "execution_count": 43,
     "metadata": {},
     "output_type": "execute_result"
    }
   ],
   "source": [
    "def funcionPrediccion(fila):\n",
    "     return 1 if (fila['nombre_sede'] == 'fiumark_chacarita') else 0\n",
    "accuracy(df)"
   ]
  },
  {
   "cell_type": "code",
   "execution_count": 44,
   "metadata": {},
   "outputs": [
    {
     "data": {
      "text/plain": [
       "68.29"
      ]
     },
     "execution_count": 44,
     "metadata": {},
     "output_type": "execute_result"
    }
   ],
   "source": [
    "def funcionPrediccion(fila):\n",
    "     return 1 if (fila['tipo_de_sala'] == 'normal') else 0\n",
    "accuracy(df)"
   ]
  },
  {
   "cell_type": "markdown",
   "metadata": {},
   "source": [
    "Como pudimos observar de estos analisis, el que nos genero una mayor porcentaje de aciertos fue cuando nuestra funcion de predicción se baso simplemente en la variable genero."
   ]
  },
  {
   "cell_type": "markdown",
   "metadata": {},
   "source": [
    "## Correlación entre variables\n",
    "\n",
    "A continuación vamos a tratar de analizar si existen algunas relaciones entre las distintas variables que nos permita mejorar nuestra función de predicción. Para eso, trataremos de encontrar algun comportamiento que no se relacione con lo que ya fuimos observando para cada una de las mismas."
   ]
  },
  {
   "cell_type": "markdown",
   "metadata": {},
   "source": [
    "### Genero en relación con el Precio del Ticket\n",
    "\n",
    "Anteriormente observamos que las mujeres en su gran mayoría respondian que volverian mientras que los hombres lo opuesto. Por otro lado, pudimos observar que en cuanto al precio pagado por el ticket, aquellos que su ticket tuvo el valor categorizado como `1`, no solo son el grupo mayoritario, sino que ademas, la gran mayoría de estos respondio que no volveria.\n",
    "\n",
    "En los analisis siguientes trataremos de encontrar si existe o no una relación entre las variables. Para ello, lo que haremos es separar por genero y segun si su precio de ticket corresponde a la categoría uno o no."
   ]
  },
  {
   "cell_type": "code",
   "execution_count": 45,
   "metadata": {},
   "outputs": [
    {
     "data": {
      "text/plain": [
       "Text(0.5, 1.0, '¿Volverian por Genero que tuvieron el precio de ticket 1?')"
      ]
     },
     "execution_count": 45,
     "metadata": {},
     "output_type": "execute_result"
    },
    {
     "data": {
      "image/png": "[encoded data removed]",
      "text/plain": [
       "<Figure size 600x400 with 1 Axes>"
      ]
     },
     "metadata": {
      "needs_background": "light"
     },
     "output_type": "display_data"
    }
   ],
   "source": [
    "plt.figure(dpi=100)\n",
    "sns.countplot(data=df[df.es_precio_ticket_1], x='genero', hue='volveria', palette={0: '#FF5555', 1: '#44EE44'},orient=\"vertical\")\n",
    "plt.ylabel(\"Cantidad\")\n",
    "plt.xlabel(\"Genero\")\n",
    "plt.title(\"¿Volverian por Genero que tuvieron el precio de ticket 1?\")"
   ]
  },
  {
   "cell_type": "code",
   "execution_count": 46,
   "metadata": {},
   "outputs": [
    {
     "data": {
      "text/plain": [
       "Text(0.5, 1.0, '¿Volverian por Genero que tuvieron otro precio de ticket que no fue el 1?')"
      ]
     },
     "execution_count": 46,
     "metadata": {},
     "output_type": "execute_result"
    },
    {
     "data": {
      "image/png": "[encoded data removed]",
      "text/plain": [
       "<Figure size 600x400 with 1 Axes>"
      ]
     },
     "metadata": {
      "needs_background": "light"
     },
     "output_type": "display_data"
    }
   ],
   "source": [
    "plt.figure(dpi=100)\n",
    "sns.countplot(data=df[df.es_precio_ticket_1 == False], x='genero', hue='volveria', palette={0: '#FF5555', 1: '#44EE44'},orient=\"vertical\")\n",
    "plt.ylabel(\"Cantidad\")\n",
    "plt.xlabel(\"Categoria de Edad\")\n",
    "plt.title(\"¿Volverian por Genero que tuvieron otro precio de ticket que no fue el 1?\")"
   ]
  },
  {
   "cell_type": "markdown",
   "metadata": {},
   "source": [
    "De estos graficos podemos observar que en todos los escenarios, las mujeres volverian mientras que los hombres no, independientemente de la si fueron categorizados en el precio que pagaron con el valor `1`. Es importante igual destacar, que el valor en las mujeres que volverian pagando dicha tarifa es mayor pero muy similar a las que no volverian. Dado este escenario que no altera lo que esperabamos, dejaremos el analizar la posibilidad de la influencia en el tipo de precio para mas adelante."
   ]
  },
  {
   "cell_type": "markdown",
   "metadata": {},
   "source": [
    "### Genero en relación con el tipo de sala\n",
    "\n",
    "Esta vez vamos a concentrarnos en si para algun tipo de sala, uno de los generos se comporta distinto a lo esperado, es decir, que las mujeres vuelvan en mayoria y que los hombres no lo hagan."
   ]
  },
  {
   "cell_type": "code",
   "execution_count": 47,
   "metadata": {},
   "outputs": [
    {
     "data": {
      "text/plain": [
       "Text(0.5, 1.0, '¿Cual fue la respuesta para los hombres segun el tipo de sala?')"
      ]
     },
     "execution_count": 47,
     "metadata": {},
     "output_type": "execute_result"
    },
    {
     "data": {
      "image/png": "[encoded data removed]",
      "text/plain": [
       "<Figure size 600x400 with 1 Axes>"
      ]
     },
     "metadata": {
      "needs_background": "light"
     },
     "output_type": "display_data"
    }
   ],
   "source": [
    "plt.figure(dpi=100)\n",
    "sns.countplot(data=df[df['genero'] == 'hombre' ], x='tipo_de_sala', hue='volveria', palette={0: '#FF5555', 1: '#44EE44'},orient=\"vertical\")\n",
    "plt.ylabel(\"Cantidad\")\n",
    "plt.xlabel(\"Tipo de Sala\")\n",
    "plt.title(\"¿Cual fue la respuesta para los hombres segun el tipo de sala?\")"
   ]
  },
  {
   "cell_type": "code",
   "execution_count": 48,
   "metadata": {},
   "outputs": [
    {
     "data": {
      "text/plain": [
       "Text(0.5, 1.0, '¿Cual fue la respuesta para las mujeres segun el tipo de sala?')"
      ]
     },
     "execution_count": 48,
     "metadata": {},
     "output_type": "execute_result"
    },
    {
     "data": {
      "image/png": "[encoded data removed]",
      "text/plain": [
       "<Figure size 600x400 with 1 Axes>"
      ]
     },
     "metadata": {
      "needs_background": "light"
     },
     "output_type": "display_data"
    }
   ],
   "source": [
    "plt.figure(dpi=100)\n",
    "sns.countplot(data=df[df['genero'] == 'mujer'], x='tipo_de_sala', hue='volveria', palette={0: '#FF5555', 1: '#44EE44'},orient=\"vertical\")\n",
    "plt.ylabel(\"Cantidad\")\n",
    "plt.xlabel(\"Tipo de Sala\")\n",
    "plt.title(\"¿Cual fue la respuesta para las mujeres segun el tipo de sala?\")"
   ]
  },
  {
   "cell_type": "markdown",
   "metadata": {},
   "source": [
    "En el primer grafico no observamos ninguna diferencia con lo que veniamos viendo del analisis de cada variable, es decir, los hombres no volverian independientemente del tipo de sala. Sin embargo, en el segundo grafico encontramos un esceario particular. Las mujeres para las salas 4D en su mayoría responden que no volverian. Esto nos da un inidicio para mejorar nuestra función de predicción ya que deberemos considerar este escenario particular para las mujeres."
   ]
  },
  {
   "cell_type": "code",
   "execution_count": 49,
   "metadata": {},
   "outputs": [
    {
     "data": {
      "text/plain": [
       "79.53"
      ]
     },
     "execution_count": 49,
     "metadata": {},
     "output_type": "execute_result"
    }
   ],
   "source": [
    "def funcionPrediccion(fila):\n",
    "    if (fila['genero'] == 'mujer') & (fila['tipo_de_sala'] != '4d'):\n",
    "        return 1\n",
    "    return 0\n",
    "accuracy(df)"
   ]
  },
  {
   "cell_type": "markdown",
   "metadata": {},
   "source": [
    "Esto nos permitio aumentar de 78,9% a un 79,53% de aciertos."
   ]
  },
  {
   "cell_type": "markdown",
   "metadata": {},
   "source": [
    "### Genero en relación con la sede\n",
    "\n",
    "En este caso, vamos a evaluar si existe una relacion entre dichas variables."
   ]
  },
  {
   "cell_type": "code",
   "execution_count": 50,
   "metadata": {},
   "outputs": [
    {
     "data": {
      "text/plain": [
       "Text(0.5, 1.0, '¿Cual fue la respuesta para los hombres segun la sede?')"
      ]
     },
     "execution_count": 50,
     "metadata": {},
     "output_type": "execute_result"
    },
    {
     "data": {
      "image/png": "[encoded data removed]",
      "text/plain": [
       "<Figure size 600x400 with 1 Axes>"
      ]
     },
     "metadata": {
      "needs_background": "light"
     },
     "output_type": "display_data"
    }
   ],
   "source": [
    "plt.figure(dpi=100)\n",
    "sns.countplot(data=df[df['genero'] == 'hombre' ], x='nombre_sede', hue='volveria', palette={0: '#FF5555', 1: '#44EE44'},orient=\"vertical\")\n",
    "plt.ylabel(\"Cantidad\")\n",
    "plt.xlabel(\"Sede\")\n",
    "plt.title(\"¿Cual fue la respuesta para los hombres segun la sede?\")"
   ]
  },
  {
   "cell_type": "code",
   "execution_count": 51,
   "metadata": {},
   "outputs": [
    {
     "data": {
      "text/plain": [
       "Text(0.5, 1.0, '¿Cual fue la respuesta para las mujeres segun la sede?')"
      ]
     },
     "execution_count": 51,
     "metadata": {},
     "output_type": "execute_result"
    },
    {
     "data": {
      "image/png": "[encoded data removed]",
      "text/plain": [
       "<Figure size 600x400 with 1 Axes>"
      ]
     },
     "metadata": {
      "needs_background": "light"
     },
     "output_type": "display_data"
    }
   ],
   "source": [
    "plt.figure(dpi=100)\n",
    "sns.countplot(data=df[df['genero'] == 'mujer' ], x='nombre_sede', hue='volveria', palette={0: '#FF5555', 1: '#44EE44'},orient=\"vertical\")\n",
    "plt.ylabel(\"Cantidad\")\n",
    "plt.xlabel(\"Sede\")\n",
    "plt.title(\"¿Cual fue la respuesta para las mujeres segun la sede?\")"
   ]
  },
  {
   "cell_type": "markdown",
   "metadata": {},
   "source": [
    "Para estos graficos, no encontramos nada distinto a lo que veniamos viendo. En todas las sedes las mujeres prefieren volver y los hombres no."
   ]
  },
  {
   "cell_type": "markdown",
   "metadata": {},
   "source": [
    "### Genero en relación con la edad\n",
    "\n",
    "Para este escenario vamos a ver como se relaciona el genero con la edad utilizando inicialmente nuestra variable de categoría de edad."
   ]
  },
  {
   "cell_type": "code",
   "execution_count": 52,
   "metadata": {},
   "outputs": [
    {
     "data": {
      "text/plain": [
       "Text(0.5, 1.0, 'Cantidades segun la categoria de edad')"
      ]
     },
     "execution_count": 52,
     "metadata": {},
     "output_type": "execute_result"
    },
    {
     "data": {
      "image/png": "[encoded data removed]",
      "text/plain": [
       "<Figure size 720x480 with 1 Axes>"
      ]
     },
     "metadata": {
      "needs_background": "light"
     },
     "output_type": "display_data"
    }
   ],
   "source": [
    "plt.figure(dpi=120)\n",
    "data=df[df['genero'] == 'hombre' ]\n",
    "sns.countplot(data=data, x='edad_categorizada', hue='volveria', palette={0: '#FF5555', 1: '#44EE44'},orient=\"vertical\")\n",
    "plt.ylabel(\"Cantidad\")\n",
    "plt.xticks(rotation='vertical')\n",
    "plt.xlabel(\"Categoria de Edad\")\n",
    "plt.title(\"Cantidades segun la categoria de edad\")"
   ]
  },
  {
   "cell_type": "code",
   "execution_count": 53,
   "metadata": {},
   "outputs": [
    {
     "data": {
      "text/plain": [
       "Text(0.5, 1.0, 'Cantidades segun la categoria de edad')"
      ]
     },
     "execution_count": 53,
     "metadata": {},
     "output_type": "execute_result"
    },
    {
     "data": {
      "image/png": "[encoded data removed]",
      "text/plain": [
       "<Figure size 720x480 with 1 Axes>"
      ]
     },
     "metadata": {
      "needs_background": "light"
     },
     "output_type": "display_data"
    }
   ],
   "source": [
    "plt.figure(dpi=120)\n",
    "data=df[df['genero'] == 'mujer' ]\n",
    "sns.countplot(data=data, x='edad_categorizada', hue='volveria', palette={0: '#FF5555', 1: '#44EE44'},orient=\"vertical\")\n",
    "plt.ylabel(\"Cantidad\")\n",
    "plt.xticks(rotation='vertical')\n",
    "plt.xlabel(\"Categoria de Edad\")\n",
    "plt.title(\"Cantidades segun la categoria de edad\")"
   ]
  },
  {
   "cell_type": "markdown",
   "metadata": {},
   "source": [
    "Como podemos observar encontramos un escenario particular que para la categoría de 0 para los hombres, es decir, hombres entre 0 y 10 años, su tendencia es la de volver. Esto es contrario a lo que esperabamos y deberiamos analizar mas dicha información. En este caso, lo que debemos hacer es encontrar el limite, para los cuales los hombres prefieren volver."
   ]
  },
  {
   "cell_type": "code",
   "execution_count": 54,
   "metadata": {},
   "outputs": [
    {
     "data": {
      "text/plain": [
       "Text(0.5, 1.0, 'Cantidades segun la categoria de edad')"
      ]
     },
     "execution_count": 54,
     "metadata": {},
     "output_type": "execute_result"
    },
    {
     "data": {
      "image/png": "[encoded data removed]",
      "text/plain": [
       "<Figure size 720x480 with 1 Axes>"
      ]
     },
     "metadata": {
      "needs_background": "light"
     },
     "output_type": "display_data"
    }
   ],
   "source": [
    "plt.figure(dpi=120)\n",
    "data=df[(df['genero'] == 'hombre') & (df['edad'] <= 20.0 ) ]\n",
    "sns.countplot(data=data, x='edad', hue='volveria', palette={0: '#FF5555', 1: '#44EE44'},orient=\"vertical\")\n",
    "plt.ylabel(\"Cantidad\")\n",
    "plt.xticks(rotation='vertical')\n",
    "plt.xlabel(\"Categoria de Edad\")\n",
    "plt.title(\"Cantidades segun la categoria de edad\")"
   ]
  },
  {
   "cell_type": "markdown",
   "metadata": {},
   "source": [
    "A continuación, nos interesa encontrar el punto de corte, para el cual existen mayores respuestas positivas que negativas."
   ]
  },
  {
   "cell_type": "code",
   "execution_count": 55,
   "metadata": {},
   "outputs": [
    {
     "data": {
      "text/plain": [
       "{20: 36.734693877551024,\n",
       " 19: 39.53488372093023,\n",
       " 18: 50.0,\n",
       " 17: 51.61290322580645,\n",
       " 16: 55.172413793103445,\n",
       " 15: 55.172413793103445,\n",
       " 14: 53.57142857142857,\n",
       " 13: 56.00000000000001,\n",
       " 12: 58.333333333333336,\n",
       " 11: 61.904761904761905,\n",
       " 10: 63.1578947368421,\n",
       " 9: 70.58823529411765,\n",
       " 8: 68.75,\n",
       " 7: 68.75,\n",
       " 6: 71.42857142857143,\n",
       " 5: 63.63636363636363}"
      ]
     },
     "execution_count": 55,
     "metadata": {},
     "output_type": "execute_result"
    }
   ],
   "source": [
    "values = {}\n",
    "data=df[df['genero'] == 'hombre' ]\n",
    "for x in range(20,4,-1):\n",
    "    data=data[data['edad'] <= x ]\n",
    "    data_volverian = data[data['volveria'] == 1 ]\n",
    "    y = data_volverian.value_counts().sum() / data.value_counts().sum() * 100\n",
    "    values[x] = y\n",
    "values"
   ]
  },
  {
   "cell_type": "code",
   "execution_count": 129,
   "metadata": {},
   "outputs": [
    {
     "data": {
      "image/png": "[encoded data removed]",
      "text/plain": [
       "<Figure size 1280x480 with 1 Axes>"
      ]
     },
     "metadata": {
      "needs_background": "light"
     },
     "output_type": "display_data"
    }
   ],
   "source": [
    "lists = sorted(values.items())\n",
    "x, y = zip(*lists)\n",
    "\n",
    "fig, axes = plt.subplots(nrows=1, ncols=1, figsize=[6.4 * 2 , 4.8], dpi=100)\n",
    "axes.plot(x, y)\n",
    "axes.set_title('Porcentaje de volvería vs Edad agrupada')\n",
    "axes.set_xlabel('Edad [Años]')\n",
    "axes.set_ylabel('Porcentaje de volvería[%]')\n",
    "\n",
    "delimitador_bool = plt.axhline(y=50, color='r', linestyle='-', label='delimitador_booleano')\n",
    "plt.hlines(xmin=5, xmax=20, y=[35, 40, 45, 50, 55, 60, 65, 70], color='gray', linestyle='dotted')\n",
    "plt.vlines(x=[6, 8, 10, 12, 14, 16, 18, 20], ymin=30, ymax=80, color='gray', linestyle='dotted')\n",
    "plt.legend(handles=[delimitador_bool])\n",
    "\n",
    "\n",
    "plt.show()"
   ]
  },
  {
   "cell_type": "markdown",
   "metadata": {},
   "source": [
    "Como se puede observar, el punto de corte de acumulación es de 18 años. Esto quiere decir, que para todo hombre de que tenga menos de 18 años, tendra una tendencia positiva para volver"
   ]
  },
  {
   "cell_type": "code",
   "execution_count": 57,
   "metadata": {},
   "outputs": [
    {
     "data": {
      "text/plain": [
       "79.65"
      ]
     },
     "execution_count": 57,
     "metadata": {},
     "output_type": "execute_result"
    }
   ],
   "source": [
    "def funcionPrediccion(fila):\n",
    "    if ((fila['genero'] == 'mujer') & (fila['tipo_de_sala'] == '4d')):\n",
    "        return 0\n",
    "    if(fila['genero'] == 'mujer'):\n",
    "        return 1\n",
    "    if ((fila['genero'] == 'hombre') & (fila['edad'] < 18) ):\n",
    "        return 1\n",
    "    return 0\n",
    "accuracy(df)"
   ]
  },
  {
   "cell_type": "markdown",
   "metadata": {},
   "source": [
    "En este caso, mejoramos muy poco nuestra predicción pero pudimos incoporar una mejora determinando que los hombres menores a 18 prefieren volver."
   ]
  },
  {
   "cell_type": "markdown",
   "metadata": {},
   "source": [
    "### Genero en relación con si vino acompañado\n",
    "\n",
    "En este caso, vamos a evaluar si existe una relacion entre el genero y si vino acompañado a la hora de responder sobre si volverian."
   ]
  },
  {
   "cell_type": "code",
   "execution_count": 58,
   "metadata": {},
   "outputs": [
    {
     "data": {
      "image/png": "[encoded data removed]",
      "text/plain": [
       "<Figure size 600x400 with 1 Axes>"
      ]
     },
     "metadata": {
      "needs_background": "light"
     },
     "output_type": "display_data"
    }
   ],
   "source": [
    "plt.figure(dpi=100)\n",
    "sns.countplot(data=df[df['genero'] == 'hombre' ], x='acompañado', hue='volveria', palette={0: '#FF5555', 1: '#44EE44'},orient=\"vertical\")\n",
    "plt.ylabel(\"Cantidad\")\n",
    "plt.xlabel(\"Sede\")\n",
    "plt.title(\"¿Cual fue la respuesta para los hombres que vinieron acompñados?\")\n",
    "plt.show()"
   ]
  },
  {
   "cell_type": "code",
   "execution_count": 59,
   "metadata": {},
   "outputs": [
    {
     "data": {
      "image/png": "[encoded data removed]",
      "text/plain": [
       "<Figure size 600x400 with 1 Axes>"
      ]
     },
     "metadata": {
      "needs_background": "light"
     },
     "output_type": "display_data"
    }
   ],
   "source": [
    "plt.figure(dpi=100)\n",
    "sns.countplot(data=df[df['genero'] == 'mujer' ], x='acompañado', hue='volveria', palette={0: '#FF5555', 1: '#44EE44'},orient=\"vertical\")\n",
    "plt.ylabel(\"Cantidad\")\n",
    "plt.xlabel(\"Sede\")\n",
    "plt.title(\"¿Cual fue la respuesta para las mujeres que vinieron acompñadas?\")\n",
    "plt.show()"
   ]
  },
  {
   "cell_type": "markdown",
   "metadata": {},
   "source": [
    "Nuevamente, en este analisis no encontramos ningun resultado inesperado. Las mujeres prefieren volver y los hombres no."
   ]
  },
  {
   "cell_type": "markdown",
   "metadata": {},
   "source": [
    "## Correlación entre tres variables"
   ]
  },
  {
   "cell_type": "markdown",
   "metadata": {},
   "source": [
    "En esta zona vamos a tratar de encontrar relaciones entre 3 variables. Dado que de la parte anterior aprendimos que las mujeres vuelven salvo para las salas 4D y los hombres no vuelven salvo aquellos que tienen menos de 18 años, estas dos variables las usaremos de base y buscaremos si una tercer variable puede afectar dichos resultados y darnos un indicio de como mejorar aun mas nuestra funcion de predicción."
   ]
  },
  {
   "cell_type": "markdown",
   "metadata": {},
   "source": [
    "### Relaciones con el precio del ticket"
   ]
  },
  {
   "cell_type": "code",
   "execution_count": 60,
   "metadata": {},
   "outputs": [
    {
     "data": {
      "image/png": "[encoded data removed]",
      "text/plain": [
       "<Figure size 600x400 with 1 Axes>"
      ]
     },
     "metadata": {
      "needs_background": "light"
     },
     "output_type": "display_data"
    }
   ],
   "source": [
    "plt.figure(dpi=100)\n",
    "data = df[ (df['genero'] == 'mujer') & (df['tipo_de_sala'] == '4d')]\n",
    "sns.countplot(data=data, x='es_precio_ticket_1', hue='volveria', palette={0: '#FF5555', 1: '#44EE44'},orient=\"vertical\")\n",
    "plt.ylabel(\"Cantidad\")\n",
    "plt.xlabel(\"Tipo de Sala\")\n",
    "plt.title(\"¿Cual fue la respuesta para las mujeres que asistieron a sala 4D segun el precio pagado?\")\n",
    "plt.show()"
   ]
  },
  {
   "cell_type": "markdown",
   "metadata": {},
   "source": [
    "De este ultimo grafico, vemos que para las mujeres si pago el tipo de ticket `1`, indistintamente de haber asistido a la sala 4D, si deciden volver en su gran mayoria. Esto nos sirve para mejorar aun mas nuestra función de predicción"
   ]
  },
  {
   "cell_type": "code",
   "execution_count": 61,
   "metadata": {},
   "outputs": [
    {
     "data": {
      "text/plain": [
       "80.65"
      ]
     },
     "execution_count": 61,
     "metadata": {},
     "output_type": "execute_result"
    }
   ],
   "source": [
    "def funcionPrediccion(fila):\n",
    "    if ((fila['genero'] == 'mujer') & (fila['tipo_de_sala'] == '4d') & (fila['es_precio_ticket_1'])):\n",
    "        return 1\n",
    "    if ((fila['genero'] == 'mujer') & (fila['tipo_de_sala'] == '4d')):\n",
    "        return 0\n",
    "    if(fila['genero'] == 'mujer'):\n",
    "        return 1\n",
    "    if ((fila['genero'] == 'hombre') & (fila['edad'] < 18) ):\n",
    "        return 1\n",
    "    return 0\n",
    "accuracy(df)"
   ]
  },
  {
   "cell_type": "markdown",
   "metadata": {},
   "source": [
    "Esto ya nos logro elevar nuestro valor de acierto a un 80,65%, y es el valor mas alto que hemos conseguido hasta el momento. Ahora nos falta por analizar si para las mujeres que no fueron a la sala 4D si el precio de ticket influencio."
   ]
  },
  {
   "cell_type": "code",
   "execution_count": 62,
   "metadata": {},
   "outputs": [
    {
     "data": {
      "image/png": "[encoded data removed]",
      "text/plain": [
       "<Figure size 600x400 with 1 Axes>"
      ]
     },
     "metadata": {
      "needs_background": "light"
     },
     "output_type": "display_data"
    }
   ],
   "source": [
    "plt.figure(dpi=100)\n",
    "data = df[ (df['genero'] == 'mujer') & (df['tipo_de_sala'] != '4d')]\n",
    "sns.countplot(data=data, x='es_precio_ticket_1', hue='volveria', palette={0: '#FF5555', 1: '#44EE44'},orient=\"vertical\")\n",
    "plt.ylabel(\"Cantidad\")\n",
    "plt.xlabel(\"Tipo de Sala\")\n",
    "plt.title(\"¿Cual fue la respuesta para las mujeres que no asistieron a sala 4D segun el precio pagado?\")\n",
    "plt.show()"
   ]
  },
  {
   "cell_type": "markdown",
   "metadata": {},
   "source": [
    "En este caso, no obtuvimos información nueva.\n",
    "\n",
    "Para continuar con los analisis, ahora vamos a trabajar con los hombres, y esta vez separando para los menores y para los mayores de 18 años."
   ]
  },
  {
   "cell_type": "code",
   "execution_count": 63,
   "metadata": {},
   "outputs": [
    {
     "data": {
      "image/png": "[encoded data removed]",
      "text/plain": [
       "<Figure size 600x400 with 1 Axes>"
      ]
     },
     "metadata": {
      "needs_background": "light"
     },
     "output_type": "display_data"
    }
   ],
   "source": [
    "plt.figure(dpi=100)\n",
    "data = df[ (df['genero'] == 'hombre') & (df['edad'] < 18)]\n",
    "sns.countplot(data=data, x='es_precio_ticket_1', hue='volveria', palette={0: '#FF5555', 1: '#44EE44'},orient=\"vertical\")\n",
    "plt.ylabel(\"Cantidad\")\n",
    "plt.xlabel(\"Tipo de Sala\")\n",
    "plt.title(\"¿Cual fue la respuesta para las hombres menores de 18 años segun el precio pagado?\")\n",
    "plt.show()"
   ]
  },
  {
   "cell_type": "code",
   "execution_count": 64,
   "metadata": {},
   "outputs": [
    {
     "data": {
      "image/png": "[encoded data removed]",
      "text/plain": [
       "<Figure size 600x400 with 1 Axes>"
      ]
     },
     "metadata": {
      "needs_background": "light"
     },
     "output_type": "display_data"
    }
   ],
   "source": [
    "plt.figure(dpi=100)\n",
    "data = df[ (df['genero'] == 'hombre') & (df['edad'] >= 18)]\n",
    "sns.countplot(data=data, x='es_precio_ticket_1', hue='volveria', palette={0: '#FF5555', 1: '#44EE44'},orient=\"vertical\")\n",
    "plt.ylabel(\"Cantidad\")\n",
    "plt.xlabel(\"Tipo de Sala\")\n",
    "plt.title(\"¿Cual fue la respuesta para las hombres mayores de 18 años segun el precio pagado?\")\n",
    "plt.show()"
   ]
  },
  {
   "cell_type": "markdown",
   "metadata": {},
   "source": [
    "Para estos dos graficos, no obtuvimos nueva información que nos sirva para mejorar nuestra función de predicción. Si cabe destacar que el resultado de hombres menores de 18 años y que no pagaron la tarfia del ticket 1 dio un valor igualado, pero esto no nos genera una tendencia inversa a lo que habiamos visto."
   ]
  },
  {
   "cell_type": "markdown",
   "metadata": {},
   "source": [
    "### Relaciones con el tipo de sala"
   ]
  },
  {
   "cell_type": "code",
   "execution_count": 65,
   "metadata": {},
   "outputs": [
    {
     "data": {
      "image/png": "[encoded data removed]",
      "text/plain": [
       "<Figure size 600x400 with 1 Axes>"
      ]
     },
     "metadata": {
      "needs_background": "light"
     },
     "output_type": "display_data"
    }
   ],
   "source": [
    "plt.figure(dpi=100)\n",
    "data = df[ (df['genero'] == 'hombre') & (df['edad'] < 18)]\n",
    "sns.countplot(data=data, x='tipo_de_sala', hue='volveria', palette={0: '#FF5555', 1: '#44EE44'},orient=\"vertical\")\n",
    "plt.ylabel(\"Cantidad\")\n",
    "plt.xlabel(\"Tipo de Sala\")\n",
    "plt.title(\"Cual fue la respuesta para las hombres menores de 18 años segun el tipo de sala?\")\n",
    "plt.show()"
   ]
  },
  {
   "cell_type": "markdown",
   "metadata": {},
   "source": [
    "De este grafico observamos que los hombres menores de 18 años para las salas 4d prefieren no volver mientras que para las otras si. Esto se comporta distinto a lo esperado y nos sirve para nuevamente mejorar la función de predicción."
   ]
  },
  {
   "cell_type": "code",
   "execution_count": 66,
   "metadata": {},
   "outputs": [
    {
     "data": {
      "text/plain": [
       "81.65"
      ]
     },
     "execution_count": 66,
     "metadata": {},
     "output_type": "execute_result"
    }
   ],
   "source": [
    "def funcionPrediccion(fila):\n",
    "    if ((fila['genero'] == 'mujer') & (fila['tipo_de_sala'] == '4d') & (fila['es_precio_ticket_1'])):\n",
    "        return 1\n",
    "    if ((fila['genero'] == 'mujer') & (fila['tipo_de_sala'] == '4d')):\n",
    "        return 0\n",
    "    if(fila['genero'] == 'mujer'):\n",
    "        return 1\n",
    "    if ((fila['genero'] == 'hombre') & (fila['edad'] < 18) & (fila['tipo_de_sala'] == '4d')): \n",
    "        return 0\n",
    "    if ((fila['genero'] == 'hombre') & (fila['edad'] < 18) ):\n",
    "        return 1\n",
    "    return 0\n",
    "accuracy(df)"
   ]
  },
  {
   "cell_type": "markdown",
   "metadata": {},
   "source": [
    "Con este ultimo cambio, hemos llegado nuevamente al valor mas alto de predicción hasta el momento logrando un 81,65% de certeza utilizando los mismos datos de entrada."
   ]
  },
  {
   "cell_type": "code",
   "execution_count": 67,
   "metadata": {},
   "outputs": [
    {
     "data": {
      "image/png": "[encoded data removed]",
      "text/plain": [
       "<Figure size 600x400 with 1 Axes>"
      ]
     },
     "metadata": {
      "needs_background": "light"
     },
     "output_type": "display_data"
    }
   ],
   "source": [
    "plt.figure(dpi=100)\n",
    "data = df[ (df['genero'] == 'hombre') & (df['edad'] >= 18)]\n",
    "sns.countplot(data=data, x='tipo_de_sala', hue='volveria', palette={0: '#FF5555', 1: '#44EE44'},orient=\"vertical\")\n",
    "plt.ylabel(\"Cantidad\")\n",
    "plt.xlabel(\"Tipo de Sala\")\n",
    "plt.title(\"¿Cual fue la respuesta para las hombres mayores de 18 años segun el tipo de sala?\")\n",
    "plt.show()"
   ]
  },
  {
   "cell_type": "markdown",
   "metadata": {},
   "source": [
    "En este ultimo grafico, no encontramos ninguna diferencia con lo esperado de que los hombres mayores a 18 años deciden no volver.\n",
    "\n",
    "Como ya habiamos analizado y encontrado una relacion entre las mujeres y el tipo de sala que nos sirvio para mejorar nuestro algortimo, no debemos volver a realziar dicha comparación."
   ]
  },
  {
   "cell_type": "markdown",
   "metadata": {},
   "source": [
    "### Relaciones con acompañado\n",
    "\n",
    "En este escenario analizaremos las relaciones entre mujeres, si asistieron o no a una sala 4d y si asistieron acompados, y entre los hombres, su edad en relacion a los 18 y si asistieron acompañdos."
   ]
  },
  {
   "cell_type": "code",
   "execution_count": 68,
   "metadata": {},
   "outputs": [
    {
     "data": {
      "image/png": "[encoded data removed]",
      "text/plain": [
       "<Figure size 600x400 with 1 Axes>"
      ]
     },
     "metadata": {
      "needs_background": "light"
     },
     "output_type": "display_data"
    }
   ],
   "source": [
    "plt.figure(dpi=100)\n",
    "data = df[ (df['genero'] == 'mujer') & (df['tipo_de_sala'] == '4d')]\n",
    "sns.countplot(data=data, x='acompañado', hue='volveria', palette={0: '#FF5555', 1: '#44EE44'},orient=\"vertical\")\n",
    "plt.ylabel(\"Cantidad\")\n",
    "plt.xlabel(\"Tipo de Sala\")\n",
    "plt.title(\"¿Cual fue la respuesta para las mujeres que asistieron a sala 4D segun si estaban acompañadas?\")\n",
    "plt.show()"
   ]
  },
  {
   "cell_type": "markdown",
   "metadata": {},
   "source": [
    "Esta función nos muestra que las mujeres que no fueron acompañadas y asistieron a una sala 4D, tienen una preferencia por volver. Realizaremos el calculo de esta nueva funcion de predicción y compararemos si es mejor analizar por el acompañamiento o por si abonaron el tipo de ticket 1."
   ]
  },
  {
   "cell_type": "code",
   "execution_count": 69,
   "metadata": {},
   "outputs": [
    {
     "data": {
      "text/plain": [
       "81.77"
      ]
     },
     "execution_count": 69,
     "metadata": {},
     "output_type": "execute_result"
    }
   ],
   "source": [
    "def funcionPrediccion(fila):\n",
    "    if ((fila['genero'] == 'mujer') & (fila['tipo_de_sala'] == '4d') & (fila['acompañado'] == False)):\n",
    "        return 1\n",
    "    if ((fila['genero'] == 'mujer') & (fila['tipo_de_sala'] == '4d')):\n",
    "        return 0\n",
    "    if(fila['genero'] == 'mujer'):\n",
    "        return 1\n",
    "    if ((fila['genero'] == 'hombre') & (fila['edad'] < 18) & (fila['tipo_de_sala'] == '4d')): \n",
    "        return 0\n",
    "    if ((fila['genero'] == 'hombre') & (fila['edad'] < 18) ):\n",
    "        return 1\n",
    "    return 0\n",
    "accuracy(df)"
   ]
  },
  {
   "cell_type": "markdown",
   "metadata": {},
   "source": [
    "Dado que este resultado es el mas alto obtenido hasta el momento, encontramos que es mejor realizar esta comparación como tercer variable correlacionada para las mujeres que asistieron a salas 4D. Esto se da debido al volumen de casos de diferencia que en esta combinación fue mas alto que para la el precio de ticket 1."
   ]
  },
  {
   "cell_type": "code",
   "execution_count": 70,
   "metadata": {},
   "outputs": [
    {
     "data": {
      "image/png": "[encoded data removed]",
      "text/plain": [
       "<Figure size 600x400 with 1 Axes>"
      ]
     },
     "metadata": {
      "needs_background": "light"
     },
     "output_type": "display_data"
    }
   ],
   "source": [
    "plt.figure(dpi=100)\n",
    "data = df[ (df['genero'] == 'mujer') & (df['tipo_de_sala'] != '4d')]\n",
    "sns.countplot(data=data, x='acompañado', hue='volveria', palette={0: '#FF5555', 1: '#44EE44'},orient=\"vertical\")\n",
    "plt.ylabel(\"Cantidad\")\n",
    "plt.xlabel(\"Tipo de Sala\")\n",
    "plt.title(\"¿Cual fue la respuesta para las mujeres que no asistieron a sala 4D segun si estaban acompañadas?\")\n",
    "plt.show()"
   ]
  },
  {
   "cell_type": "markdown",
   "metadata": {},
   "source": [
    "Este ultimo grafico no nos dio ninguna nueva información util."
   ]
  },
  {
   "cell_type": "code",
   "execution_count": 71,
   "metadata": {},
   "outputs": [
    {
     "data": {
      "image/png": "[encoded data removed]",
      "text/plain": [
       "<Figure size 600x400 with 1 Axes>"
      ]
     },
     "metadata": {
      "needs_background": "light"
     },
     "output_type": "display_data"
    }
   ],
   "source": [
    "plt.figure(dpi=100)\n",
    "data = df[ (df['genero'] == 'hombre') & (df['edad'] < 18)]\n",
    "sns.countplot(data=data, x='acompañado', hue='volveria', palette={0: '#FF5555', 1: '#44EE44'},orient=\"vertical\")\n",
    "plt.ylabel(\"Cantidad\")\n",
    "plt.xlabel(\"Tipo de Sala\")\n",
    "plt.title(\"¿Cual fue la respuesta para las hombres menores de 18 años segun si vinieron acompañados?\")\n",
    "plt.show()"
   ]
  },
  {
   "cell_type": "markdown",
   "metadata": {},
   "source": [
    "Si bien este grafico nos muestra que si no vino acompañado hay una preferencia negativa, el volumen que vemos es muy chico. Revisaremos si mejora la funcion de predicción o si en realidad la empeora."
   ]
  },
  {
   "cell_type": "code",
   "execution_count": 72,
   "metadata": {},
   "outputs": [
    {
     "data": {
      "text/plain": [
       "80.9"
      ]
     },
     "execution_count": 72,
     "metadata": {},
     "output_type": "execute_result"
    }
   ],
   "source": [
    "def funcionPrediccion(fila):\n",
    "    if ((fila['genero'] == 'mujer') & (fila['tipo_de_sala'] == '4d') & (fila['acompañado'] == False)):\n",
    "        return 1\n",
    "    if ((fila['genero'] == 'mujer') & (fila['tipo_de_sala'] == '4d')):\n",
    "        return 0\n",
    "    if(fila['genero'] == 'mujer'):\n",
    "        return 1\n",
    "    if ((fila['genero'] == 'hombre') & (fila['edad'] < 18) & (fila['acompañado'] == False)): \n",
    "        return 0\n",
    "    if ((fila['genero'] == 'hombre') & (fila['edad'] < 18) ):\n",
    "        return 1\n",
    "    return 0\n",
    "accuracy(df)"
   ]
  },
  {
   "cell_type": "markdown",
   "metadata": {},
   "source": [
    "Como vemos, esto genero un peor resultado por lo que procedemos a descartar esta información."
   ]
  },
  {
   "cell_type": "code",
   "execution_count": 73,
   "metadata": {},
   "outputs": [
    {
     "data": {
      "image/png": "[encoded data removed]",
      "text/plain": [
       "<Figure size 600x400 with 1 Axes>"
      ]
     },
     "metadata": {
      "needs_background": "light"
     },
     "output_type": "display_data"
    }
   ],
   "source": [
    "plt.figure(dpi=100)\n",
    "data = df[ (df['genero'] == 'hombre') & (df['edad'] >= 18)]\n",
    "sns.countplot(data=data, x='acompañado', hue='volveria', palette={0: '#FF5555', 1: '#44EE44'},orient=\"vertical\")\n",
    "plt.ylabel(\"Cantidad\")\n",
    "plt.xlabel(\"Tipo de Sala\")\n",
    "plt.title(\"¿Cual fue la respuesta para las hombres mayores de 18 años segun si vinieron acompañados?\")\n",
    "plt.show()"
   ]
  },
  {
   "cell_type": "markdown",
   "metadata": {},
   "source": [
    "En este escenario, nuevamente, no volvimos a encontrar información util, ya que conociamos que los hombres mayores de 18 tenian tendencia a no volver."
   ]
  },
  {
   "cell_type": "markdown",
   "metadata": {},
   "source": [
    "### Relaciones con la sede\n",
    "\n",
    "En este escenario analizaremos las relaciones entre mujeres, si asistieron o no a una sala 4d y la sede a la cual asistieron, y entre los hombres, su edad en relacion a los 18 y la sede donde asisitieron."
   ]
  },
  {
   "cell_type": "code",
   "execution_count": 74,
   "metadata": {},
   "outputs": [
    {
     "data": {
      "image/png": "[encoded data removed]",
      "text/plain": [
       "<Figure size 600x400 with 1 Axes>"
      ]
     },
     "metadata": {
      "needs_background": "light"
     },
     "output_type": "display_data"
    }
   ],
   "source": [
    "plt.figure(dpi=100)\n",
    "data = df[ (df['genero'] == 'mujer') & (df['tipo_de_sala'] == '4d')]\n",
    "sns.countplot(data=data, x='nombre_sede', hue='volveria', palette={0: '#FF5555', 1: '#44EE44'},orient=\"vertical\")\n",
    "plt.ylabel(\"Cantidad\")\n",
    "plt.xlabel(\"Tipo de Sala\")\n",
    "plt.title(\"¿Cual fue la respuesta para las mujeres que asistieron a sala 4D segun la sede?\")\n",
    "plt.show()"
   ]
  },
  {
   "cell_type": "markdown",
   "metadata": {},
   "source": [
    "Este resultado es interesante por dos motivos. En primer lugar, en dos sedes las mujeres informan que volverian por fuera de haber asistido a una sala 4d. Adicionalmente, los volumenes de diferencia parecen ser grandes para los volumenes que venimos manejando entre 3 variables, lo que nos da un indicio de tal vez haber dado con una variable que nos permita mejorar aun mas nuestro modelo de predicción."
   ]
  },
  {
   "cell_type": "code",
   "execution_count": 75,
   "metadata": {},
   "outputs": [
    {
     "data": {
      "text/plain": [
       "83.15"
      ]
     },
     "execution_count": 75,
     "metadata": {},
     "output_type": "execute_result"
    }
   ],
   "source": [
    "def funcionPrediccion(fila):\n",
    "    if ((fila['genero'] == 'mujer') & (fila['tipo_de_sala'] == '4d') & (fila['nombre_sede'] != 'fiumark_palermo')):\n",
    "        return 1\n",
    "    if ((fila['genero'] == 'mujer') & (fila['tipo_de_sala'] == '4d')):\n",
    "        return 0\n",
    "    if(fila['genero'] == 'mujer'):\n",
    "        return 1\n",
    "    if ((fila['genero'] == 'hombre') & (fila['edad'] < 18) & (fila['tipo_de_sala'] == '4d')): \n",
    "        return 0\n",
    "    if ((fila['genero'] == 'hombre') & (fila['edad'] < 18) ):\n",
    "        return 1\n",
    "    return 0\n",
    "accuracy(df)"
   ]
  },
  {
   "cell_type": "markdown",
   "metadata": {},
   "source": [
    "Efectivamente, esto nos llevo al mejor resultado hasta el momento, obteniendo un 83,15% de certeza en nuestra predicción."
   ]
  },
  {
   "cell_type": "code",
   "execution_count": 76,
   "metadata": {},
   "outputs": [
    {
     "data": {
      "image/png": "[encoded data removed]",
      "text/plain": [
       "<Figure size 600x400 with 1 Axes>"
      ]
     },
     "metadata": {
      "needs_background": "light"
     },
     "output_type": "display_data"
    }
   ],
   "source": [
    "plt.figure(dpi=100)\n",
    "data = df[ (df['genero'] == 'mujer') & (df['tipo_de_sala'] != '4d')]\n",
    "sns.countplot(data=data, x='nombre_sede', hue='volveria', palette={0: '#FF5555', 1: '#44EE44'},orient=\"vertical\")\n",
    "plt.ylabel(\"Cantidad\")\n",
    "plt.xlabel(\"Tipo de Sala\")\n",
    "plt.title(\"¿Cual fue la respuesta para las mujeres que no asistieron a sala 4D segun la sede?\")\n",
    "plt.show()"
   ]
  },
  {
   "cell_type": "markdown",
   "metadata": {},
   "source": [
    "En este caso, no encontramos nueva información. Pasamos a hacer el analisis para los hombres."
   ]
  },
  {
   "cell_type": "code",
   "execution_count": 77,
   "metadata": {},
   "outputs": [
    {
     "data": {
      "image/png": "[encoded data removed]",
      "text/plain": [
       "<Figure size 600x400 with 1 Axes>"
      ]
     },
     "metadata": {
      "needs_background": "light"
     },
     "output_type": "display_data"
    }
   ],
   "source": [
    "plt.figure(dpi=100)\n",
    "data = df[ (df['genero'] == 'hombre') & (df['edad'] < 18)]\n",
    "sns.countplot(data=data, x='nombre_sede', hue='volveria', palette={0: '#FF5555', 1: '#44EE44'},orient=\"vertical\")\n",
    "plt.ylabel(\"Cantidad\")\n",
    "plt.xlabel(\"Tipo de Sala\")\n",
    "plt.title(\"¿Cual fue la respuesta para las hombres menores de 18 años segun la sede a la que asistieron?\")\n",
    "plt.show()"
   ]
  },
  {
   "cell_type": "code",
   "execution_count": 78,
   "metadata": {},
   "outputs": [
    {
     "data": {
      "text/plain": [
       "82.52"
      ]
     },
     "execution_count": 78,
     "metadata": {},
     "output_type": "execute_result"
    }
   ],
   "source": [
    "def funcionPrediccion(fila):\n",
    "    if ((fila['genero'] == 'mujer') & (fila['tipo_de_sala'] == '4d') & (fila['nombre_sede'] != 'fiumark_palermo')):\n",
    "        return 1\n",
    "    if ((fila['genero'] == 'mujer') & (fila['tipo_de_sala'] == '4d')):\n",
    "        return 0\n",
    "    if(fila['genero'] == 'mujer'):\n",
    "        return 1\n",
    "    if ((fila['genero'] == 'hombre') & (fila['edad'] < 18) & (fila['nombre_sede'] == 'fiumark_quilmes')): \n",
    "        return 0\n",
    "    if ((fila['genero'] == 'hombre') & (fila['edad'] < 18) ):\n",
    "        return 1\n",
    "    return 0\n",
    "accuracy(df)"
   ]
  },
  {
   "cell_type": "markdown",
   "metadata": {},
   "source": [
    "Si bien encontramos nuevamente un valor distinto, el valor de acierto desendio de nuestro mejor resultado. Por lo que descartaremos esta información y mantendremos la anterior función de predicción."
   ]
  },
  {
   "cell_type": "code",
   "execution_count": 79,
   "metadata": {},
   "outputs": [
    {
     "data": {
      "image/png": "[encoded data removed]",
      "text/plain": [
       "<Figure size 600x400 with 1 Axes>"
      ]
     },
     "metadata": {
      "needs_background": "light"
     },
     "output_type": "display_data"
    }
   ],
   "source": [
    "plt.figure(dpi=100)\n",
    "data = df[ (df['genero'] == 'hombre') & (df['edad'] >= 18)]\n",
    "sns.countplot(data=data, x='nombre_sede', hue='volveria', palette={0: '#FF5555', 1: '#44EE44'},orient=\"vertical\")\n",
    "plt.ylabel(\"Cantidad\")\n",
    "plt.xlabel(\"Tipo de Sala\")\n",
    "plt.title(\"¿Cual fue la respuesta para las hombres mayores de 18 años segun la sede a la que asistieron?\")\n",
    "plt.show()"
   ]
  },
  {
   "cell_type": "markdown",
   "metadata": {},
   "source": [
    "Nuevamente, no encontramos información que nos mostrara un resultado imprevisto."
   ]
  },
  {
   "cell_type": "markdown",
   "metadata": {},
   "source": [
    "# Conclusión"
   ]
  },
  {
   "cell_type": "markdown",
   "metadata": {},
   "source": [
    "Si bien el analisis puede continuar tratando de esta vez correlacionar 4 variables, decidimos no continuar debido a que superamos el valor solicitado por el cliente en cuanto al acierto minimo y debido a la complejidad extra de seguir correlacionado variables.\n",
    "\n",
    "Cabe destacar que por fuera de los datos, la correlación que se dio para las mujeres, nos muestra una posibilidad de un indicio de que la sala 4D de la sede de Fiumark Palermo no se encuentra en buenas condiciones lo que motiva a sus clientes a no querer volver a asistir. Esto tambien podriamos haberlo visto en los hombres ya que en su gran mayoria, los menores de 18 años si respondian que volverian, pero para los que asistieron a una sala 4D dicen que no. Esto nos abre las puertas para un proximo analisis donde quedaria observar si la sede palermo es la sede por la cual los menores de 18 años hombres decian que no volverian y que a su vez habian visto Frozen 3 en una sala 4D.\n",
    "\n",
    "Por otro lado, como bien encontramos en nuestra variable principal, la tematica de Frozen 3 nos da a entender que existe una fuerte tendencia por las mujeres a querer volver para ver Frozen 4, mientras que para los hombres no, y esto puede estar mas asociado con el genero de la pelicula que con las instalaciones del lugar.\n",
    "\n",
    "Como anteriormente mostramos, la función de predicción que mejor certeza nos genero es la siguiente:"
   ]
  },
  {
   "cell_type": "code",
   "execution_count": 80,
   "metadata": {},
   "outputs": [
    {
     "data": {
      "text/plain": [
       "83.15"
      ]
     },
     "execution_count": 80,
     "metadata": {},
     "output_type": "execute_result"
    }
   ],
   "source": [
    "def funcionPrediccion(fila):\n",
    "    if ((fila['genero'] == 'mujer') & (fila['tipo_de_sala'] == '4d') & (fila['nombre_sede'] != 'fiumark_palermo')):\n",
    "        return 1\n",
    "    if ((fila['genero'] == 'mujer') & (fila['tipo_de_sala'] == '4d')):\n",
    "        return 0\n",
    "    if(fila['genero'] == 'mujer'):\n",
    "        return 1\n",
    "    if ((fila['genero'] == 'hombre') & (fila['edad'] < 18) & (fila['tipo_de_sala'] == '4d')): \n",
    "        return 0\n",
    "    if ((fila['genero'] == 'hombre') & (fila['edad'] < 18) ):\n",
    "        return 1\n",
    "    return 0\n",
    "accuracy(df)"
   ]
  }
 ],
 "metadata": {
  "kernelspec": {
   "display_name": "Python 3",
   "language": "python",
   "name": "python3"
  },
  "language_info": {
   "codemirror_mode": {
    "name": "ipython",
    "version": 3
   },
   "file_extension": ".py",
   "mimetype": "text/x-python",
   "name": "python",
   "nbconvert_exporter": "python",
   "pygments_lexer": "ipython3",
   "version": "3.8.5"
  }
 },
 "nbformat": 4,
 "nbformat_minor": 4
}
