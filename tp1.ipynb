{
 "cells": [
  {
   "cell_type": "code",
   "execution_count": null,
   "metadata": {},
   "outputs": [],
   "source": [
    "import pandas as pd\n",
    "from matplotlib import pyplot as plt\n",
    "import numpy as np\n",
    "import seaborn as sns"
   ]
  },
  {
   "cell_type": "markdown",
   "metadata": {},
   "source": [
    "# Inicialización"
   ]
  },
  {
   "cell_type": "markdown",
   "metadata": {},
   "source": [
    "El primer paso que vamos a realizar es cargar las dos tablas en dos data frames distintos. "
   ]
  },
  {
   "cell_type": "code",
   "execution_count": null,
   "metadata": {},
   "outputs": [],
   "source": [
    "df_volvera = pd.read_csv(\"tp-2020-2c-train-cols1.csv\")\n",
    "df_volvera"
   ]
  },
  {
   "cell_type": "code",
   "execution_count": null,
   "metadata": {},
   "outputs": [],
   "source": [
    "df_usuario = pd.read_csv(\"tp-2020-2c-train-cols2.csv\")\n",
    "df_usuario"
   ]
  },
  {
   "cell_type": "markdown",
   "metadata": {},
   "source": [
    "En un primer análisis, podemos ver de ambas tablas que poseen un total de 801 filas. \n",
    "\n",
    "Consideramos hacer un join de las mismas, para operar y analizar la variable target(`volveria`) junto con los datos. \n",
    "Para ello utilizamos el campo `id_usuario` el cual es compartido.\n",
    "\n",
    "Dejaremos en la variable `df_joined` las tablas unidas sin modificar, y usaremos `df` para ir realizando operaciones sobre la misma."
   ]
  },
  {
   "cell_type": "code",
   "execution_count": null,
   "metadata": {},
   "outputs": [],
   "source": [
    "df_joined = df_usuario.join(df_volvera.set_index('id_usuario'), on='id_usuario', how='inner').set_index('id_usuario')\n",
    "df = df_joined.copy()\n",
    "df"
   ]
  },
  {
   "cell_type": "markdown",
   "metadata": {},
   "source": [
    "# Análisis de Datos"
   ]
  },
  {
   "cell_type": "markdown",
   "metadata": {},
   "source": [
    "## Columnas con información duplicada\n",
    "\n",
    "En este paso vamos a tratar de averiguar si tenemos información duplicada. El siguiente comando nos mostrara si existen filas exactamente iguales en la encuesta."
   ]
  },
  {
   "cell_type": "code",
   "execution_count": null,
   "metadata": {},
   "outputs": [],
   "source": [
    "df[df.duplicated(keep=False)]"
   ]
  },
  {
   "cell_type": "markdown",
   "metadata": {},
   "source": [
    "Lo bueno de la verifcación anterior es que sabemos que no existio multiples respuestas exactamente iguales."
   ]
  },
  {
   "cell_type": "markdown",
   "metadata": {},
   "source": [
    "## Columnas con ausencia de información\n",
    "\n",
    "El objetivo de este análisis es poder entender cuales son las columnas que poseen faltante de información."
   ]
  },
  {
   "cell_type": "code",
   "execution_count": null,
   "metadata": {},
   "outputs": [],
   "source": [
    "simbols = [\"-\",\"\",\"_\"]\n",
    "for c in simbols:\n",
    "    print(\"Column has simbol: '\",c,\"'\")\n",
    "    print(df.astype('str').eq(c).any())"
   ]
  },
  {
   "cell_type": "markdown",
   "metadata": {},
   "source": [
    "Viendo el resultado anterior, sabemos que no existen caracteres especiales que puedan representar la ausencia de valor distinto a NaN.\n",
    "\n",
    "A continuación, analizaremos las tablas con valores númericos. En la columna `edad` deberemos considerar como inválido cualquier valor menor o igual a cero. mientras que las columnas numéricas `amigos` `parientes` `precio_ticket` `volveria`, un valor menor a cero sería invalido."
   ]
  },
  {
   "cell_type": "code",
   "execution_count": null,
   "metadata": {},
   "outputs": [],
   "source": [
    "(df['edad'] <= 0).any()"
   ]
  },
  {
   "cell_type": "code",
   "execution_count": null,
   "metadata": {},
   "outputs": [],
   "source": [
    "columnas_con_numeros = ['amigos', 'parientes', 'precio_ticket', 'volveria']\n",
    "(df[columnas_con_numeros] < 0).any()"
   ]
  },
  {
   "cell_type": "markdown",
   "metadata": {},
   "source": [
    "Por lo visto de analizar la información, no tenemos casos extraños de respuestas que requieran de un análisis particular. Sin embargo, nos queda una verificacición de reelevancia como lo es verificar valores en `null`."
   ]
  },
  {
   "cell_type": "code",
   "execution_count": null,
   "metadata": {},
   "outputs": [],
   "source": [
    "df.isnull().sum()"
   ]
  },
  {
   "cell_type": "markdown",
   "metadata": {},
   "source": [
    "Como podemos ver de este último comando, la columna `fila` posee unos 624 nulls de los 801 valores. Adicionalmente, la segunda columna con poca información es la columna edad. A continuación calcularemos el porcentaje de que ausencia de valor de dichas columnas."
   ]
  },
  {
   "cell_type": "code",
   "execution_count": null,
   "metadata": {},
   "outputs": [],
   "source": [
    "(df.isnull().mean()*100).to_frame('porcentaje nulls')"
   ]
  },
  {
   "cell_type": "markdown",
   "metadata": {},
   "source": [
    "Viendo estos valores, podemos observar que en la columna `fila` que representa la fila donde se sento el cliente al ver la pelicula tiene un 78% de ausencia de información. En cuanto a la columna `edad`, encontramos un 20% de faltante de información. \n",
    "\n",
    "Es importante mencionar tambien que la columna `nombre_sede` tiene algunos valores en null por lo que deberemos tomar una decisión de que hacer con dichas entradas. En este paso vamos consultar si tenemos alguna fila duplicada."
   ]
  },
  {
   "cell_type": "markdown",
   "metadata": {},
   "source": [
    "## Funciones para el Analisis de cada Columna"
   ]
  },
  {
   "cell_type": "markdown",
   "metadata": {},
   "source": [
    "La función `porcentajeVolveria` nos servira para poder obtener los porcentajes que volverian basados en un agrupamiento."
   ]
  },
  {
   "cell_type": "code",
   "execution_count": null,
   "metadata": {},
   "outputs": [],
   "source": [
    "def porcentajeVolveria(group):\n",
    "    return (group == 1).mean() * 100.0"
   ]
  },
  {
   "cell_type": "markdown",
   "metadata": {},
   "source": [
    "## Análisis de la columna \"nombre\" y \"numero_de_ticket\""
   ]
  },
  {
   "cell_type": "markdown",
   "metadata": {},
   "source": [
    "Consideramos que el análisis de nombres y de los números de tickets son irrelevantes para determinar una relación que sirva a fiumark para determinar si la persona volveria ó no.\n",
    "\n",
    "Analizar estas variables podría conducir a correlaciones espurias con la variable target."
   ]
  },
  {
   "cell_type": "markdown",
   "metadata": {},
   "source": [
    "## Analisis de la columna \"Fila\"\n",
    "\n",
    "En este inciso analizaremos la columna `Fila`. Como vimos anteriormente, es una columna con muchos valores vacios. Es importante poder ver que hacer con dichos valores o si la columna tiene algo de información que nos pueda ser util. "
   ]
  },
  {
   "cell_type": "code",
   "execution_count": null,
   "metadata": {},
   "outputs": [],
   "source": [
    "volveria_por_fila = df.groupby(by='fila').agg({\n",
    "        \"volveria\" : porcentajeVolveria,       \n",
    "})\n",
    "volveria_por_fila"
   ]
  },
  {
   "cell_type": "code",
   "execution_count": null,
   "metadata": {},
   "outputs": [],
   "source": [
    "plt.figure(dpi=100)\n",
    "sns.countplot(data=df, x='fila', hue='volveria', palette={0: '#FF5555', 1: '#44EE44'},orient=\"vertical\")\n",
    "plt.ylabel(\"Cantidad\")\n",
    "plt.xlabel(\"Fila del Asiento donde vio Frozen 3\")\n",
    "plt.title(\"Volverian segun la fila\")"
   ]
  },
  {
   "cell_type": "markdown",
   "metadata": {},
   "source": [
    "Además del gran cantidad de ausencia de información acerca de dicha variable, lo que vemos es que la gran mayoría que contesto dijo que lo hizo en filas de adelante, lo que en principio nos dificulta poder hacer una diferencia entre los dos valores que tenemos que nos pueda determinar concretamente una relación entre el lugar donde se sento y la preferencia para volver.\n",
    "\n",
    "Teniendo esto en cuenta, y que no podemos inferir un valor para reemplazar en las ausencias, vamos a proceder a descartar dicha columna de nuestros analisis."
   ]
  },
  {
   "cell_type": "code",
   "execution_count": null,
   "metadata": {},
   "outputs": [],
   "source": [
    "df.drop(columns=['fila'],inplace=True)\n",
    "df"
   ]
  },
  {
   "cell_type": "markdown",
   "metadata": {},
   "source": [
    "## Analisis de la columna \"Edad\""
   ]
  },
  {
   "cell_type": "markdown",
   "metadata": {},
   "source": [
    "Reutilizaremos la función definida anteriomente para analizar la columna edad."
   ]
  },
  {
   "cell_type": "code",
   "execution_count": null,
   "metadata": {},
   "outputs": [],
   "source": [
    "volveria_por_edad = df.groupby(by='edad').agg({\n",
    "        \"volveria\" : porcentajeVolveria,       \n",
    "})\n",
    "volveria_por_edad"
   ]
  },
  {
   "cell_type": "markdown",
   "metadata": {},
   "source": [
    "En un primer analisis sobre las edades, podemos observar valores decimales lo cual genera demasiados valores posibles para dicha variable. Para poder optimizar los calculos, vamos a generar una categoría agrupando de a 10 años tomando su digito mas significativo. Ejemplo, todos aquellos que respondieron que tienen entre 20 y 30 años, estaran categorizados como 2."
   ]
  },
  {
   "cell_type": "code",
   "execution_count": null,
   "metadata": {},
   "outputs": [],
   "source": [
    "def categorizarEdad(edad):\n",
    "    if(np.isnan(edad)):\n",
    "        return edad\n",
    "    else:\n",
    "        return int(round(edad/10,0))\n",
    "\n",
    "\n",
    "df['edad_categorizada'] = df.edad.apply(categorizarEdad)\n",
    "df"
   ]
  },
  {
   "cell_type": "code",
   "execution_count": null,
   "metadata": {},
   "outputs": [],
   "source": [
    "plt.figure(dpi=120)\n",
    "sns.countplot(data=df, x='edad_categorizada', hue='volveria', palette={0: '#FF5555', 1: '#44EE44'},orient=\"vertical\")\n",
    "plt.ylabel(\"Cantidad\")\n",
    "plt.xticks(rotation='vertical')\n",
    "plt.xlabel(\"Categoria de Edad\")\n",
    "plt.title(\"Volverian segun categoria de edad\")"
   ]
  },
  {
   "cell_type": "markdown",
   "metadata": {},
   "source": [
    "El grafico anterior nos muestra que para personas con edad menor a 20 años, existe ciertos valores que podrian indicar una preferencia por volver. Sin embargo, de 20 años en adelante, en cada categoría la mayoria dice que no volveria. Esto tambien lo podemos observar obteniendo los porcentajes que volverian segun cada categoría."
   ]
  },
  {
   "cell_type": "code",
   "execution_count": null,
   "metadata": {},
   "outputs": [],
   "source": [
    "df.groupby(by='edad_categorizada').agg({\n",
    "        \"volveria\" : porcentajeVolveria\n",
    "})"
   ]
  },
  {
   "cell_type": "markdown",
   "metadata": {},
   "source": [
    "## Analisis de la columna \"Genero\""
   ]
  },
  {
   "cell_type": "markdown",
   "metadata": {},
   "source": [
    "Para el analisis por genero, lo primero que trataremos de observa es si existe algun tipo de preferencia entre volver o no dependiendo del mismo."
   ]
  },
  {
   "cell_type": "code",
   "execution_count": null,
   "metadata": {},
   "outputs": [],
   "source": [
    "plt.figure(dpi=100)\n",
    "sns.countplot(data=df, x='genero', hue='volveria', palette={0: '#FF5555', 1: '#44EE44'},orient=\"vertical\")\n",
    "plt.ylabel(\"Cantidad\")\n",
    "plt.xlabel(\"Genero\")\n",
    "plt.title(\"Volverian segun el Genero\")"
   ]
  },
  {
   "cell_type": "markdown",
   "metadata": {},
   "source": [
    "Como podemos observar, existe una relación muy fuerte entre el genero y las respuestas que dieron sobre si volverian o no, teniendo en los hombres una predeterminación a no volver y en las mujeres lo opuesto."
   ]
  },
  {
   "cell_type": "code",
   "execution_count": null,
   "metadata": {},
   "outputs": [],
   "source": [
    "df.groupby(by='genero').agg({\n",
    "        \"volveria\" : porcentajeVolveria\n",
    "})"
   ]
  },
  {
   "cell_type": "markdown",
   "metadata": {},
   "source": [
    "Con estos ultimos datos, podemos ver que la tendencia de no regresar de los hombres es mas marcada que la de volver de las mujeres. Aún así, estos valores nos muestran una tendencia muy marcada para cada uno de los generos, lo que nos proporciona una buena variable para iniciar nuestra función de predicción."
   ]
  },
  {
   "cell_type": "markdown",
   "metadata": {},
   "source": [
    "## Anásisis de la columna \"Amigos\"\n",
    "\n",
    "Aquí nos centraremos en ver si existe alguna influencia con la variable target: \"volveria\" respecto a la cantidad de amigos."
   ]
  },
  {
   "cell_type": "code",
   "execution_count": null,
   "metadata": {},
   "outputs": [],
   "source": [
    "plt.figure(dpi=120)\n",
    "sns.countplot(data=df, x='amigos', hue='volveria', palette={0: '#FF5555', 1: '#44EE44'})\n",
    "\n",
    "plt.show()"
   ]
  },
  {
   "cell_type": "markdown",
   "metadata": {},
   "source": [
    "Podemos observar que la cantidad de personas que **no volveria es importante para cuando la persona va sin amigos**, \n",
    "respecto a la cantidad de personas que volverían.\n",
    "\n",
    "Mientras que para las personas que van con 1 amigo ó más, notamos que no hay diferencias marcadas como para tomar una determinación clara sobre si volveria al cine ó no."
   ]
  },
  {
   "cell_type": "markdown",
   "metadata": {},
   "source": [
    "A continuación los porcentajes en valor numérico para cada cantidad de amigos en el df:"
   ]
  },
  {
   "cell_type": "code",
   "execution_count": null,
   "metadata": {},
   "outputs": [],
   "source": [
    "volveria_por_sede = df.groupby(by='amigos').agg({\n",
    "        \"volveria\" : porcentajeVolveria,       \n",
    "})\n",
    "volveria_por_sede"
   ]
  },
  {
   "cell_type": "markdown",
   "metadata": {},
   "source": [
    "## Análisis de la columna \"Parientes\""
   ]
  },
  {
   "cell_type": "markdown",
   "metadata": {},
   "source": [
    "En este caso haremos un análisis similar teniendo en cuenta también la cantidad de parientes respecto a la cantidad de personas que volverían(1) ó no(0)"
   ]
  },
  {
   "cell_type": "code",
   "execution_count": null,
   "metadata": {},
   "outputs": [],
   "source": [
    "import seaborn as sns\n",
    "\n",
    "plt.figure(dpi=130)\n",
    "sns.countplot(data=df, x='parientes', hue='volveria', palette={0: '#FF5555', 1: '#44EE44'})\n",
    "plt.plot()\n",
    "plt.show()"
   ]
  },
  {
   "cell_type": "markdown",
   "metadata": {},
   "source": [
    "Podemos observar que la cantidad de personas que **no volveria es reelevante para cuando la persona va sin parientes**, \n",
    "respecto a la cantidad de personas que volverían para esa misma cantidad de parientes.\n",
    "\n",
    "Mientras que para las personas que van con 1 pariente ó más, notamos que no hay diferencias marcadas como para tomar una determinación clara sobre si volveria al cine ó no."
   ]
  },
  {
   "cell_type": "markdown",
   "metadata": {},
   "source": [
    "A continuación una muestra de los porcentajes obtenidos para cada grupo de parientes:"
   ]
  },
  {
   "cell_type": "code",
   "execution_count": null,
   "metadata": {},
   "outputs": [],
   "source": [
    "volveria_por_sede = df.groupby(by='parientes').agg({\n",
    "        \"volveria\" : porcentajeVolveria,       \n",
    "})\n",
    "volveria_por_sede"
   ]
  },
  {
   "cell_type": "markdown",
   "metadata": {},
   "source": [
    "### ¿Qué pasa cuando la persona concurre al cine acompañado ó no?"
   ]
  },
  {
   "cell_type": "markdown",
   "metadata": {},
   "source": [
    "Luego de análizar las últimas 2 variables, vemos una tendencia a que la gente tiene una tendencia a no volver al cine en caso de ir sin amigos ó sin parientes, Entonces se nos ocurre la idea de analizar el dataframe construyendo una columna basándonos en si la persona fue acompañada al cine ó no, con el objetivo de ver si tienen la misma tendencia de resultados en el target: `volveria`, respecto a el análisis de amigos y parientes."
   ]
  },
  {
   "cell_type": "code",
   "execution_count": null,
   "metadata": {},
   "outputs": [],
   "source": [
    "def transformar_acompañado(amigos, parientes):\n",
    "    return ((amigos > 0) | (parientes > 0))\n",
    "\n",
    "df['acompañado'] = df.apply(lambda x: transformar_acompañado(x.amigos, x.parientes), axis=1)\n",
    "plt.figure(dpi=120)\n",
    "sns.countplot(data=df, x='acompañado', hue='volveria', palette={0: '#FF5555', 1: '#44EE44'}, orient=\"vertical\")\n",
    "plt.show()"
   ]
  },
  {
   "cell_type": "markdown",
   "metadata": {},
   "source": [
    "Esto nos da una noción de que el ir acompañado ayuda un poco pero no es un variable que nos sirva de mucho a la hora de decidir si volveria al cine.\n",
    "Mientras que el hecho de ir sólo, hace que dificilmente vuelva y puede ser reelevante para futuros análisis y el armado del baseline."
   ]
  },
  {
   "cell_type": "markdown",
   "metadata": {},
   "source": [
    "Acontinuación se muestran los porcentajes obtenidos para esta nueva columna en el data frame:"
   ]
  },
  {
   "cell_type": "code",
   "execution_count": null,
   "metadata": {},
   "outputs": [],
   "source": [
    "volveria_por_sede = df.groupby(by='acompañado').agg({\n",
    "        \"volveria\" : porcentajeVolveria,       \n",
    "})\n",
    "volveria_por_sede"
   ]
  },
  {
   "cell_type": "markdown",
   "metadata": {},
   "source": [
    "## Análisis de la columna \"nombre_sede\""
   ]
  },
  {
   "cell_type": "markdown",
   "metadata": {},
   "source": [
    "para este análisis usamos un gráfico de barras con el objetivo de cuantificar que cantidad de personas vuelve ó no al cine según la sede. para ello agrupo el data frame por sedes y luego ploteo con el target."
   ]
  },
  {
   "cell_type": "code",
   "execution_count": null,
   "metadata": {},
   "outputs": [],
   "source": [
    "plt.figure(dpi=120)\n",
    "sns.countplot(data=df, x='nombre_sede', hue='volveria', palette={0: '#FF5555', 1: '#44EE44'}, order=[\"fiumark_chacarita\",\"fiumark_palermo\",\"fiumark_quilmes\"])\n",
    "plt.title(\"Cantidad de personas que volvería/no volverían respecto a la sede\")\n",
    "plt.ylabel(\"Cantidad\")\n",
    "plt.xlabel(\"Sede\")\n",
    "plt.show()\n",
    "\n"
   ]
  },
  {
   "cell_type": "markdown",
   "metadata": {},
   "source": [
    "Aquí podemos inferir que para la sede palermo la mayor parte de personas encuestadas no volvería, y en una gran cantidad respecto al total de usuarios encuestados(~800). Lo que nos da un pie a un posible futuro análisis junto a otras variables."
   ]
  },
  {
   "cell_type": "markdown",
   "metadata": {},
   "source": [
    "A continuación muestro los porcentajes de el target volveria en referencia a cada sede:"
   ]
  },
  {
   "cell_type": "code",
   "execution_count": null,
   "metadata": {},
   "outputs": [],
   "source": [
    "volveria_por_sede = df.groupby(by='nombre_sede').agg({\n",
    "        \"volveria\" : porcentajeVolveria,       \n",
    "})\n",
    "volveria_por_sede"
   ]
  },
  {
   "cell_type": "markdown",
   "metadata": {},
   "source": [
    "## Análisis de la columna \"tipo_de_sala\""
   ]
  },
  {
   "cell_type": "markdown",
   "metadata": {},
   "source": [
    "Nuevamente analizamos la variable **tipo_de_sala**, discreta, de solo 3 tipos de sala: **normal, 3d y 4d**. ploteamos las cantidad y porcentajes en función de la variable target y obtuvimos los siguentes valores. "
   ]
  },
  {
   "cell_type": "code",
   "execution_count": null,
   "metadata": {},
   "outputs": [],
   "source": [
    "plt.figure(dpi=120)\n",
    "sns.countplot(data=df, x='tipo_de_sala', hue='volveria', palette={0: '#FF5555', 1: '#44EE44'} )\n",
    "plt.title(\"Cantidad de personas que volverías/no volverían respecto al tipo de sala\")\n",
    "plt.ylabel(\"Cantidad\")\n",
    "plt.xlabel(\"Sala\")\n",
    "plt.show()"
   ]
  },
  {
   "cell_type": "markdown",
   "metadata": {},
   "source": [
    "## Analisis de la columna \"Precio Ticket\"\n",
    "\n",
    "Como previamente hicimos, analizaremos a grande razgos la variable en un principio para ver si existe algun categoría de precio que debamos analizar en particular."
   ]
  },
  {
   "cell_type": "code",
   "execution_count": null,
   "metadata": {},
   "outputs": [],
   "source": [
    "plt.figure(dpi=130)\n",
    "sns.countplot(data=df, x='precio_ticket', hue='volveria', palette={0: '#FF5555', 1: '#44EE44'},orient=\"vertical\")\n",
    "plt.ylabel(\"Cantidad\")\n",
    "plt.xlabel(\"Genero\")\n",
    "plt.title(\"Volverian segun el precio del ticket\")"
   ]
  },
  {
   "cell_type": "markdown",
   "metadata": {},
   "source": [
    "Como podemos observar, para los que su precio de ticket fue categorizado como `1`, las respuestas negativas son muy altas en comparación con las respuestas positivas. Esto nos inclina a analizar en parte para todos aquellos que tuvieron esa categoria, en comparación con los que tuvieron otra categoria de precio. Para esto, vamos a generar una nueva categoría que se llamara precio_1 y tendra un True o False si pertenece a dicha categoria."
   ]
  },
  {
   "cell_type": "code",
   "execution_count": null,
   "metadata": {},
   "outputs": [],
   "source": [
    "def categorizarPrecio(precio):\n",
    "    return precio == 1\n",
    "\n",
    "\n",
    "df['es_precio_ticket_1'] = df.precio_ticket.apply(categorizarPrecio)\n",
    "df"
   ]
  },
  {
   "cell_type": "code",
   "execution_count": null,
   "metadata": {},
   "outputs": [],
   "source": [
    "plt.figure(dpi=100)\n",
    "sns.countplot(data=df, x='es_precio_ticket_1', hue='volveria', palette={0: '#FF5555', 1: '#44EE44'},orient=\"vertical\")\n",
    "plt.ylabel(\"Cantidad\")\n",
    "plt.xlabel(\"¿Su ticket era de la categoria precio 1?\")\n",
    "plt.title(\"Volverian segun el precio del ticket\")"
   ]
  },
  {
   "cell_type": "markdown",
   "metadata": {},
   "source": [
    "Como ya vimos, para aquellos que fueron categorizados que abonaron el precio ticket `1` tienen una gran tendencia en la respuesta a no volver. Sin embargo, agrupando todas las otras categorias, vemos que es bastante similar los valores, con una leve inclinación a volver."
   ]
  },
  {
   "cell_type": "code",
   "execution_count": null,
   "metadata": {},
   "outputs": [],
   "source": [
    "df.groupby(by='es_precio_ticket_1').agg({\"volveria\" : porcentajeVolveria})"
   ]
  },
  {
   "cell_type": "markdown",
   "metadata": {},
   "source": [
    "# Conclusión de los Análisis de las Variables Individuales"
   ]
  },
  {
   "cell_type": "markdown",
   "metadata": {},
   "source": [
    "De las variables anteriores, hemos visto que la más marcada diferencia entre volveria o no y entre sus distintas sub-categorias fue la variable `genero`. Es por eso que vamos a tomar a esta primera variable para generar nuestra primera función de predicción."
   ]
  },
  {
   "cell_type": "markdown",
   "metadata": {},
   "source": [
    "# Función de Predicción (Accuracy)"
   ]
  },
  {
   "cell_type": "markdown",
   "metadata": {},
   "source": [
    "La función `porcentualAcertado` nos permitira pasarle dos listados representando en el mismo orden los valores de si volvería o no retornando un valor porcentual de acierto."
   ]
  },
  {
   "cell_type": "code",
   "execution_count": null,
   "metadata": {},
   "outputs": [],
   "source": [
    "def porcentualAcertado(a,b):\n",
    "    \"\"\"Pre: recibe 2 listas de igual longitud siendo \n",
    "    a: la lista de las predicciones realizadas con la función de predicción \n",
    "    b: la lista de valores obtenidos de la variable target original.  \n",
    "        Post: devolvió el porcentaje de aciertos de la función de predicción respecto de la original.\n",
    "    \"\"\"\n",
    "    cantidad_acertada = 0\n",
    "    total_usuarios = len(b)\n",
    "    for i in range(total_usuarios):\n",
    "        if(a[i] == b[i]):\n",
    "            cantidad_acertada += 1\n",
    "    return cantidad_acertada / total_usuarios"
   ]
  },
  {
   "cell_type": "markdown",
   "metadata": {},
   "source": [
    "Luego definiremos la función `baseline` la cual tiene por objetivo recibir un data frame y así retornar el listado ordenado de si cumple o no para cada respuesta del formulario. Para esto utilizará la `funcionPrediccion` definida que determinara por fila si debe volver o no, retornando 0 para no volveria y 1 para volveria."
   ]
  },
  {
   "cell_type": "code",
   "execution_count": null,
   "metadata": {},
   "outputs": [],
   "source": [
    "def baseline(dataFrame):\n",
    "    resultado = []\n",
    "    for i, fila in dataFrame.iterrows():\n",
    "        resultado.append(funcionPrediccion(fila))\n",
    "    return resultado"
   ]
  },
  {
   "cell_type": "markdown",
   "metadata": {},
   "source": [
    "Y por ultimo, vamos a definir la función `accuracy`, que nos retornara el porcentaje de aciertos que posee una función determinada para un data frame."
   ]
  },
  {
   "cell_type": "code",
   "execution_count": null,
   "metadata": {},
   "outputs": [],
   "source": [
    "def accuracy(dataFrame):\n",
    "    aciertos = porcentualAcertado(baseline(dataFrame.drop(columns=['volveria'],inplace=False)), dataFrame['volveria'].to_list())\n",
    "    return round(aciertos * 100, 2)"
   ]
  },
  {
   "cell_type": "markdown",
   "metadata": {},
   "source": [
    "# Generación de la función de predicción"
   ]
  },
  {
   "cell_type": "markdown",
   "metadata": {},
   "source": [
    "Primeramente vamos a tratar de analizar una función muy basica asumiendo que todos volverian"
   ]
  },
  {
   "cell_type": "code",
   "execution_count": null,
   "metadata": {},
   "outputs": [],
   "source": [
    "def funcionPrediccion(fila):\n",
    "     return 1\n",
    "accuracy(df)"
   ]
  },
  {
   "cell_type": "markdown",
   "metadata": {},
   "source": [
    "Como podemos observar, una función asi solo nos da un 38,33% de acierto. Este numero tampoco es al azar, ya que coincide con el porcentaje de volverian que habia en nuestro data frame. Para mejorar el valor predecido, podemos utilizar el negado de esta función asumiendo que todos no volverian, donde obtendremos el resultado complemento"
   ]
  },
  {
   "cell_type": "code",
   "execution_count": null,
   "metadata": {},
   "outputs": [],
   "source": [
    "def funcionPrediccion(fila):\n",
    "     return 0\n",
    "accuracy(df)"
   ]
  },
  {
   "cell_type": "markdown",
   "metadata": {},
   "source": [
    "De los analisis anteriores, esta vez vamos a generar una función de predicción utilizando la variable con mayor polarizacion que observamos que fue la variable Genero. En este caso, si nos encontramos con una mujer asumiremos que volvera, y en cambio para los hombres, el resultado será el opuesto."
   ]
  },
  {
   "cell_type": "code",
   "execution_count": null,
   "metadata": {},
   "outputs": [],
   "source": [
    "def funcionPrediccion(fila):\n",
    "     return 1 if (fila['genero'] == 'mujer') else 0\n",
    "accuracy(df)"
   ]
  },
  {
   "cell_type": "markdown",
   "metadata": {},
   "source": [
    "Como podemos observar, ya solo haber realizado un filtrado por dicha variable, generamos una función de predicción capaz de acertar en un 78,9% en relación con la información original que teniamos, el cual es un mejor valor que asumir que ninguno volvia.\n",
    "\n",
    "Realizaremos otras funciones de predición en base a los analisis superiores de cada variable individual como para revisar si existe alguna otra variable que nos presente un mejor valor."
   ]
  },
  {
   "cell_type": "code",
   "execution_count": null,
   "metadata": {},
   "outputs": [],
   "source": [
    "def funcionPrediccion(fila):\n",
    "     return 1 if (fila['es_precio_ticket_1'] == False) else 0\n",
    "accuracy(df)"
   ]
  },
  {
   "cell_type": "code",
   "execution_count": null,
   "metadata": {},
   "outputs": [],
   "source": [
    "def funcionPrediccion(fila):\n",
    "     return 1 if (fila['tipo_de_sala'] == '4D') else 0\n",
    "accuracy(df)"
   ]
  },
  {
   "cell_type": "code",
   "execution_count": null,
   "metadata": {},
   "outputs": [],
   "source": [
    "def funcionPrediccion(fila):\n",
    "     return 1 if (fila['acompañado']) else 0\n",
    "accuracy(df)"
   ]
  },
  {
   "cell_type": "code",
   "execution_count": null,
   "metadata": {},
   "outputs": [],
   "source": [
    "def funcionPrediccion(fila):\n",
    "     return 1 if (fila['nombre_sede'] == 'fiumark_chacarita') else 0\n",
    "accuracy(df)"
   ]
  },
  {
   "cell_type": "code",
   "execution_count": null,
   "metadata": {},
   "outputs": [],
   "source": [
    "def funcionPrediccion(fila):\n",
    "     return 1 if (fila['tipo_de_sala'] == 'normal') else 0\n",
    "accuracy(df)"
   ]
  },
  {
   "cell_type": "markdown",
   "metadata": {},
   "source": [
    "Como pudimos observar de estos analisis, el que nos generó un mayor porcentaje de aciertos fue cuando nuestra función de predicción se baso simplemente en la variable `genero`."
   ]
  },
  {
   "cell_type": "markdown",
   "metadata": {},
   "source": [
    "## Correlación entre variables\n",
    "\n",
    "A continuación a partir de los datos recabados de algunas de las columnas anteriores se nos ocurre a analizar si existen algunas relaciones entre las distintas variables que nos permita mejorar nuestra función de predicción. Para eso, trataremos de encontrar algún comportamiento común entre variables que no se relacione con lo que ya fuimos observando para cada una de las mismas individualmente."
   ]
  },
  {
   "cell_type": "markdown",
   "metadata": {},
   "source": [
    "### Genero en relación con el Precio del Ticket\n",
    "\n",
    "Anteriormente observamos que las mujeres en su gran mayoría respondían que volverían, mientras que los hombres lo opuesto. Por otro lado, pudimos observar que en cuanto al precio pagado por el ticket, aquellos que su ticket tuvo el valor categorizado como `1`, no solo son el grupo mayoritario, sino que además, la gran mayoría de estos respondió que no volvería.\n",
    "\n",
    "En los análisis siguientes trataremos de encontrar si existe o no una relación entre las variables. Para ello, lo que haremos es separar por genero y según si su precio de ticket corresponde a la categoría 1 o no."
   ]
  },
  {
   "cell_type": "code",
   "execution_count": null,
   "metadata": {},
   "outputs": [],
   "source": [
    "plt.figure(dpi=100)\n",
    "sns.countplot(data=df[df.es_precio_ticket_1], x='genero', hue='volveria', palette={0: '#FF5555', 1: '#44EE44'},orient=\"vertical\")\n",
    "plt.ylabel(\"Cantidad\")\n",
    "plt.xlabel(\"Genero\")\n",
    "plt.title(\"¿Volverian por Genero que tuvieron el precio de ticket 1?\")"
   ]
  },
  {
   "cell_type": "code",
   "execution_count": null,
   "metadata": {},
   "outputs": [],
   "source": [
    "plt.figure(dpi=100)\n",
    "sns.countplot(data=df[df.es_precio_ticket_1 == False], x='genero', hue='volveria', palette={0: '#FF5555', 1: '#44EE44'},orient=\"vertical\")\n",
    "plt.ylabel(\"Cantidad\")\n",
    "plt.xlabel(\"Categoria de Edad\")\n",
    "plt.title(\"¿Volverian por Genero que tuvieron otro precio de ticket que no fue el 1?\")"
   ]
  },
  {
   "cell_type": "markdown",
   "metadata": {},
   "source": [
    "De estos graficos podemos observar que en todos los escenarios, las mujeres volverían, mientras que los hombres no, independientemente de la si fueron categorizados en el precio que pagaron con el valor `1`. Es importante igual destacar, que el valor en las mujeres que volverian pagando dicha tarifa es mayor pero muy similar a las que no volverian. Dado este escenario que no altera lo que esperabamos, dejaremos el analizar la posibilidad de la influencia en el tipo de precio para más adelante."
   ]
  },
  {
   "cell_type": "markdown",
   "metadata": {},
   "source": [
    "### Genero en relación con el tipo de sala\n",
    "\n",
    "Esta vez vamos a concentrarnos en si para algún tipo de sala, uno de los generos se comporta distinto a lo esperado, es decir, que las mujeres vuelvan en mayoría y que los hombres no lo hagan."
   ]
  },
  {
   "cell_type": "code",
   "execution_count": null,
   "metadata": {},
   "outputs": [],
   "source": [
    "plt.figure(dpi=100)\n",
    "sns.countplot(data=df[df['genero'] == 'hombre' ], x='tipo_de_sala', hue='volveria', palette={0: '#FF5555', 1: '#44EE44'},orient=\"vertical\")\n",
    "plt.ylabel(\"Cantidad\")\n",
    "plt.xlabel(\"Tipo de Sala\")\n",
    "plt.title(\"¿Cuál fue la respuesta para los hombres según el tipo de sala?\")"
   ]
  },
  {
   "cell_type": "code",
   "execution_count": null,
   "metadata": {},
   "outputs": [],
   "source": [
    "plt.figure(dpi=100)\n",
    "sns.countplot(data=df[df['genero'] == 'mujer'], x='tipo_de_sala', hue='volveria', palette={0: '#FF5555', 1: '#44EE44'},orient=\"vertical\")\n",
    "plt.ylabel(\"Cantidad\")\n",
    "plt.xlabel(\"Tipo de Sala\")\n",
    "plt.title(\"¿Cuál fue la respuesta para las mujeres según el tipo de sala?\")"
   ]
  },
  {
   "cell_type": "markdown",
   "metadata": {},
   "source": [
    "En el primer grafico no observamos ninguna diferencia con lo que veniamos viendo del análisis de cada variable, es decir, los hombres no volverían independientemente del tipo de sala. Sin embargo, en el segundo gráfico encontramos un escenario particular. Las mujeres para las salas 4D en su mayoría responden que no volverian. Esto nos da un indicio para mejorar nuestra función de predicción ya que deberemos considerar este escenario particular para las mujeres."
   ]
  },
  {
   "cell_type": "code",
   "execution_count": null,
   "metadata": {},
   "outputs": [],
   "source": [
    "def funcionPrediccion(fila):\n",
    "    if (fila['genero'] == 'mujer') & (fila['tipo_de_sala'] != '4d'):\n",
    "        return 1\n",
    "    return 0\n",
    "accuracy(df)"
   ]
  },
  {
   "cell_type": "markdown",
   "metadata": {},
   "source": [
    "Esto nos permitio aumentar de 78,9% a un 79,53% de aciertos."
   ]
  },
  {
   "cell_type": "markdown",
   "metadata": {},
   "source": [
    "### Genero en relación con la sede\n",
    "\n",
    "En este caso, vamos a evaluar si existe una relacion entre dichas variables."
   ]
  },
  {
   "cell_type": "code",
   "execution_count": null,
   "metadata": {},
   "outputs": [],
   "source": [
    "plt.figure(dpi=100)\n",
    "sns.countplot(data=df[df['genero'] == 'hombre' ], x='nombre_sede', hue='volveria', palette={0: '#FF5555', 1: '#44EE44'},orient=\"vertical\")\n",
    "plt.ylabel(\"Cantidad\")\n",
    "plt.xlabel(\"Sede\")\n",
    "plt.title(\"¿Cuál fue la respuesta para los hombres según la sede?\")"
   ]
  },
  {
   "cell_type": "code",
   "execution_count": null,
   "metadata": {},
   "outputs": [],
   "source": [
    "plt.figure(dpi=100)\n",
    "sns.countplot(data=df[df['genero'] == 'mujer' ], x='nombre_sede', hue='volveria', palette={0: '#FF5555', 1: '#44EE44'},orient=\"vertical\")\n",
    "plt.ylabel(\"Cantidad\")\n",
    "plt.xlabel(\"Sede\")\n",
    "plt.title(\"¿Cuál fue la respuesta para las mujeres según la sede?\")"
   ]
  },
  {
   "cell_type": "markdown",
   "metadata": {},
   "source": [
    "Para estos graficos, no encontramos nada distinto a lo que veníamos viendo. En todas las sedes las mujeres prefieren volver y los hombres no."
   ]
  },
  {
   "cell_type": "markdown",
   "metadata": {},
   "source": [
    "### Genero en relación con la edad\n",
    "\n",
    "Para este escenario vamos a ver como se relaciona el genero con la edad utilizando inicialmente nuestra variable de categoría de edad."
   ]
  },
  {
   "cell_type": "code",
   "execution_count": null,
   "metadata": {},
   "outputs": [],
   "source": [
    "plt.figure(dpi=120)\n",
    "data=df[df['genero'] == 'hombre' ]\n",
    "sns.countplot(data=data, x='edad_categorizada', hue='volveria', palette={0: '#FF5555', 1: '#44EE44'},orient=\"vertical\")\n",
    "plt.ylabel(\"Cantidad\")\n",
    "plt.xticks(rotation='vertical')\n",
    "plt.xlabel(\"Categoria de Edad\")\n",
    "plt.title(\"¿Volverian los hombres dependiendo de la edad?\")"
   ]
  },
  {
   "cell_type": "code",
   "execution_count": null,
   "metadata": {},
   "outputs": [],
   "source": [
    "plt.figure(dpi=120)\n",
    "data=df[df['genero'] == 'mujer' ]\n",
    "sns.countplot(data=data, x='edad_categorizada', hue='volveria', palette={0: '#FF5555', 1: '#44EE44'},orient=\"vertical\")\n",
    "plt.ylabel(\"Cantidad\")\n",
    "plt.xticks(rotation='vertical')\n",
    "plt.xlabel(\"Categoria de Edad\")\n",
    "plt.title(\"¿Volverian las mujeres dependiendo de la edad?\")"
   ]
  },
  {
   "cell_type": "markdown",
   "metadata": {},
   "source": [
    "Como podemos observar encontramos un escenario particular que para la categoría de 0 para los hombres, es decir, hombres entre 0 y 10 años, su tendencia es la de volver. Esto es contrario a lo que esperabamos y deberíamos analizar mas dicha información. En este caso, lo que debemos hacer es encontrar el límite, para los cuales los hombres prefieren volver."
   ]
  },
  {
   "cell_type": "code",
   "execution_count": null,
   "metadata": {},
   "outputs": [],
   "source": [
    "plt.figure(dpi=120)\n",
    "data=df[(df['genero'] == 'hombre') & (df['edad'] <= 20.0 ) ]\n",
    "sns.countplot(data=data, x='edad', hue='volveria', palette={0: '#FF5555', 1: '#44EE44'},orient=\"vertical\")\n",
    "plt.ylabel(\"Cantidad\")\n",
    "plt.xticks(rotation='vertical')\n",
    "plt.xlabel(\"Categoría de Edad\")\n",
    "plt.title(\"¿Cómo se deglosa las respuestas de los hombres menores a 20 años?\")"
   ]
  },
  {
   "cell_type": "markdown",
   "metadata": {},
   "source": [
    "A continuación, nos interesa encontrar el punto de corte, para el cual existen mayores respuestas positivas que negativas."
   ]
  },
  {
   "cell_type": "code",
   "execution_count": null,
   "metadata": {},
   "outputs": [],
   "source": [
    "values = {}\n",
    "data=df[df['genero'] == 'hombre' ]\n",
    "for x in range(20,4,-1):\n",
    "    data=data[data['edad'] <= x ]\n",
    "    data_volverian = data[data['volveria'] == 1 ]\n",
    "    y = data_volverian.value_counts().sum() / data.value_counts().sum() * 100\n",
    "    values[x] = y\n",
    "values"
   ]
  },
  {
   "cell_type": "code",
   "execution_count": null,
   "metadata": {},
   "outputs": [],
   "source": [
    "lists = sorted(values.items())\n",
    "x, y = zip(*lists)\n",
    "\n",
    "fig, axes = plt.subplots(nrows=1, ncols=1, figsize=[6.4 * 2 , 4.8], dpi=100)\n",
    "axes.plot(x, y)\n",
    "axes.set_title('Porcentaje de volvería vs Edad agrupada')\n",
    "axes.set_xlabel('Edad [Años]')\n",
    "axes.set_ylabel('Porcentaje de volvería[%]')\n",
    "\n",
    "delimitador_bool = plt.axhline(y=50, color='r', linestyle='-', label='corte de acumulación')\n",
    "plt.hlines(xmin=5, xmax=20, y=[35, 40, 45, 50, 55, 60, 65, 70], color='gray', linestyle='dotted')\n",
    "plt.vlines(x=[6, 8, 10, 12, 14, 16, 18, 20], ymin=30, ymax=80, color='gray', linestyle='dotted')\n",
    "plt.legend(handles=[delimitador_bool])\n",
    "\n",
    "\n",
    "plt.show()"
   ]
  },
  {
   "cell_type": "markdown",
   "metadata": {},
   "source": [
    "Como se puede observar, el punto de corte de acumulación es de 18 años. Esto quiere decir, que para todo hombre de que tenga menos de 18 años, tendra una tendencia positiva para volver"
   ]
  },
  {
   "cell_type": "code",
   "execution_count": null,
   "metadata": {},
   "outputs": [],
   "source": [
    "def funcionPrediccion(fila):\n",
    "    if ((fila['genero'] == 'mujer') & (fila['tipo_de_sala'] == '4d')):\n",
    "        return 0\n",
    "    if(fila['genero'] == 'mujer'):\n",
    "        return 1\n",
    "    if ((fila['genero'] == 'hombre') & (fila['edad'] < 18) ):\n",
    "        return 1\n",
    "    return 0\n",
    "accuracy(df)"
   ]
  },
  {
   "cell_type": "markdown",
   "metadata": {},
   "source": [
    "En este caso, mejoramos muy poco nuestra predicción pero pudimos incoporar una mejora determinando que los hombres menores a 18 prefieren volver."
   ]
  },
  {
   "cell_type": "markdown",
   "metadata": {},
   "source": [
    "### Genero en relación con si vino acompañado\n",
    "\n",
    "En este caso, vamos a evaluar si existe una relación entre el `genero` y si vino `acompañado` a la hora de responder sobre si volverian."
   ]
  },
  {
   "cell_type": "code",
   "execution_count": null,
   "metadata": {},
   "outputs": [],
   "source": [
    "plt.figure(dpi=100)\n",
    "sns.countplot(data=df[df['genero'] == 'hombre' ], x='acompañado', hue='volveria', palette={0: '#FF5555', 1: '#44EE44'},orient=\"vertical\")\n",
    "plt.ylabel(\"Cantidad\")\n",
    "plt.xlabel(\"Sede\")\n",
    "plt.title(\"¿Cual fue la respuesta para los hombres que vinieron acompñados?\")\n",
    "plt.show()"
   ]
  },
  {
   "cell_type": "code",
   "execution_count": null,
   "metadata": {},
   "outputs": [],
   "source": [
    "plt.figure(dpi=100)\n",
    "sns.countplot(data=df[df['genero'] == 'mujer' ], x='acompañado', hue='volveria', palette={0: '#FF5555', 1: '#44EE44'},orient=\"vertical\")\n",
    "plt.ylabel(\"Cantidad\")\n",
    "plt.xlabel(\"Sede\")\n",
    "plt.title(\"¿Cual fue la respuesta para las mujeres que vinieron acompñadas?\")\n",
    "plt.show()"
   ]
  },
  {
   "cell_type": "markdown",
   "metadata": {},
   "source": [
    "Nuevamente, en este análisis no encontramos ningun resultado inesperado. Las mujeres prefieren volver y los hombres no."
   ]
  },
  {
   "cell_type": "markdown",
   "metadata": {},
   "source": [
    "## Correlación entre tres variables"
   ]
  },
  {
   "cell_type": "markdown",
   "metadata": {},
   "source": [
    "En esta zona vamos a tratar de encontrar relaciones entre 3 variables. Dado que de la parte anterior aprendimos que las mujeres vuelven salvo para las salas 4D y los hombres no vuelven salvo aquellos que tienen menos de 18 años, estas dos variables las usaremos de base y buscaremos si una tercer variable puede afectar dichos resultados y darnos un indicio de como mejorar aún más nuestra función de predicción."
   ]
  },
  {
   "cell_type": "markdown",
   "metadata": {},
   "source": [
    "### Relaciones con el precio del ticket"
   ]
  },
  {
   "cell_type": "code",
   "execution_count": null,
   "metadata": {},
   "outputs": [],
   "source": [
    "plt.figure(dpi=100)\n",
    "data = df[ (df['genero'] == 'mujer') & (df['tipo_de_sala'] == '4d')]\n",
    "sns.countplot(data=data, x='es_precio_ticket_1', hue='volveria', palette={0: '#FF5555', 1: '#44EE44'},orient=\"vertical\")\n",
    "plt.ylabel(\"Cantidad\")\n",
    "plt.xlabel(\"Tipo de Sala\")\n",
    "plt.title(\"¿Cual fue la respuesta para las mujeres que asistieron a sala 4D segun el precio pagado?\")\n",
    "plt.show()"
   ]
  },
  {
   "cell_type": "markdown",
   "metadata": {},
   "source": [
    "De este último gráfico, vemos que para las mujeres si pago el tipo de ticket `1`, indistintamente de haber asistido a la sala 4D, si deciden volver en su gran mayoría. Esto nos sirve para mejorar aún más nuestra función de predicción"
   ]
  },
  {
   "cell_type": "code",
   "execution_count": null,
   "metadata": {},
   "outputs": [],
   "source": [
    "def funcionPrediccion(fila):\n",
    "    if ((fila['genero'] == 'mujer') & (fila['tipo_de_sala'] == '4d') & (fila['es_precio_ticket_1'])):\n",
    "        return 1\n",
    "    if ((fila['genero'] == 'mujer') & (fila['tipo_de_sala'] == '4d')):\n",
    "        return 0\n",
    "    if(fila['genero'] == 'mujer'):\n",
    "        return 1\n",
    "    if ((fila['genero'] == 'hombre') & (fila['edad'] < 18) ):\n",
    "        return 1\n",
    "    return 0\n",
    "accuracy(df)"
   ]
  },
  {
   "cell_type": "markdown",
   "metadata": {},
   "source": [
    "Esto ya nos logro elevar nuestro valor de acierto a un 80,65%, y es el valor mas alto que hemos conseguido hasta el momento. Ahora nos falta por analizar si para las mujeres que no fueron a la sala 4D si el precio de ticket influencio."
   ]
  },
  {
   "cell_type": "code",
   "execution_count": null,
   "metadata": {},
   "outputs": [],
   "source": [
    "plt.figure(dpi=100)\n",
    "data = df[ (df['genero'] == 'mujer') & (df['tipo_de_sala'] != '4d')]\n",
    "sns.countplot(data=data, x='es_precio_ticket_1', hue='volveria', palette={0: '#FF5555', 1: '#44EE44'},orient=\"vertical\")\n",
    "plt.ylabel(\"Cantidad\")\n",
    "plt.xlabel(\"Tipo de Sala\")\n",
    "plt.title(\"¿Cuál fue la respuesta para las mujeres que no asistieron a sala 4D según el precio pagado?\")\n",
    "plt.show()"
   ]
  },
  {
   "cell_type": "markdown",
   "metadata": {},
   "source": [
    "En este caso, no obtuvimos información nueva.\n",
    "\n",
    "Para continuar con los analisis, ahora vamos a trabajar con los hombres, y esta vez separando para los menores y para los mayores de 18 años."
   ]
  },
  {
   "cell_type": "code",
   "execution_count": null,
   "metadata": {},
   "outputs": [],
   "source": [
    "plt.figure(dpi=100)\n",
    "data = df[ (df['genero'] == 'hombre') & (df['edad'] < 18)]\n",
    "sns.countplot(data=data, x='es_precio_ticket_1', hue='volveria', palette={0: '#FF5555', 1: '#44EE44'},orient=\"vertical\")\n",
    "plt.ylabel(\"Cantidad\")\n",
    "plt.xlabel(\"Tipo de Sala\")\n",
    "plt.title(\"¿Cuál fue la respuesta para las hombres menores de 18 años según el precio pagado?\")\n",
    "plt.show()"
   ]
  },
  {
   "cell_type": "code",
   "execution_count": null,
   "metadata": {},
   "outputs": [],
   "source": [
    "plt.figure(dpi=100)\n",
    "data = df[ (df['genero'] == 'hombre') & (df['edad'] >= 18)]\n",
    "sns.countplot(data=data, x='es_precio_ticket_1', hue='volveria', palette={0: '#FF5555', 1: '#44EE44'},orient=\"vertical\")\n",
    "plt.ylabel(\"Cantidad\")\n",
    "plt.xlabel(\"Tipo de Sala\")\n",
    "plt.title(\"¿Cuál fue la respuesta para las hombres mayores de 18 años según el precio pagado?\")\n",
    "plt.show()"
   ]
  },
  {
   "cell_type": "markdown",
   "metadata": {},
   "source": [
    "Para estos dos graficos, no obtuvimos nueva información que nos sirva para mejorar nuestra función de predicción. Si cabe destacar que el resultado de hombres menores de 18 años y que no pagaron la tarfia del ticket 1 dio un valor igualado, pero esto no nos genera una tendencia inversa a lo que habiamos visto."
   ]
  },
  {
   "cell_type": "markdown",
   "metadata": {},
   "source": [
    "### Relaciones con el tipo de sala"
   ]
  },
  {
   "cell_type": "code",
   "execution_count": null,
   "metadata": {},
   "outputs": [],
   "source": [
    "plt.figure(dpi=100)\n",
    "data = df[ (df['genero'] == 'hombre') & (df['edad'] < 18)]\n",
    "sns.countplot(data=data, x='tipo_de_sala', hue='volveria', palette={0: '#FF5555', 1: '#44EE44'},orient=\"vertical\")\n",
    "plt.ylabel(\"Cantidad\")\n",
    "plt.xlabel(\"Tipo de Sala\")\n",
    "plt.title(\"¿Cuál fue la respuesta para las hombres menores de 18 años según el tipo de sala?\")\n",
    "plt.show()"
   ]
  },
  {
   "cell_type": "markdown",
   "metadata": {},
   "source": [
    "De este gráfico observamos que los hombres menores de 18 años para las salas 4d prefieren no volver mientras que para las otras si. Esto se comporta distinto a lo esperado y nos sirve para nuevamente mejorar la función de predicción."
   ]
  },
  {
   "cell_type": "code",
   "execution_count": null,
   "metadata": {},
   "outputs": [],
   "source": [
    "def funcionPrediccion(fila):\n",
    "    if ((fila['genero'] == 'mujer') & (fila['tipo_de_sala'] == '4d') & (fila['es_precio_ticket_1'])):\n",
    "        return 1\n",
    "    if ((fila['genero'] == 'mujer') & (fila['tipo_de_sala'] == '4d')):\n",
    "        return 0\n",
    "    if(fila['genero'] == 'mujer'):\n",
    "        return 1\n",
    "    if ((fila['genero'] == 'hombre') & (fila['edad'] < 18) & (fila['tipo_de_sala'] == '4d')): \n",
    "        return 0\n",
    "    if ((fila['genero'] == 'hombre') & (fila['edad'] < 18) ):\n",
    "        return 1\n",
    "    return 0\n",
    "accuracy(df)"
   ]
  },
  {
   "cell_type": "markdown",
   "metadata": {},
   "source": [
    "Con este ultimo cambio, hemos llegado nuevamente al valor mas alto de predicción hasta el momento logrando un 81,65% de certeza utilizando los mismos datos de entrada."
   ]
  },
  {
   "cell_type": "code",
   "execution_count": null,
   "metadata": {},
   "outputs": [],
   "source": [
    "plt.figure(dpi=100)\n",
    "data = df[ (df['genero'] == 'hombre') & (df['edad'] >= 18)]\n",
    "sns.countplot(data=data, x='tipo_de_sala', hue='volveria', palette={0: '#FF5555', 1: '#44EE44'},orient=\"vertical\")\n",
    "plt.ylabel(\"Cantidad\")\n",
    "plt.xlabel(\"Tipo de Sala\")\n",
    "plt.title(\"¿Cuál fue la respuesta para las hombres mayores de 18 años según el tipo de sala?\")\n",
    "plt.show()"
   ]
  },
  {
   "cell_type": "markdown",
   "metadata": {},
   "source": [
    "En este ultimo gráfico, no encontramos ninguna diferencia con lo esperado de que los hombres mayores a 18 años deciden no volver.\n",
    "\n",
    "Como ya habiamos analizado y encontrado una relacion entre las mujeres y el tipo de sala que nos sirvio para mejorar nuestro algortimo, no debemos volver a realizar dicha comparación."
   ]
  },
  {
   "cell_type": "markdown",
   "metadata": {},
   "source": [
    "### Relaciones con la variable acompañado\n",
    "\n",
    "En este escenario analizaremos las relaciones entre mujeres, si asistieron o no a una sala 4d y si asistieron acompañados, entre los hombres, su edad en relacion a los 18 y si asistieron acompañados."
   ]
  },
  {
   "cell_type": "code",
   "execution_count": null,
   "metadata": {},
   "outputs": [],
   "source": [
    "plt.figure(dpi=100)\n",
    "data = df[ (df['genero'] == 'mujer') & (df['tipo_de_sala'] == '4d')]\n",
    "sns.countplot(data=data, x='acompañado', hue='volveria', palette={0: '#FF5555', 1: '#44EE44'},orient=\"vertical\")\n",
    "plt.ylabel(\"Cantidad\")\n",
    "plt.xlabel(\"Tipo de Sala\")\n",
    "plt.title(\"¿Cual fue la respuesta para las mujeres que asistieron a sala 4D segun si estaban acompañadas?\")\n",
    "plt.show()"
   ]
  },
  {
   "cell_type": "markdown",
   "metadata": {},
   "source": [
    "Esta función nos muestra que las mujeres que no fueron acompañadas y asistieron a una sala 4D, tienen una preferencia por volver. Realizaremos el cálculo de esta nueva funcion de predicción y compararemos si es mejor analizar por el acompañamiento o por si abonaron el tipo de ticket 1."
   ]
  },
  {
   "cell_type": "code",
   "execution_count": null,
   "metadata": {},
   "outputs": [],
   "source": [
    "def funcionPrediccion(fila):\n",
    "    if ((fila['genero'] == 'mujer') & (fila['tipo_de_sala'] == '4d') & (fila['acompañado'] == False)):\n",
    "        return 1\n",
    "    if ((fila['genero'] == 'mujer') & (fila['tipo_de_sala'] == '4d')):\n",
    "        return 0\n",
    "    if(fila['genero'] == 'mujer'):\n",
    "        return 1\n",
    "    if ((fila['genero'] == 'hombre') & (fila['edad'] < 18) & (fila['tipo_de_sala'] == '4d')): \n",
    "        return 0\n",
    "    if ((fila['genero'] == 'hombre') & (fila['edad'] < 18) ):\n",
    "        return 1\n",
    "    return 0\n",
    "accuracy(df)"
   ]
  },
  {
   "cell_type": "markdown",
   "metadata": {},
   "source": [
    "Dado que este resultado es el mas alto obtenido hasta el momento, encontramos que es mejor realizar esta comparación como tercer variable correlacionada para las mujeres que asistieron a salas 4D. Esto se da debido al volumen de casos de diferencia que en esta combinación fue mas alto que para la el precio de ticket 1."
   ]
  },
  {
   "cell_type": "code",
   "execution_count": null,
   "metadata": {},
   "outputs": [],
   "source": [
    "plt.figure(dpi=100)\n",
    "data = df[ (df['genero'] == 'mujer') & (df['tipo_de_sala'] != '4d')]\n",
    "sns.countplot(data=data, x='acompañado', hue='volveria', palette={0: '#FF5555', 1: '#44EE44'},orient=\"vertical\")\n",
    "plt.ylabel(\"Cantidad\")\n",
    "plt.xlabel(\"Tipo de Sala\")\n",
    "plt.title(\"¿Cual fue la respuesta para las mujeres que no asistieron a sala 4D segun si estaban acompañadas?\")\n",
    "plt.show()"
   ]
  },
  {
   "cell_type": "markdown",
   "metadata": {},
   "source": [
    "Este ultimo gráfico no nos dio ninguna nueva información util."
   ]
  },
  {
   "cell_type": "code",
   "execution_count": null,
   "metadata": {},
   "outputs": [],
   "source": [
    "plt.figure(dpi=100)\n",
    "data = df[ (df['genero'] == 'hombre') & (df['edad'] < 18)]\n",
    "sns.countplot(data=data, x='acompañado', hue='volveria', palette={0: '#FF5555', 1: '#44EE44'},orient=\"vertical\")\n",
    "plt.ylabel(\"Cantidad\")\n",
    "plt.xlabel(\"Tipo de Sala\")\n",
    "plt.title(\"¿Cual fue la respuesta para las hombres menores de 18 años segun si vinieron acompañados?\")\n",
    "plt.show()"
   ]
  },
  {
   "cell_type": "markdown",
   "metadata": {},
   "source": [
    "Si bien este graáico nos muestra que si no vino acompañado hay una preferencia negativa, el volumen que vemos es muy chico. Revisaremos si mejora la funcion de predicción o si en realidad la empeora."
   ]
  },
  {
   "cell_type": "code",
   "execution_count": null,
   "metadata": {},
   "outputs": [],
   "source": [
    "def funcionPrediccion(fila):\n",
    "    if ((fila['genero'] == 'mujer') & (fila['tipo_de_sala'] == '4d') & (fila['acompañado'] == False)):\n",
    "        return 1\n",
    "    if ((fila['genero'] == 'mujer') & (fila['tipo_de_sala'] == '4d')):\n",
    "        return 0\n",
    "    if(fila['genero'] == 'mujer'):\n",
    "        return 1\n",
    "    if ((fila['genero'] == 'hombre') & (fila['edad'] < 18) & (fila['acompañado'] == False)): \n",
    "        return 0\n",
    "    if ((fila['genero'] == 'hombre') & (fila['edad'] < 18) ):\n",
    "        return 1\n",
    "    return 0\n",
    "accuracy(df)"
   ]
  },
  {
   "cell_type": "markdown",
   "metadata": {},
   "source": [
    "Como vemos, esto genero un peor resultado por lo que procedemos a descartar esta información."
   ]
  },
  {
   "cell_type": "code",
   "execution_count": null,
   "metadata": {},
   "outputs": [],
   "source": [
    "plt.figure(dpi=100)\n",
    "data = df[ (df['genero'] == 'hombre') & (df['edad'] >= 18)]\n",
    "sns.countplot(data=data, x='acompañado', hue='volveria', palette={0: '#FF5555', 1: '#44EE44'},orient=\"vertical\")\n",
    "plt.ylabel(\"Cantidad\")\n",
    "plt.xlabel(\"Tipo de Sala\")\n",
    "plt.title(\"¿Cuál fue la respuesta para las hombres mayores de 18 años según si vinieron acompañados?\")\n",
    "plt.show()"
   ]
  },
  {
   "cell_type": "markdown",
   "metadata": {},
   "source": [
    "En este escenario, nuevamente, no volvimos a encontrar información útil, ya que conocíamos que los hombres mayores de 18 tenían tendencia a no volver."
   ]
  },
  {
   "cell_type": "markdown",
   "metadata": {},
   "source": [
    "### Relaciones con la sede\n",
    "\n",
    "En este escenario analizaremos las relaciones entre mujeres, si asistieron o no a una sala 4d y la sede a la cuál asistieron, y entre los hombres, su edad en relación a los 18 y la sede donde asistieron."
   ]
  },
  {
   "cell_type": "code",
   "execution_count": null,
   "metadata": {},
   "outputs": [],
   "source": [
    "plt.figure(dpi=100)\n",
    "data = df[ (df['genero'] == 'mujer') & (df['tipo_de_sala'] == '4d')]\n",
    "sns.countplot(data=data, x='nombre_sede', hue='volveria', palette={0: '#FF5555', 1: '#44EE44'},orient=\"vertical\")\n",
    "plt.ylabel(\"Cantidad\")\n",
    "plt.xlabel(\"Tipo de Sala\")\n",
    "plt.title(\"¿Cuál fue la respuesta para las mujeres que asistieron a sala 4D según la sede?\")\n",
    "plt.show()"
   ]
  },
  {
   "cell_type": "markdown",
   "metadata": {},
   "source": [
    "Este resultado es interesante por dos motivos. En primer lugar, en dos sedes las mujeres informan que volverian por fuera de haber asistido a una sala 4d. Adicionalmente, los volumenes de diferencia parecen ser grandes para los volumenes que venimos manejando entre 3 variables, lo que nos da un indicio de tal vez haber dado con una variable que nos permita mejorar aun mas nuestro modelo de predicción."
   ]
  },
  {
   "cell_type": "code",
   "execution_count": null,
   "metadata": {},
   "outputs": [],
   "source": [
    "def funcionPrediccion(fila):\n",
    "    if ((fila['genero'] == 'mujer') & (fila['tipo_de_sala'] == '4d') & (fila['nombre_sede'] != 'fiumark_palermo')):\n",
    "        return 1\n",
    "    if ((fila['genero'] == 'mujer') & (fila['tipo_de_sala'] == '4d')):\n",
    "        return 0\n",
    "    if(fila['genero'] == 'mujer'):\n",
    "        return 1\n",
    "    if ((fila['genero'] == 'hombre') & (fila['edad'] < 18) & (fila['tipo_de_sala'] == '4d')): \n",
    "        return 0\n",
    "    if ((fila['genero'] == 'hombre') & (fila['edad'] < 18) ):\n",
    "        return 1\n",
    "    return 0\n",
    "accuracy(df)"
   ]
  },
  {
   "cell_type": "markdown",
   "metadata": {},
   "source": [
    "Efectivamente, esto nos llevo al mejor resultado hasta el momento, obteniendo un 83,15% de certeza en nuestra predicción."
   ]
  },
  {
   "cell_type": "code",
   "execution_count": null,
   "metadata": {},
   "outputs": [],
   "source": [
    "plt.figure(dpi=100)\n",
    "data = df[ (df['genero'] == 'mujer') & (df['tipo_de_sala'] != '4d')]\n",
    "sns.countplot(data=data, x='nombre_sede', hue='volveria', palette={0: '#FF5555', 1: '#44EE44'},orient=\"vertical\")\n",
    "plt.ylabel(\"Cantidad\")\n",
    "plt.xlabel(\"Tipo de Sala\")\n",
    "plt.title(\"¿Cuál fue la respuesta para las mujeres que no asistieron a sala 4D según la sede?\")\n",
    "plt.show()"
   ]
  },
  {
   "cell_type": "markdown",
   "metadata": {},
   "source": [
    "En este caso, no encontramos nueva información. Pasamos a hacer el analisis para los hombres."
   ]
  },
  {
   "cell_type": "code",
   "execution_count": null,
   "metadata": {},
   "outputs": [],
   "source": [
    "plt.figure(dpi=100)\n",
    "data = df[ (df['genero'] == 'hombre') & (df['edad'] < 18)]\n",
    "sns.countplot(data=data, x='nombre_sede', hue='volveria', palette={0: '#FF5555', 1: '#44EE44'},orient=\"vertical\")\n",
    "plt.ylabel(\"Cantidad\")\n",
    "plt.xlabel(\"Tipo de Sala\")\n",
    "plt.title(\"¿Cuál fue la respuesta para las hombres menores de 18 años según la sede a la que asistieron?\")\n",
    "plt.show()"
   ]
  },
  {
   "cell_type": "code",
   "execution_count": null,
   "metadata": {},
   "outputs": [],
   "source": [
    "def funcionPrediccion(fila):\n",
    "    if ((fila['genero'] == 'mujer') & (fila['tipo_de_sala'] == '4d') & (fila['nombre_sede'] != 'fiumark_palermo')):\n",
    "        return 1\n",
    "    if ((fila['genero'] == 'mujer') & (fila['tipo_de_sala'] == '4d')):\n",
    "        return 0\n",
    "    if(fila['genero'] == 'mujer'):\n",
    "        return 1\n",
    "    if ((fila['genero'] == 'hombre') & (fila['edad'] < 18) & (fila['nombre_sede'] == 'fiumark_quilmes')): \n",
    "        return 0\n",
    "    if ((fila['genero'] == 'hombre') & (fila['edad'] < 18) ):\n",
    "        return 1\n",
    "    return 0\n",
    "accuracy(df)"
   ]
  },
  {
   "cell_type": "markdown",
   "metadata": {},
   "source": [
    "Si bien encontramos nuevamente un valor distinto, el valor de acierto desendio de nuestro mejor resultado. Por lo que descartaremos esta información y mantendremos la anterior función de predicción."
   ]
  },
  {
   "cell_type": "code",
   "execution_count": null,
   "metadata": {},
   "outputs": [],
   "source": [
    "plt.figure(dpi=100)\n",
    "data = df[ (df['genero'] == 'hombre') & (df['edad'] >= 18)]\n",
    "sns.countplot(data=data, x='nombre_sede', hue='volveria', palette={0: '#FF5555', 1: '#44EE44'},orient=\"vertical\")\n",
    "plt.ylabel(\"Cantidad\")\n",
    "plt.xlabel(\"Tipo de Sala\")\n",
    "plt.title(\"¿Cuál fue la respuesta para las hombres mayores de 18 años según la sede a la que asistieron?\")\n",
    "plt.show()"
   ]
  },
  {
   "cell_type": "markdown",
   "metadata": {},
   "source": [
    "Nuevamente, no encontramos información que nos mostrara un resultado imprevisto."
   ]
  },
  {
   "cell_type": "markdown",
   "metadata": {},
   "source": [
    "# Conclusión"
   ]
  },
  {
   "cell_type": "markdown",
   "metadata": {},
   "source": [
    "Si bien el analisis puede continuar tratando de esta vez correlacionar 4 variables, decidimos no continuar debido a que superamos el valor solicitado por el cliente en cuanto al acierto minimo y debido a la complejidad extra de seguir correlacionado variables.\n",
    "\n",
    "Cabe destacar que por fuera de los datos, la correlación que se dio para las mujeres, nos muestra un indicio de que la sala 4D de la sede de Fiumark Palermo podría no encontrarse en buenas condiciones lo que motiva a sus clientes a no querer volver a asistir. Esto también podríamos haberlo visto en los hombres ya que en su gran mayoría, los menores de 18 años si respondian que volverian, pero para los que asistieron a una sala 4D dicen que no. Esto nos abre las puertas para un proximo analisis donde quedaría observar si la sede palermo es la sede por la cual los menores de 18 años hombres decían que no volverían y que a su vez habían visto Frozen 3 en una sala 4D.\n",
    "\n",
    "Por otro lado, como bien encontramos en nuestra variable principal, la temática de Frozen 3 nos da a entender que existe una fuerte tendencia por las mujeres a querer volver para ver Frozen 4, mientras que para los hombres no, y esto puede estar mas asociado con el género de la pelicula que con las instalaciones del lugar.\n",
    "\n",
    "Como anteriormente mostramos, la función de predicción que mejor certeza nos genero es la siguiente:"
   ]
  },
  {
   "cell_type": "code",
   "execution_count": null,
   "metadata": {},
   "outputs": [],
   "source": [
    "def funcionPrediccion(fila):\n",
    "    if ((fila['genero'] == 'mujer') & (fila['tipo_de_sala'] == '4d') & (fila['nombre_sede'] != 'fiumark_palermo')):\n",
    "        return 1\n",
    "    if ((fila['genero'] == 'mujer') & (fila['tipo_de_sala'] == '4d')):\n",
    "        return 0\n",
    "    if(fila['genero'] == 'mujer'):\n",
    "        return 1\n",
    "    if ((fila['genero'] == 'hombre') & (fila['edad'] < 18) & (fila['tipo_de_sala'] == '4d')): \n",
    "        return 0\n",
    "    if ((fila['genero'] == 'hombre') & (fila['edad'] < 18) ):\n",
    "        return 1\n",
    "    return 0\n",
    "accuracy(df)"
   ]
  }
 ],
 "metadata": {
  "kernelspec": {
   "display_name": "Python 3",
   "language": "python",
   "name": "python3"
  },
  "language_info": {
   "codemirror_mode": {
    "name": "ipython",
    "version": 3
   },
   "file_extension": ".py",
   "mimetype": "text/x-python",
   "name": "python",
   "nbconvert_exporter": "python",
   "pygments_lexer": "ipython3",
   "version": "3.8.5"
  }
 },
 "nbformat": 4,
 "nbformat_minor": 4
}
