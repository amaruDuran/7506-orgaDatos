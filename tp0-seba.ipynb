{
 "cells": [
  {
   "cell_type": "code",
   "execution_count": 1,
   "metadata": {},
   "outputs": [],
   "source": [
    "import pandas as pd\n",
    "from matplotlib import pyplot as plt\n",
    "import numpy as np\n",
    "import seaborn as sns"
   ]
  },
  {
   "cell_type": "markdown",
   "metadata": {},
   "source": [
    "# Inicialización"
   ]
  },
  {
   "cell_type": "markdown",
   "metadata": {},
   "source": [
    "El primer paso que vamos a realizar es cargar las dos tablas en dos data frames. "
   ]
  },
  {
   "cell_type": "code",
   "execution_count": 2,
   "metadata": {},
   "outputs": [
    {
     "data": {
      "text/html": [
       "<div>\n",
       "<style scoped>\n",
       "    .dataframe tbody tr th:only-of-type {\n",
       "        vertical-align: middle;\n",
       "    }\n",
       "\n",
       "    .dataframe tbody tr th {\n",
       "        vertical-align: top;\n",
       "    }\n",
       "\n",
       "    .dataframe thead th {\n",
       "        text-align: right;\n",
       "    }\n",
       "</style>\n",
       "<table border=\"1\" class=\"dataframe\">\n",
       "  <thead>\n",
       "    <tr style=\"text-align: right;\">\n",
       "      <th></th>\n",
       "      <th>id_usuario</th>\n",
       "      <th>volveria</th>\n",
       "    </tr>\n",
       "  </thead>\n",
       "  <tbody>\n",
       "    <tr>\n",
       "      <th>0</th>\n",
       "      <td>117</td>\n",
       "      <td>0</td>\n",
       "    </tr>\n",
       "    <tr>\n",
       "      <th>1</th>\n",
       "      <td>658</td>\n",
       "      <td>0</td>\n",
       "    </tr>\n",
       "    <tr>\n",
       "      <th>2</th>\n",
       "      <td>794</td>\n",
       "      <td>0</td>\n",
       "    </tr>\n",
       "    <tr>\n",
       "      <th>3</th>\n",
       "      <td>455</td>\n",
       "      <td>0</td>\n",
       "    </tr>\n",
       "    <tr>\n",
       "      <th>4</th>\n",
       "      <td>173</td>\n",
       "      <td>1</td>\n",
       "    </tr>\n",
       "    <tr>\n",
       "      <th>...</th>\n",
       "      <td>...</td>\n",
       "      <td>...</td>\n",
       "    </tr>\n",
       "    <tr>\n",
       "      <th>796</th>\n",
       "      <td>448</td>\n",
       "      <td>1</td>\n",
       "    </tr>\n",
       "    <tr>\n",
       "      <th>797</th>\n",
       "      <td>636</td>\n",
       "      <td>1</td>\n",
       "    </tr>\n",
       "    <tr>\n",
       "      <th>798</th>\n",
       "      <td>848</td>\n",
       "      <td>0</td>\n",
       "    </tr>\n",
       "    <tr>\n",
       "      <th>799</th>\n",
       "      <td>304</td>\n",
       "      <td>1</td>\n",
       "    </tr>\n",
       "    <tr>\n",
       "      <th>800</th>\n",
       "      <td>385</td>\n",
       "      <td>0</td>\n",
       "    </tr>\n",
       "  </tbody>\n",
       "</table>\n",
       "<p>801 rows × 2 columns</p>\n",
       "</div>"
      ],
      "text/plain": [
       "     id_usuario  volveria\n",
       "0           117         0\n",
       "1           658         0\n",
       "2           794         0\n",
       "3           455         0\n",
       "4           173         1\n",
       "..          ...       ...\n",
       "796         448         1\n",
       "797         636         1\n",
       "798         848         0\n",
       "799         304         1\n",
       "800         385         0\n",
       "\n",
       "[801 rows x 2 columns]"
      ]
     },
     "execution_count": 2,
     "metadata": {},
     "output_type": "execute_result"
    }
   ],
   "source": [
    "df_volvera = pd.read_csv(\"tp-2020-2c-train-cols1.csv\")\n",
    "df_volvera"
   ]
  },
  {
   "cell_type": "code",
   "execution_count": 3,
   "metadata": {},
   "outputs": [
    {
     "data": {
      "text/html": [
       "<div>\n",
       "<style scoped>\n",
       "    .dataframe tbody tr th:only-of-type {\n",
       "        vertical-align: middle;\n",
       "    }\n",
       "\n",
       "    .dataframe tbody tr th {\n",
       "        vertical-align: top;\n",
       "    }\n",
       "\n",
       "    .dataframe thead th {\n",
       "        text-align: right;\n",
       "    }\n",
       "</style>\n",
       "<table border=\"1\" class=\"dataframe\">\n",
       "  <thead>\n",
       "    <tr style=\"text-align: right;\">\n",
       "      <th></th>\n",
       "      <th>tipo_de_sala</th>\n",
       "      <th>nombre</th>\n",
       "      <th>id_usuario</th>\n",
       "      <th>genero</th>\n",
       "      <th>edad</th>\n",
       "      <th>amigos</th>\n",
       "      <th>parientes</th>\n",
       "      <th>id_ticket</th>\n",
       "      <th>precio_ticket</th>\n",
       "      <th>fila</th>\n",
       "      <th>nombre_sede</th>\n",
       "    </tr>\n",
       "  </thead>\n",
       "  <tbody>\n",
       "    <tr>\n",
       "      <th>0</th>\n",
       "      <td>4d</td>\n",
       "      <td>Señor Camilo Pedro</td>\n",
       "      <td>117</td>\n",
       "      <td>hombre</td>\n",
       "      <td>73.5</td>\n",
       "      <td>0</td>\n",
       "      <td>0</td>\n",
       "      <td>59258;</td>\n",
       "      <td>1</td>\n",
       "      <td>NaN</td>\n",
       "      <td>fiumark_quilmes</td>\n",
       "    </tr>\n",
       "    <tr>\n",
       "      <th>1</th>\n",
       "      <td>4d</td>\n",
       "      <td>Señora Raquel Angelica</td>\n",
       "      <td>658</td>\n",
       "      <td>mujer</td>\n",
       "      <td>35.0</td>\n",
       "      <td>1</td>\n",
       "      <td>1</td>\n",
       "      <td>586:6;</td>\n",
       "      <td>2</td>\n",
       "      <td>NaN</td>\n",
       "      <td>fiumark_quilmes</td>\n",
       "    </tr>\n",
       "    <tr>\n",
       "      <th>2</th>\n",
       "      <td>normal</td>\n",
       "      <td>Señor Antonio Federico</td>\n",
       "      <td>794</td>\n",
       "      <td>hombre</td>\n",
       "      <td>NaN</td>\n",
       "      <td>0</td>\n",
       "      <td>0</td>\n",
       "      <td>RE\"39822</td>\n",
       "      <td>3</td>\n",
       "      <td>NaN</td>\n",
       "      <td>fiumark_chacarita</td>\n",
       "    </tr>\n",
       "    <tr>\n",
       "      <th>3</th>\n",
       "      <td>4d</td>\n",
       "      <td>Señor Osvaldo Aureliano</td>\n",
       "      <td>455</td>\n",
       "      <td>hombre</td>\n",
       "      <td>NaN</td>\n",
       "      <td>0</td>\n",
       "      <td>0</td>\n",
       "      <td>C17\"4:39</td>\n",
       "      <td>1</td>\n",
       "      <td>NaN</td>\n",
       "      <td>fiumark_palermo</td>\n",
       "    </tr>\n",
       "    <tr>\n",
       "      <th>4</th>\n",
       "      <td>4d</td>\n",
       "      <td>Señorita Rita Eudosia</td>\n",
       "      <td>173</td>\n",
       "      <td>mujer</td>\n",
       "      <td>4.0</td>\n",
       "      <td>1</td>\n",
       "      <td>1</td>\n",
       "      <td>569964</td>\n",
       "      <td>2</td>\n",
       "      <td>NaN</td>\n",
       "      <td>fiumark_palermo</td>\n",
       "    </tr>\n",
       "    <tr>\n",
       "      <th>...</th>\n",
       "      <td>...</td>\n",
       "      <td>...</td>\n",
       "      <td>...</td>\n",
       "      <td>...</td>\n",
       "      <td>...</td>\n",
       "      <td>...</td>\n",
       "      <td>...</td>\n",
       "      <td>...</td>\n",
       "      <td>...</td>\n",
       "      <td>...</td>\n",
       "      <td>...</td>\n",
       "    </tr>\n",
       "    <tr>\n",
       "      <th>796</th>\n",
       "      <td>normal</td>\n",
       "      <td>Señor Bernardo Melesio</td>\n",
       "      <td>448</td>\n",
       "      <td>hombre</td>\n",
       "      <td>37.0</td>\n",
       "      <td>0</td>\n",
       "      <td>0</td>\n",
       "      <td>3359;6</td>\n",
       "      <td>3</td>\n",
       "      <td>NaN</td>\n",
       "      <td>fiumark_palermo</td>\n",
       "    </tr>\n",
       "    <tr>\n",
       "      <th>797</th>\n",
       "      <td>3d</td>\n",
       "      <td>Señorita Lidia Catalina</td>\n",
       "      <td>636</td>\n",
       "      <td>mujer</td>\n",
       "      <td>31.0</td>\n",
       "      <td>0</td>\n",
       "      <td>0</td>\n",
       "      <td>45988:</td>\n",
       "      <td>2</td>\n",
       "      <td>NaN</td>\n",
       "      <td>fiumark_palermo</td>\n",
       "    </tr>\n",
       "    <tr>\n",
       "      <th>798</th>\n",
       "      <td>4d</td>\n",
       "      <td>Señor Arturo Antenor</td>\n",
       "      <td>848</td>\n",
       "      <td>hombre</td>\n",
       "      <td>38.0</td>\n",
       "      <td>0</td>\n",
       "      <td>0</td>\n",
       "      <td>56;435</td>\n",
       "      <td>1</td>\n",
       "      <td>NaN</td>\n",
       "      <td>fiumark_chacarita</td>\n",
       "    </tr>\n",
       "    <tr>\n",
       "      <th>799</th>\n",
       "      <td>3d</td>\n",
       "      <td>Señorita Natividad Sofia</td>\n",
       "      <td>304</td>\n",
       "      <td>mujer</td>\n",
       "      <td>NaN</td>\n",
       "      <td>0</td>\n",
       "      <td>0</td>\n",
       "      <td>4487;5</td>\n",
       "      <td>2</td>\n",
       "      <td>adelante</td>\n",
       "      <td>fiumark_quilmes</td>\n",
       "    </tr>\n",
       "    <tr>\n",
       "      <th>800</th>\n",
       "      <td>4d</td>\n",
       "      <td>Señor Isidoro Sebastian</td>\n",
       "      <td>385</td>\n",
       "      <td>hombre</td>\n",
       "      <td>NaN</td>\n",
       "      <td>0</td>\n",
       "      <td>0</td>\n",
       "      <td>56;449</td>\n",
       "      <td>1</td>\n",
       "      <td>NaN</td>\n",
       "      <td>fiumark_palermo</td>\n",
       "    </tr>\n",
       "  </tbody>\n",
       "</table>\n",
       "<p>801 rows × 11 columns</p>\n",
       "</div>"
      ],
      "text/plain": [
       "    tipo_de_sala                    nombre  id_usuario  genero  edad  amigos  \\\n",
       "0             4d        Señor Camilo Pedro         117  hombre  73.5       0   \n",
       "1             4d    Señora Raquel Angelica         658   mujer  35.0       1   \n",
       "2         normal    Señor Antonio Federico         794  hombre   NaN       0   \n",
       "3             4d   Señor Osvaldo Aureliano         455  hombre   NaN       0   \n",
       "4             4d     Señorita Rita Eudosia         173   mujer   4.0       1   \n",
       "..           ...                       ...         ...     ...   ...     ...   \n",
       "796       normal    Señor Bernardo Melesio         448  hombre  37.0       0   \n",
       "797           3d   Señorita Lidia Catalina         636   mujer  31.0       0   \n",
       "798           4d      Señor Arturo Antenor         848  hombre  38.0       0   \n",
       "799           3d  Señorita Natividad Sofia         304   mujer   NaN       0   \n",
       "800           4d   Señor Isidoro Sebastian         385  hombre   NaN       0   \n",
       "\n",
       "     parientes id_ticket  precio_ticket      fila        nombre_sede  \n",
       "0            0    59258;              1       NaN    fiumark_quilmes  \n",
       "1            1    586:6;              2       NaN    fiumark_quilmes  \n",
       "2            0  RE\"39822              3       NaN  fiumark_chacarita  \n",
       "3            0  C17\"4:39              1       NaN    fiumark_palermo  \n",
       "4            1    569964              2       NaN    fiumark_palermo  \n",
       "..         ...       ...            ...       ...                ...  \n",
       "796          0    3359;6              3       NaN    fiumark_palermo  \n",
       "797          0    45988:              2       NaN    fiumark_palermo  \n",
       "798          0    56;435              1       NaN  fiumark_chacarita  \n",
       "799          0    4487;5              2  adelante    fiumark_quilmes  \n",
       "800          0    56;449              1       NaN    fiumark_palermo  \n",
       "\n",
       "[801 rows x 11 columns]"
      ]
     },
     "execution_count": 3,
     "metadata": {},
     "output_type": "execute_result"
    }
   ],
   "source": [
    "df_usuario = pd.read_csv(\"tp-2020-2c-train-cols2.csv\")\n",
    "df_usuario"
   ]
  },
  {
   "cell_type": "markdown",
   "metadata": {},
   "source": [
    "En un primer analisis, podemos ver de ambas tablas poseen un total de 801 filas, teniendo ambas tablas igual cantidad de valores. \n",
    "\n",
    "Para hacer un join de las mismas, vamos a utilizar el campo `id_usuario` el cual es compartido.\n",
    "\n",
    "Dejaremos en la variable `df_joined` las tablas unidas sin modificar, y usaremos `df` para ir realizando operaciones sobre la misma."
   ]
  },
  {
   "cell_type": "code",
   "execution_count": 4,
   "metadata": {},
   "outputs": [
    {
     "data": {
      "text/html": [
       "<div>\n",
       "<style scoped>\n",
       "    .dataframe tbody tr th:only-of-type {\n",
       "        vertical-align: middle;\n",
       "    }\n",
       "\n",
       "    .dataframe tbody tr th {\n",
       "        vertical-align: top;\n",
       "    }\n",
       "\n",
       "    .dataframe thead th {\n",
       "        text-align: right;\n",
       "    }\n",
       "</style>\n",
       "<table border=\"1\" class=\"dataframe\">\n",
       "  <thead>\n",
       "    <tr style=\"text-align: right;\">\n",
       "      <th></th>\n",
       "      <th>tipo_de_sala</th>\n",
       "      <th>nombre</th>\n",
       "      <th>genero</th>\n",
       "      <th>edad</th>\n",
       "      <th>amigos</th>\n",
       "      <th>parientes</th>\n",
       "      <th>id_ticket</th>\n",
       "      <th>precio_ticket</th>\n",
       "      <th>fila</th>\n",
       "      <th>nombre_sede</th>\n",
       "      <th>volveria</th>\n",
       "    </tr>\n",
       "    <tr>\n",
       "      <th>id_usuario</th>\n",
       "      <th></th>\n",
       "      <th></th>\n",
       "      <th></th>\n",
       "      <th></th>\n",
       "      <th></th>\n",
       "      <th></th>\n",
       "      <th></th>\n",
       "      <th></th>\n",
       "      <th></th>\n",
       "      <th></th>\n",
       "      <th></th>\n",
       "    </tr>\n",
       "  </thead>\n",
       "  <tbody>\n",
       "    <tr>\n",
       "      <th>117</th>\n",
       "      <td>4d</td>\n",
       "      <td>Señor Camilo Pedro</td>\n",
       "      <td>hombre</td>\n",
       "      <td>73.5</td>\n",
       "      <td>0</td>\n",
       "      <td>0</td>\n",
       "      <td>59258;</td>\n",
       "      <td>1</td>\n",
       "      <td>NaN</td>\n",
       "      <td>fiumark_quilmes</td>\n",
       "      <td>0</td>\n",
       "    </tr>\n",
       "    <tr>\n",
       "      <th>658</th>\n",
       "      <td>4d</td>\n",
       "      <td>Señora Raquel Angelica</td>\n",
       "      <td>mujer</td>\n",
       "      <td>35.0</td>\n",
       "      <td>1</td>\n",
       "      <td>1</td>\n",
       "      <td>586:6;</td>\n",
       "      <td>2</td>\n",
       "      <td>NaN</td>\n",
       "      <td>fiumark_quilmes</td>\n",
       "      <td>0</td>\n",
       "    </tr>\n",
       "    <tr>\n",
       "      <th>794</th>\n",
       "      <td>normal</td>\n",
       "      <td>Señor Antonio Federico</td>\n",
       "      <td>hombre</td>\n",
       "      <td>NaN</td>\n",
       "      <td>0</td>\n",
       "      <td>0</td>\n",
       "      <td>RE\"39822</td>\n",
       "      <td>3</td>\n",
       "      <td>NaN</td>\n",
       "      <td>fiumark_chacarita</td>\n",
       "      <td>0</td>\n",
       "    </tr>\n",
       "    <tr>\n",
       "      <th>455</th>\n",
       "      <td>4d</td>\n",
       "      <td>Señor Osvaldo Aureliano</td>\n",
       "      <td>hombre</td>\n",
       "      <td>NaN</td>\n",
       "      <td>0</td>\n",
       "      <td>0</td>\n",
       "      <td>C17\"4:39</td>\n",
       "      <td>1</td>\n",
       "      <td>NaN</td>\n",
       "      <td>fiumark_palermo</td>\n",
       "      <td>0</td>\n",
       "    </tr>\n",
       "    <tr>\n",
       "      <th>173</th>\n",
       "      <td>4d</td>\n",
       "      <td>Señorita Rita Eudosia</td>\n",
       "      <td>mujer</td>\n",
       "      <td>4.0</td>\n",
       "      <td>1</td>\n",
       "      <td>1</td>\n",
       "      <td>569964</td>\n",
       "      <td>2</td>\n",
       "      <td>NaN</td>\n",
       "      <td>fiumark_palermo</td>\n",
       "      <td>1</td>\n",
       "    </tr>\n",
       "    <tr>\n",
       "      <th>...</th>\n",
       "      <td>...</td>\n",
       "      <td>...</td>\n",
       "      <td>...</td>\n",
       "      <td>...</td>\n",
       "      <td>...</td>\n",
       "      <td>...</td>\n",
       "      <td>...</td>\n",
       "      <td>...</td>\n",
       "      <td>...</td>\n",
       "      <td>...</td>\n",
       "      <td>...</td>\n",
       "    </tr>\n",
       "    <tr>\n",
       "      <th>448</th>\n",
       "      <td>normal</td>\n",
       "      <td>Señor Bernardo Melesio</td>\n",
       "      <td>hombre</td>\n",
       "      <td>37.0</td>\n",
       "      <td>0</td>\n",
       "      <td>0</td>\n",
       "      <td>3359;6</td>\n",
       "      <td>3</td>\n",
       "      <td>NaN</td>\n",
       "      <td>fiumark_palermo</td>\n",
       "      <td>1</td>\n",
       "    </tr>\n",
       "    <tr>\n",
       "      <th>636</th>\n",
       "      <td>3d</td>\n",
       "      <td>Señorita Lidia Catalina</td>\n",
       "      <td>mujer</td>\n",
       "      <td>31.0</td>\n",
       "      <td>0</td>\n",
       "      <td>0</td>\n",
       "      <td>45988:</td>\n",
       "      <td>2</td>\n",
       "      <td>NaN</td>\n",
       "      <td>fiumark_palermo</td>\n",
       "      <td>1</td>\n",
       "    </tr>\n",
       "    <tr>\n",
       "      <th>848</th>\n",
       "      <td>4d</td>\n",
       "      <td>Señor Arturo Antenor</td>\n",
       "      <td>hombre</td>\n",
       "      <td>38.0</td>\n",
       "      <td>0</td>\n",
       "      <td>0</td>\n",
       "      <td>56;435</td>\n",
       "      <td>1</td>\n",
       "      <td>NaN</td>\n",
       "      <td>fiumark_chacarita</td>\n",
       "      <td>0</td>\n",
       "    </tr>\n",
       "    <tr>\n",
       "      <th>304</th>\n",
       "      <td>3d</td>\n",
       "      <td>Señorita Natividad Sofia</td>\n",
       "      <td>mujer</td>\n",
       "      <td>NaN</td>\n",
       "      <td>0</td>\n",
       "      <td>0</td>\n",
       "      <td>4487;5</td>\n",
       "      <td>2</td>\n",
       "      <td>adelante</td>\n",
       "      <td>fiumark_quilmes</td>\n",
       "      <td>1</td>\n",
       "    </tr>\n",
       "    <tr>\n",
       "      <th>385</th>\n",
       "      <td>4d</td>\n",
       "      <td>Señor Isidoro Sebastian</td>\n",
       "      <td>hombre</td>\n",
       "      <td>NaN</td>\n",
       "      <td>0</td>\n",
       "      <td>0</td>\n",
       "      <td>56;449</td>\n",
       "      <td>1</td>\n",
       "      <td>NaN</td>\n",
       "      <td>fiumark_palermo</td>\n",
       "      <td>0</td>\n",
       "    </tr>\n",
       "  </tbody>\n",
       "</table>\n",
       "<p>801 rows × 11 columns</p>\n",
       "</div>"
      ],
      "text/plain": [
       "           tipo_de_sala                    nombre  genero  edad  amigos  \\\n",
       "id_usuario                                                                \n",
       "117                  4d        Señor Camilo Pedro  hombre  73.5       0   \n",
       "658                  4d    Señora Raquel Angelica   mujer  35.0       1   \n",
       "794              normal    Señor Antonio Federico  hombre   NaN       0   \n",
       "455                  4d   Señor Osvaldo Aureliano  hombre   NaN       0   \n",
       "173                  4d     Señorita Rita Eudosia   mujer   4.0       1   \n",
       "...                 ...                       ...     ...   ...     ...   \n",
       "448              normal    Señor Bernardo Melesio  hombre  37.0       0   \n",
       "636                  3d   Señorita Lidia Catalina   mujer  31.0       0   \n",
       "848                  4d      Señor Arturo Antenor  hombre  38.0       0   \n",
       "304                  3d  Señorita Natividad Sofia   mujer   NaN       0   \n",
       "385                  4d   Señor Isidoro Sebastian  hombre   NaN       0   \n",
       "\n",
       "            parientes id_ticket  precio_ticket      fila        nombre_sede  \\\n",
       "id_usuario                                                                    \n",
       "117                 0    59258;              1       NaN    fiumark_quilmes   \n",
       "658                 1    586:6;              2       NaN    fiumark_quilmes   \n",
       "794                 0  RE\"39822              3       NaN  fiumark_chacarita   \n",
       "455                 0  C17\"4:39              1       NaN    fiumark_palermo   \n",
       "173                 1    569964              2       NaN    fiumark_palermo   \n",
       "...               ...       ...            ...       ...                ...   \n",
       "448                 0    3359;6              3       NaN    fiumark_palermo   \n",
       "636                 0    45988:              2       NaN    fiumark_palermo   \n",
       "848                 0    56;435              1       NaN  fiumark_chacarita   \n",
       "304                 0    4487;5              2  adelante    fiumark_quilmes   \n",
       "385                 0    56;449              1       NaN    fiumark_palermo   \n",
       "\n",
       "            volveria  \n",
       "id_usuario            \n",
       "117                0  \n",
       "658                0  \n",
       "794                0  \n",
       "455                0  \n",
       "173                1  \n",
       "...              ...  \n",
       "448                1  \n",
       "636                1  \n",
       "848                0  \n",
       "304                1  \n",
       "385                0  \n",
       "\n",
       "[801 rows x 11 columns]"
      ]
     },
     "execution_count": 4,
     "metadata": {},
     "output_type": "execute_result"
    }
   ],
   "source": [
    "df_joined = df_usuario.join(df_volvera.set_index('id_usuario'), on='id_usuario', how='inner').set_index('id_usuario')\n",
    "df = df_joined.copy()\n",
    "df"
   ]
  },
  {
   "cell_type": "markdown",
   "metadata": {},
   "source": [
    "# Analisis de Datos"
   ]
  },
  {
   "cell_type": "markdown",
   "metadata": {},
   "source": [
    "## Columnas con información duplicada\n",
    "\n",
    "En este paso vamos a tratar de averiguar si tenemos información duplicada. El siguiente comando nos mostrara si existen respuestas exactamente iguales en la encuesta."
   ]
  },
  {
   "cell_type": "code",
   "execution_count": 5,
   "metadata": {},
   "outputs": [
    {
     "data": {
      "text/html": [
       "<div>\n",
       "<style scoped>\n",
       "    .dataframe tbody tr th:only-of-type {\n",
       "        vertical-align: middle;\n",
       "    }\n",
       "\n",
       "    .dataframe tbody tr th {\n",
       "        vertical-align: top;\n",
       "    }\n",
       "\n",
       "    .dataframe thead th {\n",
       "        text-align: right;\n",
       "    }\n",
       "</style>\n",
       "<table border=\"1\" class=\"dataframe\">\n",
       "  <thead>\n",
       "    <tr style=\"text-align: right;\">\n",
       "      <th></th>\n",
       "      <th>tipo_de_sala</th>\n",
       "      <th>nombre</th>\n",
       "      <th>genero</th>\n",
       "      <th>edad</th>\n",
       "      <th>amigos</th>\n",
       "      <th>parientes</th>\n",
       "      <th>id_ticket</th>\n",
       "      <th>precio_ticket</th>\n",
       "      <th>fila</th>\n",
       "      <th>nombre_sede</th>\n",
       "      <th>volveria</th>\n",
       "    </tr>\n",
       "    <tr>\n",
       "      <th>id_usuario</th>\n",
       "      <th></th>\n",
       "      <th></th>\n",
       "      <th></th>\n",
       "      <th></th>\n",
       "      <th></th>\n",
       "      <th></th>\n",
       "      <th></th>\n",
       "      <th></th>\n",
       "      <th></th>\n",
       "      <th></th>\n",
       "      <th></th>\n",
       "    </tr>\n",
       "  </thead>\n",
       "  <tbody>\n",
       "  </tbody>\n",
       "</table>\n",
       "</div>"
      ],
      "text/plain": [
       "Empty DataFrame\n",
       "Columns: [tipo_de_sala, nombre, genero, edad, amigos, parientes, id_ticket, precio_ticket, fila, nombre_sede, volveria]\n",
       "Index: []"
      ]
     },
     "execution_count": 5,
     "metadata": {},
     "output_type": "execute_result"
    }
   ],
   "source": [
    "df[df.duplicated(keep=False)]"
   ]
  },
  {
   "cell_type": "markdown",
   "metadata": {},
   "source": [
    "Lo bueno de la verifcación anterior es que sabemos que no existio multiples respuestas exactamente iguales."
   ]
  },
  {
   "cell_type": "markdown",
   "metadata": {},
   "source": [
    "## Columnas con ausencia de información\n",
    "\n",
    "El objetivo de este analisis es poder entender cuales son las columnas que poseen faltante de información."
   ]
  },
  {
   "cell_type": "code",
   "execution_count": 6,
   "metadata": {},
   "outputs": [
    {
     "name": "stdout",
     "output_type": "stream",
     "text": [
      "Column has simbol: ' - '\n",
      "tipo_de_sala     False\n",
      "nombre           False\n",
      "genero           False\n",
      "edad             False\n",
      "amigos           False\n",
      "parientes        False\n",
      "id_ticket        False\n",
      "precio_ticket    False\n",
      "fila             False\n",
      "nombre_sede      False\n",
      "volveria         False\n",
      "dtype: bool\n",
      "Column has simbol: '  '\n",
      "tipo_de_sala     False\n",
      "nombre           False\n",
      "genero           False\n",
      "edad             False\n",
      "amigos           False\n",
      "parientes        False\n",
      "id_ticket        False\n",
      "precio_ticket    False\n",
      "fila             False\n",
      "nombre_sede      False\n",
      "volveria         False\n",
      "dtype: bool\n",
      "Column has simbol: ' _ '\n",
      "tipo_de_sala     False\n",
      "nombre           False\n",
      "genero           False\n",
      "edad             False\n",
      "amigos           False\n",
      "parientes        False\n",
      "id_ticket        False\n",
      "precio_ticket    False\n",
      "fila             False\n",
      "nombre_sede      False\n",
      "volveria         False\n",
      "dtype: bool\n"
     ]
    }
   ],
   "source": [
    "simbols = [\"-\",\"\",\"_\"]\n",
    "for c in simbols:\n",
    "    print(\"Column has simbol: '\",c,\"'\")\n",
    "    print(df.astype('str').eq(c).any())"
   ]
  },
  {
   "cell_type": "markdown",
   "metadata": {},
   "source": [
    "Viendo el resultado anterior, sabemos que no existen caracteres especiales que puedan representar la ausencia de valor distinto a NaN.\n",
    "\n",
    "A continuación, analizaremos las tablas con valores númericos. En la columna `edad` deberemos considerar como invalido cualquier valor menor o igual a cero. En las otras columnas `amigos` `parientes` `precio_ticket` `volveria` un valor menor a cero sería invalido."
   ]
  },
  {
   "cell_type": "code",
   "execution_count": 7,
   "metadata": {},
   "outputs": [
    {
     "data": {
      "text/plain": [
       "False"
      ]
     },
     "execution_count": 7,
     "metadata": {},
     "output_type": "execute_result"
    }
   ],
   "source": [
    "(df['edad'] <= 0).any()"
   ]
  },
  {
   "cell_type": "code",
   "execution_count": 8,
   "metadata": {},
   "outputs": [
    {
     "data": {
      "text/plain": [
       "amigos           False\n",
       "parientes        False\n",
       "precio_ticket    False\n",
       "volveria         False\n",
       "dtype: bool"
      ]
     },
     "execution_count": 8,
     "metadata": {},
     "output_type": "execute_result"
    }
   ],
   "source": [
    "columnas_con_numeros = ['amigos', 'parientes', 'precio_ticket', 'volveria']\n",
    "(df[columnas_con_numeros] < 0).any()"
   ]
  },
  {
   "cell_type": "markdown",
   "metadata": {},
   "source": [
    "Por lo visto de analisar la información, no tenemos casos extraños de respuestas que requieran de un analisis especial. Aun sin embargo, nos queda la verificación mas importante que es la de valores en `null`."
   ]
  },
  {
   "cell_type": "code",
   "execution_count": 9,
   "metadata": {},
   "outputs": [
    {
     "data": {
      "text/plain": [
       "tipo_de_sala       0\n",
       "nombre             0\n",
       "genero             0\n",
       "edad             160\n",
       "amigos             0\n",
       "parientes          0\n",
       "id_ticket          0\n",
       "precio_ticket      0\n",
       "fila             624\n",
       "nombre_sede        2\n",
       "volveria           0\n",
       "dtype: int64"
      ]
     },
     "execution_count": 9,
     "metadata": {},
     "output_type": "execute_result"
    }
   ],
   "source": [
    "df.isnull().sum()"
   ]
  },
  {
   "cell_type": "markdown",
   "metadata": {},
   "source": [
    "Como podemos ver de este ultimo comando, la columna `fila` posee unos 624 nulls de los 801 valores. Adicionalmente, la segunda columna con poca información es la columna edad. A continuación calcularemos el porcentaje de que ausencia de valor de dichas columnas."
   ]
  },
  {
   "cell_type": "code",
   "execution_count": 10,
   "metadata": {},
   "outputs": [
    {
     "data": {
      "text/html": [
       "<div>\n",
       "<style scoped>\n",
       "    .dataframe tbody tr th:only-of-type {\n",
       "        vertical-align: middle;\n",
       "    }\n",
       "\n",
       "    .dataframe tbody tr th {\n",
       "        vertical-align: top;\n",
       "    }\n",
       "\n",
       "    .dataframe thead th {\n",
       "        text-align: right;\n",
       "    }\n",
       "</style>\n",
       "<table border=\"1\" class=\"dataframe\">\n",
       "  <thead>\n",
       "    <tr style=\"text-align: right;\">\n",
       "      <th></th>\n",
       "      <th>porcentaje nulls</th>\n",
       "    </tr>\n",
       "  </thead>\n",
       "  <tbody>\n",
       "    <tr>\n",
       "      <th>tipo_de_sala</th>\n",
       "      <td>0.000000</td>\n",
       "    </tr>\n",
       "    <tr>\n",
       "      <th>nombre</th>\n",
       "      <td>0.000000</td>\n",
       "    </tr>\n",
       "    <tr>\n",
       "      <th>genero</th>\n",
       "      <td>0.000000</td>\n",
       "    </tr>\n",
       "    <tr>\n",
       "      <th>edad</th>\n",
       "      <td>19.975031</td>\n",
       "    </tr>\n",
       "    <tr>\n",
       "      <th>amigos</th>\n",
       "      <td>0.000000</td>\n",
       "    </tr>\n",
       "    <tr>\n",
       "      <th>parientes</th>\n",
       "      <td>0.000000</td>\n",
       "    </tr>\n",
       "    <tr>\n",
       "      <th>id_ticket</th>\n",
       "      <td>0.000000</td>\n",
       "    </tr>\n",
       "    <tr>\n",
       "      <th>precio_ticket</th>\n",
       "      <td>0.000000</td>\n",
       "    </tr>\n",
       "    <tr>\n",
       "      <th>fila</th>\n",
       "      <td>77.902622</td>\n",
       "    </tr>\n",
       "    <tr>\n",
       "      <th>nombre_sede</th>\n",
       "      <td>0.249688</td>\n",
       "    </tr>\n",
       "    <tr>\n",
       "      <th>volveria</th>\n",
       "      <td>0.000000</td>\n",
       "    </tr>\n",
       "  </tbody>\n",
       "</table>\n",
       "</div>"
      ],
      "text/plain": [
       "               porcentaje nulls\n",
       "tipo_de_sala           0.000000\n",
       "nombre                 0.000000\n",
       "genero                 0.000000\n",
       "edad                  19.975031\n",
       "amigos                 0.000000\n",
       "parientes              0.000000\n",
       "id_ticket              0.000000\n",
       "precio_ticket          0.000000\n",
       "fila                  77.902622\n",
       "nombre_sede            0.249688\n",
       "volveria               0.000000"
      ]
     },
     "execution_count": 10,
     "metadata": {},
     "output_type": "execute_result"
    }
   ],
   "source": [
    "(df.isnull().mean()*100).to_frame('porcentaje nulls')"
   ]
  },
  {
   "cell_type": "markdown",
   "metadata": {},
   "source": [
    "Viendo estos valores, podemos observar que en la columna `fila` que representa la fila donde se sento el cliente al ver la pelicula tiene un 78% de ausencia de información. En cuanto a la columna `edad`, encontramos un 20% de faltante de información. \n",
    "\n",
    "Es importante mencionar tambien que la columna `nombre_sede` tiene algunos valores en null por lo que deberemos tomar una decisión de que hacer con dichas entradas."
   ]
  },
  {
   "cell_type": "markdown",
   "metadata": {},
   "source": [
    "## Funciones para el Analisis de cada Columna"
   ]
  },
  {
   "cell_type": "markdown",
   "metadata": {},
   "source": [
    "La función `porcentajeVolveria` nos servira para poder obtener los porcentajes que volverian basados en un agrupamiento."
   ]
  },
  {
   "cell_type": "code",
   "execution_count": 11,
   "metadata": {},
   "outputs": [],
   "source": [
    "def porcentajeVolveria(group):\n",
    "    return (group == 1).mean() * 100.0"
   ]
  },
  {
   "cell_type": "markdown",
   "metadata": {},
   "source": [
    "## Analisis de la columna \"Fila\"\n",
    "\n",
    "En este inciso analizaremos la columna `Fila`. Como vimos anteriormente, es una columna con muchos valores vacios. Es importante poder ver que hacer con dichos valores o si la columna tiene algo de información que nos pueda ser util. "
   ]
  },
  {
   "cell_type": "code",
   "execution_count": 12,
   "metadata": {},
   "outputs": [
    {
     "data": {
      "text/html": [
       "<div>\n",
       "<style scoped>\n",
       "    .dataframe tbody tr th:only-of-type {\n",
       "        vertical-align: middle;\n",
       "    }\n",
       "\n",
       "    .dataframe tbody tr th {\n",
       "        vertical-align: top;\n",
       "    }\n",
       "\n",
       "    .dataframe thead th {\n",
       "        text-align: right;\n",
       "    }\n",
       "</style>\n",
       "<table border=\"1\" class=\"dataframe\">\n",
       "  <thead>\n",
       "    <tr style=\"text-align: right;\">\n",
       "      <th></th>\n",
       "      <th>volveria</th>\n",
       "    </tr>\n",
       "    <tr>\n",
       "      <th>fila</th>\n",
       "      <th></th>\n",
       "    </tr>\n",
       "  </thead>\n",
       "  <tbody>\n",
       "    <tr>\n",
       "      <th>adelante</th>\n",
       "      <td>68.902439</td>\n",
       "    </tr>\n",
       "    <tr>\n",
       "      <th>medio</th>\n",
       "      <td>53.846154</td>\n",
       "    </tr>\n",
       "  </tbody>\n",
       "</table>\n",
       "</div>"
      ],
      "text/plain": [
       "           volveria\n",
       "fila               \n",
       "adelante  68.902439\n",
       "medio     53.846154"
      ]
     },
     "execution_count": 12,
     "metadata": {},
     "output_type": "execute_result"
    }
   ],
   "source": [
    "volveria_por_fila = df.groupby(by='fila').agg({\n",
    "        \"volveria\" : porcentajeVolveria,       \n",
    "})\n",
    "volveria_por_fila"
   ]
  },
  {
   "cell_type": "code",
   "execution_count": 13,
   "metadata": {},
   "outputs": [
    {
     "data": {
      "text/plain": [
       "Text(0.5, 1.0, 'Cantidades por Fila')"
      ]
     },
     "execution_count": 13,
     "metadata": {},
     "output_type": "execute_result"
    },
    {
     "data": {
      "image/png": "[encoded data removed]",
      "text/plain": [
       "<Figure size 600x400 with 1 Axes>"
      ]
     },
     "metadata": {
      "needs_background": "light"
     },
     "output_type": "display_data"
    }
   ],
   "source": [
    "plt.figure(dpi=100)\n",
    "sns.countplot(data=df, x='fila', hue='volveria', palette={0: '#FF5555', 1: '#44EE44'},orient=\"vertical\")\n",
    "plt.ylabel(\"Cantidad\")\n",
    "plt.xlabel(\"Fila del Asiento donde vio Frozen 3\")\n",
    "plt.title(\"Cantidades por Fila\")"
   ]
  },
  {
   "cell_type": "markdown",
   "metadata": {},
   "source": [
    "Ademas del gran cantidad de ausencia de información acerca de dicha variable, lo que vemos es que la gran mayoria que contesto dijo que lo hizo en filas de adelante, lo que en principio nos dificulta poder hacer una diferencia entre los dos valores que tenemos que nos pueda determinar concretamente una relacion entre el lugar donde se sento y la preferencia para volver.\n",
    "\n",
    "Teniendo esto en cuenta, y que no podemos inferir un valor para reemplazar en las ausencias, vamos a proceder en descartar dicha columna de nuestros analisis."
   ]
  },
  {
   "cell_type": "code",
   "execution_count": 14,
   "metadata": {},
   "outputs": [
    {
     "data": {
      "text/html": [
       "<div>\n",
       "<style scoped>\n",
       "    .dataframe tbody tr th:only-of-type {\n",
       "        vertical-align: middle;\n",
       "    }\n",
       "\n",
       "    .dataframe tbody tr th {\n",
       "        vertical-align: top;\n",
       "    }\n",
       "\n",
       "    .dataframe thead th {\n",
       "        text-align: right;\n",
       "    }\n",
       "</style>\n",
       "<table border=\"1\" class=\"dataframe\">\n",
       "  <thead>\n",
       "    <tr style=\"text-align: right;\">\n",
       "      <th></th>\n",
       "      <th>tipo_de_sala</th>\n",
       "      <th>nombre</th>\n",
       "      <th>genero</th>\n",
       "      <th>edad</th>\n",
       "      <th>amigos</th>\n",
       "      <th>parientes</th>\n",
       "      <th>id_ticket</th>\n",
       "      <th>precio_ticket</th>\n",
       "      <th>nombre_sede</th>\n",
       "      <th>volveria</th>\n",
       "    </tr>\n",
       "    <tr>\n",
       "      <th>id_usuario</th>\n",
       "      <th></th>\n",
       "      <th></th>\n",
       "      <th></th>\n",
       "      <th></th>\n",
       "      <th></th>\n",
       "      <th></th>\n",
       "      <th></th>\n",
       "      <th></th>\n",
       "      <th></th>\n",
       "      <th></th>\n",
       "    </tr>\n",
       "  </thead>\n",
       "  <tbody>\n",
       "    <tr>\n",
       "      <th>117</th>\n",
       "      <td>4d</td>\n",
       "      <td>Señor Camilo Pedro</td>\n",
       "      <td>hombre</td>\n",
       "      <td>73.5</td>\n",
       "      <td>0</td>\n",
       "      <td>0</td>\n",
       "      <td>59258;</td>\n",
       "      <td>1</td>\n",
       "      <td>fiumark_quilmes</td>\n",
       "      <td>0</td>\n",
       "    </tr>\n",
       "    <tr>\n",
       "      <th>658</th>\n",
       "      <td>4d</td>\n",
       "      <td>Señora Raquel Angelica</td>\n",
       "      <td>mujer</td>\n",
       "      <td>35.0</td>\n",
       "      <td>1</td>\n",
       "      <td>1</td>\n",
       "      <td>586:6;</td>\n",
       "      <td>2</td>\n",
       "      <td>fiumark_quilmes</td>\n",
       "      <td>0</td>\n",
       "    </tr>\n",
       "    <tr>\n",
       "      <th>794</th>\n",
       "      <td>normal</td>\n",
       "      <td>Señor Antonio Federico</td>\n",
       "      <td>hombre</td>\n",
       "      <td>NaN</td>\n",
       "      <td>0</td>\n",
       "      <td>0</td>\n",
       "      <td>RE\"39822</td>\n",
       "      <td>3</td>\n",
       "      <td>fiumark_chacarita</td>\n",
       "      <td>0</td>\n",
       "    </tr>\n",
       "    <tr>\n",
       "      <th>455</th>\n",
       "      <td>4d</td>\n",
       "      <td>Señor Osvaldo Aureliano</td>\n",
       "      <td>hombre</td>\n",
       "      <td>NaN</td>\n",
       "      <td>0</td>\n",
       "      <td>0</td>\n",
       "      <td>C17\"4:39</td>\n",
       "      <td>1</td>\n",
       "      <td>fiumark_palermo</td>\n",
       "      <td>0</td>\n",
       "    </tr>\n",
       "    <tr>\n",
       "      <th>173</th>\n",
       "      <td>4d</td>\n",
       "      <td>Señorita Rita Eudosia</td>\n",
       "      <td>mujer</td>\n",
       "      <td>4.0</td>\n",
       "      <td>1</td>\n",
       "      <td>1</td>\n",
       "      <td>569964</td>\n",
       "      <td>2</td>\n",
       "      <td>fiumark_palermo</td>\n",
       "      <td>1</td>\n",
       "    </tr>\n",
       "    <tr>\n",
       "      <th>...</th>\n",
       "      <td>...</td>\n",
       "      <td>...</td>\n",
       "      <td>...</td>\n",
       "      <td>...</td>\n",
       "      <td>...</td>\n",
       "      <td>...</td>\n",
       "      <td>...</td>\n",
       "      <td>...</td>\n",
       "      <td>...</td>\n",
       "      <td>...</td>\n",
       "    </tr>\n",
       "    <tr>\n",
       "      <th>448</th>\n",
       "      <td>normal</td>\n",
       "      <td>Señor Bernardo Melesio</td>\n",
       "      <td>hombre</td>\n",
       "      <td>37.0</td>\n",
       "      <td>0</td>\n",
       "      <td>0</td>\n",
       "      <td>3359;6</td>\n",
       "      <td>3</td>\n",
       "      <td>fiumark_palermo</td>\n",
       "      <td>1</td>\n",
       "    </tr>\n",
       "    <tr>\n",
       "      <th>636</th>\n",
       "      <td>3d</td>\n",
       "      <td>Señorita Lidia Catalina</td>\n",
       "      <td>mujer</td>\n",
       "      <td>31.0</td>\n",
       "      <td>0</td>\n",
       "      <td>0</td>\n",
       "      <td>45988:</td>\n",
       "      <td>2</td>\n",
       "      <td>fiumark_palermo</td>\n",
       "      <td>1</td>\n",
       "    </tr>\n",
       "    <tr>\n",
       "      <th>848</th>\n",
       "      <td>4d</td>\n",
       "      <td>Señor Arturo Antenor</td>\n",
       "      <td>hombre</td>\n",
       "      <td>38.0</td>\n",
       "      <td>0</td>\n",
       "      <td>0</td>\n",
       "      <td>56;435</td>\n",
       "      <td>1</td>\n",
       "      <td>fiumark_chacarita</td>\n",
       "      <td>0</td>\n",
       "    </tr>\n",
       "    <tr>\n",
       "      <th>304</th>\n",
       "      <td>3d</td>\n",
       "      <td>Señorita Natividad Sofia</td>\n",
       "      <td>mujer</td>\n",
       "      <td>NaN</td>\n",
       "      <td>0</td>\n",
       "      <td>0</td>\n",
       "      <td>4487;5</td>\n",
       "      <td>2</td>\n",
       "      <td>fiumark_quilmes</td>\n",
       "      <td>1</td>\n",
       "    </tr>\n",
       "    <tr>\n",
       "      <th>385</th>\n",
       "      <td>4d</td>\n",
       "      <td>Señor Isidoro Sebastian</td>\n",
       "      <td>hombre</td>\n",
       "      <td>NaN</td>\n",
       "      <td>0</td>\n",
       "      <td>0</td>\n",
       "      <td>56;449</td>\n",
       "      <td>1</td>\n",
       "      <td>fiumark_palermo</td>\n",
       "      <td>0</td>\n",
       "    </tr>\n",
       "  </tbody>\n",
       "</table>\n",
       "<p>801 rows × 10 columns</p>\n",
       "</div>"
      ],
      "text/plain": [
       "           tipo_de_sala                    nombre  genero  edad  amigos  \\\n",
       "id_usuario                                                                \n",
       "117                  4d        Señor Camilo Pedro  hombre  73.5       0   \n",
       "658                  4d    Señora Raquel Angelica   mujer  35.0       1   \n",
       "794              normal    Señor Antonio Federico  hombre   NaN       0   \n",
       "455                  4d   Señor Osvaldo Aureliano  hombre   NaN       0   \n",
       "173                  4d     Señorita Rita Eudosia   mujer   4.0       1   \n",
       "...                 ...                       ...     ...   ...     ...   \n",
       "448              normal    Señor Bernardo Melesio  hombre  37.0       0   \n",
       "636                  3d   Señorita Lidia Catalina   mujer  31.0       0   \n",
       "848                  4d      Señor Arturo Antenor  hombre  38.0       0   \n",
       "304                  3d  Señorita Natividad Sofia   mujer   NaN       0   \n",
       "385                  4d   Señor Isidoro Sebastian  hombre   NaN       0   \n",
       "\n",
       "            parientes id_ticket  precio_ticket        nombre_sede  volveria  \n",
       "id_usuario                                                                   \n",
       "117                 0    59258;              1    fiumark_quilmes         0  \n",
       "658                 1    586:6;              2    fiumark_quilmes         0  \n",
       "794                 0  RE\"39822              3  fiumark_chacarita         0  \n",
       "455                 0  C17\"4:39              1    fiumark_palermo         0  \n",
       "173                 1    569964              2    fiumark_palermo         1  \n",
       "...               ...       ...            ...                ...       ...  \n",
       "448                 0    3359;6              3    fiumark_palermo         1  \n",
       "636                 0    45988:              2    fiumark_palermo         1  \n",
       "848                 0    56;435              1  fiumark_chacarita         0  \n",
       "304                 0    4487;5              2    fiumark_quilmes         1  \n",
       "385                 0    56;449              1    fiumark_palermo         0  \n",
       "\n",
       "[801 rows x 10 columns]"
      ]
     },
     "execution_count": 14,
     "metadata": {},
     "output_type": "execute_result"
    }
   ],
   "source": [
    "df.drop(columns=['fila'],inplace=True)\n",
    "df"
   ]
  },
  {
   "cell_type": "markdown",
   "metadata": {},
   "source": [
    "## Analisis de la columna \"Edad\""
   ]
  },
  {
   "cell_type": "markdown",
   "metadata": {},
   "source": [
    "Reutilizaremos la función definida anteriomente para analizar la columna edad."
   ]
  },
  {
   "cell_type": "code",
   "execution_count": 15,
   "metadata": {},
   "outputs": [
    {
     "data": {
      "text/html": [
       "<div>\n",
       "<style scoped>\n",
       "    .dataframe tbody tr th:only-of-type {\n",
       "        vertical-align: middle;\n",
       "    }\n",
       "\n",
       "    .dataframe tbody tr th {\n",
       "        vertical-align: top;\n",
       "    }\n",
       "\n",
       "    .dataframe thead th {\n",
       "        text-align: right;\n",
       "    }\n",
       "</style>\n",
       "<table border=\"1\" class=\"dataframe\">\n",
       "  <thead>\n",
       "    <tr style=\"text-align: right;\">\n",
       "      <th></th>\n",
       "      <th>volveria</th>\n",
       "    </tr>\n",
       "    <tr>\n",
       "      <th>edad</th>\n",
       "      <th></th>\n",
       "    </tr>\n",
       "  </thead>\n",
       "  <tbody>\n",
       "    <tr>\n",
       "      <th>3.42</th>\n",
       "      <td>100.000000</td>\n",
       "    </tr>\n",
       "    <tr>\n",
       "      <th>3.67</th>\n",
       "      <td>100.000000</td>\n",
       "    </tr>\n",
       "    <tr>\n",
       "      <th>3.75</th>\n",
       "      <td>100.000000</td>\n",
       "    </tr>\n",
       "    <tr>\n",
       "      <th>3.83</th>\n",
       "      <td>100.000000</td>\n",
       "    </tr>\n",
       "    <tr>\n",
       "      <th>4.00</th>\n",
       "      <td>71.428571</td>\n",
       "    </tr>\n",
       "    <tr>\n",
       "      <th>...</th>\n",
       "      <td>...</td>\n",
       "    </tr>\n",
       "    <tr>\n",
       "      <th>73.00</th>\n",
       "      <td>0.000000</td>\n",
       "    </tr>\n",
       "    <tr>\n",
       "      <th>73.50</th>\n",
       "      <td>0.000000</td>\n",
       "    </tr>\n",
       "    <tr>\n",
       "      <th>74.00</th>\n",
       "      <td>0.000000</td>\n",
       "    </tr>\n",
       "    <tr>\n",
       "      <th>77.00</th>\n",
       "      <td>0.000000</td>\n",
       "    </tr>\n",
       "    <tr>\n",
       "      <th>83.00</th>\n",
       "      <td>100.000000</td>\n",
       "    </tr>\n",
       "  </tbody>\n",
       "</table>\n",
       "<p>84 rows × 1 columns</p>\n",
       "</div>"
      ],
      "text/plain": [
       "         volveria\n",
       "edad             \n",
       "3.42   100.000000\n",
       "3.67   100.000000\n",
       "3.75   100.000000\n",
       "3.83   100.000000\n",
       "4.00    71.428571\n",
       "...           ...\n",
       "73.00    0.000000\n",
       "73.50    0.000000\n",
       "74.00    0.000000\n",
       "77.00    0.000000\n",
       "83.00  100.000000\n",
       "\n",
       "[84 rows x 1 columns]"
      ]
     },
     "execution_count": 15,
     "metadata": {},
     "output_type": "execute_result"
    }
   ],
   "source": [
    "volveria_por_edad = df.groupby(by='edad').agg({\n",
    "        \"volveria\" : porcentajeVolveria,       \n",
    "})\n",
    "volveria_por_edad"
   ]
  },
  {
   "cell_type": "markdown",
   "metadata": {},
   "source": [
    "En un primer analisis sobre las edades, podemos observar valores decimales lo cual genera demasiados valores posibles para dicha variable. Para poder optimizar los calculos, vamos a generar una categoría agrupando de a 10 años tomando su digito mas significativo. Ejemplo, todos aquellos que respondieron que tienen entre 20 y 30 años, estaran categorizados como 2."
   ]
  },
  {
   "cell_type": "code",
   "execution_count": 16,
   "metadata": {},
   "outputs": [
    {
     "data": {
      "text/html": [
       "<div>\n",
       "<style scoped>\n",
       "    .dataframe tbody tr th:only-of-type {\n",
       "        vertical-align: middle;\n",
       "    }\n",
       "\n",
       "    .dataframe tbody tr th {\n",
       "        vertical-align: top;\n",
       "    }\n",
       "\n",
       "    .dataframe thead th {\n",
       "        text-align: right;\n",
       "    }\n",
       "</style>\n",
       "<table border=\"1\" class=\"dataframe\">\n",
       "  <thead>\n",
       "    <tr style=\"text-align: right;\">\n",
       "      <th></th>\n",
       "      <th>tipo_de_sala</th>\n",
       "      <th>nombre</th>\n",
       "      <th>genero</th>\n",
       "      <th>edad</th>\n",
       "      <th>amigos</th>\n",
       "      <th>parientes</th>\n",
       "      <th>id_ticket</th>\n",
       "      <th>precio_ticket</th>\n",
       "      <th>nombre_sede</th>\n",
       "      <th>volveria</th>\n",
       "      <th>edad_categorizada</th>\n",
       "    </tr>\n",
       "    <tr>\n",
       "      <th>id_usuario</th>\n",
       "      <th></th>\n",
       "      <th></th>\n",
       "      <th></th>\n",
       "      <th></th>\n",
       "      <th></th>\n",
       "      <th></th>\n",
       "      <th></th>\n",
       "      <th></th>\n",
       "      <th></th>\n",
       "      <th></th>\n",
       "      <th></th>\n",
       "    </tr>\n",
       "  </thead>\n",
       "  <tbody>\n",
       "    <tr>\n",
       "      <th>117</th>\n",
       "      <td>4d</td>\n",
       "      <td>Señor Camilo Pedro</td>\n",
       "      <td>hombre</td>\n",
       "      <td>73.5</td>\n",
       "      <td>0</td>\n",
       "      <td>0</td>\n",
       "      <td>59258;</td>\n",
       "      <td>1</td>\n",
       "      <td>fiumark_quilmes</td>\n",
       "      <td>0</td>\n",
       "      <td>7.0</td>\n",
       "    </tr>\n",
       "    <tr>\n",
       "      <th>658</th>\n",
       "      <td>4d</td>\n",
       "      <td>Señora Raquel Angelica</td>\n",
       "      <td>mujer</td>\n",
       "      <td>35.0</td>\n",
       "      <td>1</td>\n",
       "      <td>1</td>\n",
       "      <td>586:6;</td>\n",
       "      <td>2</td>\n",
       "      <td>fiumark_quilmes</td>\n",
       "      <td>0</td>\n",
       "      <td>4.0</td>\n",
       "    </tr>\n",
       "    <tr>\n",
       "      <th>794</th>\n",
       "      <td>normal</td>\n",
       "      <td>Señor Antonio Federico</td>\n",
       "      <td>hombre</td>\n",
       "      <td>NaN</td>\n",
       "      <td>0</td>\n",
       "      <td>0</td>\n",
       "      <td>RE\"39822</td>\n",
       "      <td>3</td>\n",
       "      <td>fiumark_chacarita</td>\n",
       "      <td>0</td>\n",
       "      <td>NaN</td>\n",
       "    </tr>\n",
       "    <tr>\n",
       "      <th>455</th>\n",
       "      <td>4d</td>\n",
       "      <td>Señor Osvaldo Aureliano</td>\n",
       "      <td>hombre</td>\n",
       "      <td>NaN</td>\n",
       "      <td>0</td>\n",
       "      <td>0</td>\n",
       "      <td>C17\"4:39</td>\n",
       "      <td>1</td>\n",
       "      <td>fiumark_palermo</td>\n",
       "      <td>0</td>\n",
       "      <td>NaN</td>\n",
       "    </tr>\n",
       "    <tr>\n",
       "      <th>173</th>\n",
       "      <td>4d</td>\n",
       "      <td>Señorita Rita Eudosia</td>\n",
       "      <td>mujer</td>\n",
       "      <td>4.0</td>\n",
       "      <td>1</td>\n",
       "      <td>1</td>\n",
       "      <td>569964</td>\n",
       "      <td>2</td>\n",
       "      <td>fiumark_palermo</td>\n",
       "      <td>1</td>\n",
       "      <td>0.0</td>\n",
       "    </tr>\n",
       "    <tr>\n",
       "      <th>...</th>\n",
       "      <td>...</td>\n",
       "      <td>...</td>\n",
       "      <td>...</td>\n",
       "      <td>...</td>\n",
       "      <td>...</td>\n",
       "      <td>...</td>\n",
       "      <td>...</td>\n",
       "      <td>...</td>\n",
       "      <td>...</td>\n",
       "      <td>...</td>\n",
       "      <td>...</td>\n",
       "    </tr>\n",
       "    <tr>\n",
       "      <th>448</th>\n",
       "      <td>normal</td>\n",
       "      <td>Señor Bernardo Melesio</td>\n",
       "      <td>hombre</td>\n",
       "      <td>37.0</td>\n",
       "      <td>0</td>\n",
       "      <td>0</td>\n",
       "      <td>3359;6</td>\n",
       "      <td>3</td>\n",
       "      <td>fiumark_palermo</td>\n",
       "      <td>1</td>\n",
       "      <td>4.0</td>\n",
       "    </tr>\n",
       "    <tr>\n",
       "      <th>636</th>\n",
       "      <td>3d</td>\n",
       "      <td>Señorita Lidia Catalina</td>\n",
       "      <td>mujer</td>\n",
       "      <td>31.0</td>\n",
       "      <td>0</td>\n",
       "      <td>0</td>\n",
       "      <td>45988:</td>\n",
       "      <td>2</td>\n",
       "      <td>fiumark_palermo</td>\n",
       "      <td>1</td>\n",
       "      <td>3.0</td>\n",
       "    </tr>\n",
       "    <tr>\n",
       "      <th>848</th>\n",
       "      <td>4d</td>\n",
       "      <td>Señor Arturo Antenor</td>\n",
       "      <td>hombre</td>\n",
       "      <td>38.0</td>\n",
       "      <td>0</td>\n",
       "      <td>0</td>\n",
       "      <td>56;435</td>\n",
       "      <td>1</td>\n",
       "      <td>fiumark_chacarita</td>\n",
       "      <td>0</td>\n",
       "      <td>4.0</td>\n",
       "    </tr>\n",
       "    <tr>\n",
       "      <th>304</th>\n",
       "      <td>3d</td>\n",
       "      <td>Señorita Natividad Sofia</td>\n",
       "      <td>mujer</td>\n",
       "      <td>NaN</td>\n",
       "      <td>0</td>\n",
       "      <td>0</td>\n",
       "      <td>4487;5</td>\n",
       "      <td>2</td>\n",
       "      <td>fiumark_quilmes</td>\n",
       "      <td>1</td>\n",
       "      <td>NaN</td>\n",
       "    </tr>\n",
       "    <tr>\n",
       "      <th>385</th>\n",
       "      <td>4d</td>\n",
       "      <td>Señor Isidoro Sebastian</td>\n",
       "      <td>hombre</td>\n",
       "      <td>NaN</td>\n",
       "      <td>0</td>\n",
       "      <td>0</td>\n",
       "      <td>56;449</td>\n",
       "      <td>1</td>\n",
       "      <td>fiumark_palermo</td>\n",
       "      <td>0</td>\n",
       "      <td>NaN</td>\n",
       "    </tr>\n",
       "  </tbody>\n",
       "</table>\n",
       "<p>801 rows × 11 columns</p>\n",
       "</div>"
      ],
      "text/plain": [
       "           tipo_de_sala                    nombre  genero  edad  amigos  \\\n",
       "id_usuario                                                                \n",
       "117                  4d        Señor Camilo Pedro  hombre  73.5       0   \n",
       "658                  4d    Señora Raquel Angelica   mujer  35.0       1   \n",
       "794              normal    Señor Antonio Federico  hombre   NaN       0   \n",
       "455                  4d   Señor Osvaldo Aureliano  hombre   NaN       0   \n",
       "173                  4d     Señorita Rita Eudosia   mujer   4.0       1   \n",
       "...                 ...                       ...     ...   ...     ...   \n",
       "448              normal    Señor Bernardo Melesio  hombre  37.0       0   \n",
       "636                  3d   Señorita Lidia Catalina   mujer  31.0       0   \n",
       "848                  4d      Señor Arturo Antenor  hombre  38.0       0   \n",
       "304                  3d  Señorita Natividad Sofia   mujer   NaN       0   \n",
       "385                  4d   Señor Isidoro Sebastian  hombre   NaN       0   \n",
       "\n",
       "            parientes id_ticket  precio_ticket        nombre_sede  volveria  \\\n",
       "id_usuario                                                                    \n",
       "117                 0    59258;              1    fiumark_quilmes         0   \n",
       "658                 1    586:6;              2    fiumark_quilmes         0   \n",
       "794                 0  RE\"39822              3  fiumark_chacarita         0   \n",
       "455                 0  C17\"4:39              1    fiumark_palermo         0   \n",
       "173                 1    569964              2    fiumark_palermo         1   \n",
       "...               ...       ...            ...                ...       ...   \n",
       "448                 0    3359;6              3    fiumark_palermo         1   \n",
       "636                 0    45988:              2    fiumark_palermo         1   \n",
       "848                 0    56;435              1  fiumark_chacarita         0   \n",
       "304                 0    4487;5              2    fiumark_quilmes         1   \n",
       "385                 0    56;449              1    fiumark_palermo         0   \n",
       "\n",
       "            edad_categorizada  \n",
       "id_usuario                     \n",
       "117                       7.0  \n",
       "658                       4.0  \n",
       "794                       NaN  \n",
       "455                       NaN  \n",
       "173                       0.0  \n",
       "...                       ...  \n",
       "448                       4.0  \n",
       "636                       3.0  \n",
       "848                       4.0  \n",
       "304                       NaN  \n",
       "385                       NaN  \n",
       "\n",
       "[801 rows x 11 columns]"
      ]
     },
     "execution_count": 16,
     "metadata": {},
     "output_type": "execute_result"
    }
   ],
   "source": [
    "def categorizarEdad(edad):\n",
    "    if(np.isnan(edad)):\n",
    "        return edad\n",
    "    else:\n",
    "        return int(round(edad/10,0))\n",
    "\n",
    "\n",
    "df['edad_categorizada'] = df.edad.apply(categorizarEdad)\n",
    "df"
   ]
  },
  {
   "cell_type": "code",
   "execution_count": 17,
   "metadata": {},
   "outputs": [
    {
     "data": {
      "text/plain": [
       "Text(0.5, 1.0, 'Cantidades segun la categoria de edad')"
      ]
     },
     "execution_count": 17,
     "metadata": {},
     "output_type": "execute_result"
    },
    {
     "data": {
      "image/png": "[encoded data removed]",
      "text/plain": [
       "<Figure size 720x480 with 1 Axes>"
      ]
     },
     "metadata": {
      "needs_background": "light"
     },
     "output_type": "display_data"
    }
   ],
   "source": [
    "plt.figure(dpi=120)\n",
    "sns.countplot(data=df, x='edad_categorizada', hue='volveria', palette={0: '#FF5555', 1: '#44EE44'},orient=\"vertical\")\n",
    "plt.ylabel(\"Cantidad\")\n",
    "plt.xticks(rotation='vertical')\n",
    "plt.xlabel(\"Categoria de Edad\")\n",
    "plt.title(\"Cantidades segun la categoria de edad\")"
   ]
  },
  {
   "cell_type": "markdown",
   "metadata": {},
   "source": [
    "El grafico anterior nos muestra que para personas con edad menor a 20 años, existe ciertos valores que podrian indicar una preferencia por volver. Sin embargo, de 20 años en adelante, en cada categoría la mayoria dice que no volveria. Esto tambien lo podemos observar obteniendo los porcentajes que volverian segun cada categoría."
   ]
  },
  {
   "cell_type": "code",
   "execution_count": 28,
   "metadata": {},
   "outputs": [
    {
     "data": {
      "text/html": [
       "<div>\n",
       "<style scoped>\n",
       "    .dataframe tbody tr th:only-of-type {\n",
       "        vertical-align: middle;\n",
       "    }\n",
       "\n",
       "    .dataframe tbody tr th {\n",
       "        vertical-align: top;\n",
       "    }\n",
       "\n",
       "    .dataframe thead th {\n",
       "        text-align: right;\n",
       "    }\n",
       "</style>\n",
       "<table border=\"1\" class=\"dataframe\">\n",
       "  <thead>\n",
       "    <tr style=\"text-align: right;\">\n",
       "      <th></th>\n",
       "      <th>volveria</th>\n",
       "    </tr>\n",
       "    <tr>\n",
       "      <th>edad_categorizada</th>\n",
       "      <th></th>\n",
       "    </tr>\n",
       "  </thead>\n",
       "  <tbody>\n",
       "    <tr>\n",
       "      <th>0.0</th>\n",
       "      <td>61.904762</td>\n",
       "    </tr>\n",
       "    <tr>\n",
       "      <th>1.0</th>\n",
       "      <td>51.351351</td>\n",
       "    </tr>\n",
       "    <tr>\n",
       "      <th>2.0</th>\n",
       "      <td>37.086093</td>\n",
       "    </tr>\n",
       "    <tr>\n",
       "      <th>3.0</th>\n",
       "      <td>38.636364</td>\n",
       "    </tr>\n",
       "    <tr>\n",
       "      <th>4.0</th>\n",
       "      <td>45.390071</td>\n",
       "    </tr>\n",
       "    <tr>\n",
       "      <th>5.0</th>\n",
       "      <td>36.363636</td>\n",
       "    </tr>\n",
       "    <tr>\n",
       "      <th>6.0</th>\n",
       "      <td>41.666667</td>\n",
       "    </tr>\n",
       "    <tr>\n",
       "      <th>7.0</th>\n",
       "      <td>9.090909</td>\n",
       "    </tr>\n",
       "    <tr>\n",
       "      <th>8.0</th>\n",
       "      <td>50.000000</td>\n",
       "    </tr>\n",
       "  </tbody>\n",
       "</table>\n",
       "</div>"
      ],
      "text/plain": [
       "                    volveria\n",
       "edad_categorizada           \n",
       "0.0                61.904762\n",
       "1.0                51.351351\n",
       "2.0                37.086093\n",
       "3.0                38.636364\n",
       "4.0                45.390071\n",
       "5.0                36.363636\n",
       "6.0                41.666667\n",
       "7.0                 9.090909\n",
       "8.0                50.000000"
      ]
     },
     "execution_count": 28,
     "metadata": {},
     "output_type": "execute_result"
    }
   ],
   "source": [
    "df.groupby(by='edad_categorizada').agg({\n",
    "        \"volveria\" : porcentajeVolveria\n",
    "})"
   ]
  },
  {
   "cell_type": "code",
   "execution_count": null,
   "metadata": {},
   "outputs": [],
   "source": []
  },
  {
   "cell_type": "code",
   "execution_count": null,
   "metadata": {},
   "outputs": [],
   "source": []
  },
  {
   "cell_type": "code",
   "execution_count": 42,
   "metadata": {},
   "outputs": [
    {
     "data": {
      "text/plain": [
       "Text(0.5, 1.0, 'Volverian por Genero')"
      ]
     },
     "execution_count": 42,
     "metadata": {},
     "output_type": "execute_result"
    },
    {
     "data": {
      "image/png": "[encoded data removed]",
      "text/plain": [
       "<Figure size 600x400 with 1 Axes>"
      ]
     },
     "metadata": {
      "needs_background": "light"
     },
     "output_type": "display_data"
    }
   ],
   "source": [
    "plt.figure(dpi=100)\n",
    "sns.countplot(data=df, x='genero', hue='volveria', palette={0: '#FF5555', 1: '#44EE44'},orient=\"vertical\")\n",
    "plt.ylabel(\"Cantidad\")\n",
    "plt.xlabel(\"Genero\")\n",
    "plt.title(\"Volverian por Genero\")"
   ]
  },
  {
   "cell_type": "code",
   "execution_count": null,
   "metadata": {},
   "outputs": [],
   "source": []
  },
  {
   "cell_type": "code",
   "execution_count": null,
   "metadata": {},
   "outputs": [],
   "source": []
  },
  {
   "cell_type": "code",
   "execution_count": null,
   "metadata": {},
   "outputs": [],
   "source": []
  },
  {
   "cell_type": "markdown",
   "metadata": {},
   "source": [
    "## Correlación entre variables\n",
    "\n",
    "A continuación vamos a tratar de analizar si existen algunas relaciones entre las variables. Para eso, trataremos de encontrar algun comportamiento que no se relacione con lo que ya fuimos observando para cada una de las mismas. Estas correlaciones nos ayudaran a generar las decisiones para nuestra función baseline."
   ]
  },
  {
   "cell_type": "markdown",
   "metadata": {},
   "source": [
    "### Genero en relación con el Precio del Ticket\n",
    "\n",
    "Anteriormente observamos que las mujeres en su gran mayoría respondian que volverian mientras que los hombres lo opuesto. Por otro lado, pudimos observar que en cuanto al precio pagado por el ticket, aquellos que su ticket tuvo el valor categorizado como `1`, no solo son el grupo mayoritario, sino que ademas, la gran mayoría de estos respondio que no volveria.\n",
    "\n",
    "En los analisis siguientes trataremos de encontrar si existe o no una relación entre las variables. Para ello, lo que haremos es separar por genero y segun si su precio de ticket corresponde a la categoría uno o no."
   ]
  },
  {
   "cell_type": "code",
   "execution_count": 43,
   "metadata": {},
   "outputs": [
    {
     "data": {
      "text/plain": [
       "Text(0.5, 1.0, 'Volverian por Genero que tuvieron el precio de ticket 1')"
      ]
     },
     "execution_count": 43,
     "metadata": {},
     "output_type": "execute_result"
    },
    {
     "data": {
      "image/png": "[encoded data removed]",
      "text/plain": [
       "<Figure size 600x400 with 1 Axes>"
      ]
     },
     "metadata": {
      "needs_background": "light"
     },
     "output_type": "display_data"
    }
   ],
   "source": [
    "plt.figure(dpi=100)\n",
    "sns.countplot(data=df[df['precio_ticket'] == 1 ], x='genero', hue='volveria', palette={0: '#FF5555', 1: '#44EE44'},orient=\"vertical\")\n",
    "plt.ylabel(\"Cantidad\")\n",
    "plt.xlabel(\"Genero\")\n",
    "plt.title(\"Volverian por Genero que tuvieron el precio de ticket 1\")"
   ]
  },
  {
   "cell_type": "code",
   "execution_count": 40,
   "metadata": {},
   "outputs": [
    {
     "data": {
      "text/plain": [
       "Text(0.5, 1.0, 'Volverian por Genero que tuvieron otro precio de ticket que no fue el 1')"
      ]
     },
     "execution_count": 40,
     "metadata": {},
     "output_type": "execute_result"
    },
    {
     "data": {
      "image/png": "[encoded data removed]",
      "text/plain": [
       "<Figure size 600x400 with 1 Axes>"
      ]
     },
     "metadata": {
      "needs_background": "light"
     },
     "output_type": "display_data"
    }
   ],
   "source": [
    "plt.figure(dpi=100)\n",
    "sns.countplot(data=df[df['precio_ticket'] != 1 ], x='genero', hue='volveria', palette={0: '#FF5555', 1: '#44EE44'},orient=\"vertical\")\n",
    "plt.ylabel(\"Cantidad\")\n",
    "plt.xlabel(\"Categoria de Edad\")\n",
    "plt.title(\"Volverian por Genero que tuvieron otro precio de ticket que no fue el 1\")"
   ]
  },
  {
   "cell_type": "markdown",
   "metadata": {},
   "source": [
    "De estos graficos podemos observar que en todos los escenarios, las mujeres volverian mientras que los hombres no, independientemente de la si fueron categorizados en el precio que pagaron con el valor `1`. Es importante igual destacar, que el valor en las mujeres que volverian pagando dicha tarifa es mayor pero muy similar a las que no volverian. Esto nos habla de que el precio tuvo un impacto negativo, pero sin embargo, para la generación de nuestra función de predicción, no nos servira analizar el precio por sobre el genero."
   ]
  },
  {
   "cell_type": "markdown",
   "metadata": {},
   "source": [
    "### Genero en relación con el tipo de sala\n",
    "\n",
    "Esta vez vamos a concentrarnos en si para algun tipo de sala, uno de los generos se comporta distinto a lo esperado, es decir, que las mujeres vuelvan en mayoria y que los hombres no lo hagan."
   ]
  },
  {
   "cell_type": "code",
   "execution_count": 47,
   "metadata": {},
   "outputs": [
    {
     "data": {
      "text/plain": [
       "Text(0.5, 1.0, '¿Cual fue la respuesta para los hombres segun el tipo de sala?')"
      ]
     },
     "execution_count": 47,
     "metadata": {},
     "output_type": "execute_result"
    },
    {
     "data": {
      "image/png": "[encoded data removed]",
      "text/plain": [
       "<Figure size 600x400 with 1 Axes>"
      ]
     },
     "metadata": {
      "needs_background": "light"
     },
     "output_type": "display_data"
    }
   ],
   "source": [
    "plt.figure(dpi=100)\n",
    "sns.countplot(data=df[df['genero'] == 'hombre' ], x='tipo_de_sala', hue='volveria', palette={0: '#FF5555', 1: '#44EE44'},orient=\"vertical\")\n",
    "plt.ylabel(\"Cantidad\")\n",
    "plt.xlabel(\"Tipo de Sala\")\n",
    "plt.title(\"¿Cual fue la respuesta para los hombres segun el tipo de sala?\")"
   ]
  },
  {
   "cell_type": "code",
   "execution_count": 48,
   "metadata": {},
   "outputs": [
    {
     "data": {
      "text/plain": [
       "Text(0.5, 1.0, '¿Cual fue la respuesta para las mujeres segun el tipo de sala?')"
      ]
     },
     "execution_count": 48,
     "metadata": {},
     "output_type": "execute_result"
    },
    {
     "data": {
      "image/png": "[encoded data removed]",
      "text/plain": [
       "<Figure size 600x400 with 1 Axes>"
      ]
     },
     "metadata": {
      "needs_background": "light"
     },
     "output_type": "display_data"
    }
   ],
   "source": [
    "plt.figure(dpi=100)\n",
    "sns.countplot(data=df[df['genero'] == 'mujer'], x='tipo_de_sala', hue='volveria', palette={0: '#FF5555', 1: '#44EE44'},orient=\"vertical\")\n",
    "plt.ylabel(\"Cantidad\")\n",
    "plt.xlabel(\"Tipo de Sala\")\n",
    "plt.title(\"¿Cual fue la respuesta para las mujeres segun el tipo de sala?\")"
   ]
  },
  {
   "cell_type": "markdown",
   "metadata": {},
   "source": [
    "En el primer grafico no observamos ninguna diferencia con lo que veniamos viendo del analisis de cada variable, es decir, los hombres no volverian independientemente del tipo de sala. Sin embargo, en el segundo grafico encontramos un esceario particular. Las mujeres para las salas 4D en su mayoría responden que no volverian. Esto acaba de mejorar nuestra función de predicción ya que deberemos considerar este escenario particular para las mujeres."
   ]
  },
  {
   "cell_type": "code",
   "execution_count": null,
   "metadata": {},
   "outputs": [],
   "source": []
  },
  {
   "cell_type": "code",
   "execution_count": 56,
   "metadata": {},
   "outputs": [
    {
     "data": {
      "text/plain": [
       "Text(0.5, 1.0, '¿Cual fue la respuesta para los hombres segun el tipo de sala?')"
      ]
     },
     "execution_count": 56,
     "metadata": {},
     "output_type": "execute_result"
    },
    {
     "data": {
      "image/png": "[encoded data removed]",
      "text/plain": [
       "<Figure size 600x400 with 1 Axes>"
      ]
     },
     "metadata": {
      "needs_background": "light"
     },
     "output_type": "display_data"
    }
   ],
   "source": [
    "plt.figure(dpi=100)\n",
    "sns.countplot(data=df[df['genero'] == 'hombre' ], x='nombre_sede', hue='volveria', palette={0: '#FF5555', 1: '#44EE44'},orient=\"vertical\")\n",
    "plt.ylabel(\"Cantidad\")\n",
    "plt.xlabel(\"Tipo de Sala\")\n",
    "plt.title(\"¿Cual fue la respuesta para los hombres segun el tipo de sala?\")"
   ]
  },
  {
   "cell_type": "code",
   "execution_count": 57,
   "metadata": {},
   "outputs": [
    {
     "data": {
      "text/plain": [
       "Text(0.5, 1.0, '¿Cual fue la respuesta para los hombres segun el tipo de sala?')"
      ]
     },
     "execution_count": 57,
     "metadata": {},
     "output_type": "execute_result"
    },
    {
     "data": {
      "image/png": "[encoded data removed]",
      "text/plain": [
       "<Figure size 600x400 with 1 Axes>"
      ]
     },
     "metadata": {
      "needs_background": "light"
     },
     "output_type": "display_data"
    }
   ],
   "source": [
    "plt.figure(dpi=100)\n",
    "sns.countplot(data=df[df['genero'] == 'mujer' ], x='nombre_sede', hue='volveria', palette={0: '#FF5555', 1: '#44EE44'},orient=\"vertical\")\n",
    "plt.ylabel(\"Cantidad\")\n",
    "plt.xlabel(\"Tipo de Sala\")\n",
    "plt.title(\"¿Cual fue la respuesta para los hombres segun el tipo de sala?\")"
   ]
  },
  {
   "cell_type": "code",
   "execution_count": null,
   "metadata": {},
   "outputs": [],
   "source": []
  },
  {
   "cell_type": "code",
   "execution_count": 62,
   "metadata": {},
   "outputs": [
    {
     "data": {
      "text/plain": [
       "Text(0.5, 1.0, '¿Cual fue la respuesta para los hombres segun el tipo de sala?')"
      ]
     },
     "execution_count": 62,
     "metadata": {},
     "output_type": "execute_result"
    },
    {
     "data": {
      "image/png": "[encoded data removed]",
      "text/plain": [
       "<Figure size 600x400 with 1 Axes>"
      ]
     },
     "metadata": {
      "needs_background": "light"
     },
     "output_type": "display_data"
    }
   ],
   "source": [
    "plt.figure(dpi=100)\n",
    "sns.countplot(data=df[df['tipo_de_sala'] != '4d' ], x='nombre_sede', hue='volveria', palette={0: '#FF5555', 1: '#44EE44'},orient=\"vertical\")\n",
    "plt.ylabel(\"Cantidad\")\n",
    "plt.xlabel(\"Tipo de Sala\")\n",
    "plt.title(\"¿Cual fue la respuesta para los hombres segun el tipo de sala?\")"
   ]
  },
  {
   "cell_type": "code",
   "execution_count": null,
   "metadata": {},
   "outputs": [],
   "source": []
  },
  {
   "cell_type": "code",
   "execution_count": 63,
   "metadata": {},
   "outputs": [
    {
     "data": {
      "text/plain": [
       "Text(0.5, 1.0, 'Cantidades segun la categoria de edad')"
      ]
     },
     "execution_count": 63,
     "metadata": {},
     "output_type": "execute_result"
    },
    {
     "data": {
      "image/png": "[encoded data removed]",
      "text/plain": [
       "<Figure size 720x480 with 1 Axes>"
      ]
     },
     "metadata": {
      "needs_background": "light"
     },
     "output_type": "display_data"
    }
   ],
   "source": [
    "plt.figure(dpi=120)\n",
    "data=df[df['genero'] == 'hombre' ]\n",
    "sns.countplot(data=data, x='edad_categorizada', hue='volveria', palette={0: '#FF5555', 1: '#44EE44'},orient=\"vertical\")\n",
    "plt.ylabel(\"Cantidad\")\n",
    "plt.xticks(rotation='vertical')\n",
    "plt.xlabel(\"Categoria de Edad\")\n",
    "plt.title(\"Cantidades segun la categoria de edad\")"
   ]
  },
  {
   "cell_type": "code",
   "execution_count": 68,
   "metadata": {},
   "outputs": [
    {
     "data": {
      "text/plain": [
       "Text(0.5, 1.0, 'Cantidades segun la categoria de edad')"
      ]
     },
     "execution_count": 68,
     "metadata": {},
     "output_type": "execute_result"
    },
    {
     "data": {
      "image/png": "[encoded data removed]",
      "text/plain": [
       "<Figure size 720x480 with 1 Axes>"
      ]
     },
     "metadata": {
      "needs_background": "light"
     },
     "output_type": "display_data"
    }
   ],
   "source": [
    "plt.figure(dpi=120)\n",
    "data=df[df['genero'] == 'mujer' ]\n",
    "sns.countplot(data=data, x='edad_categorizada', hue='volveria', palette={0: '#FF5555', 1: '#44EE44'},orient=\"vertical\")\n",
    "plt.ylabel(\"Cantidad\")\n",
    "plt.xticks(rotation='vertical')\n",
    "plt.xlabel(\"Categoria de Edad\")\n",
    "plt.title(\"Cantidades segun la categoria de edad\")"
   ]
  },
  {
   "cell_type": "markdown",
   "metadata": {},
   "source": [
    "# TODO: Explicar que para hombres la edad influencio en el valor de la decision. Habría que ver si 10 años es la cota, o si tenemos que agarrar un valor mayor."
   ]
  },
  {
   "cell_type": "code",
   "execution_count": 100,
   "metadata": {},
   "outputs": [
    {
     "data": {
      "text/plain": [
       "Text(0.5, 1.0, 'Cantidades segun la categoria de edad')"
      ]
     },
     "execution_count": 100,
     "metadata": {},
     "output_type": "execute_result"
    },
    {
     "data": {
      "image/png": "[encoded data removed]",
      "text/plain": [
       "<Figure size 720x480 with 1 Axes>"
      ]
     },
     "metadata": {
      "needs_background": "light"
     },
     "output_type": "display_data"
    }
   ],
   "source": [
    "plt.figure(dpi=120)\n",
    "data=df[df['genero'] == 'hombre' ]\n",
    "data=df[df['edad'] <= 20.0 ]\n",
    "sns.countplot(data=data, x='edad', hue='volveria', palette={0: '#FF5555', 1: '#44EE44'},orient=\"vertical\")\n",
    "plt.ylabel(\"Cantidad\")\n",
    "plt.xticks(rotation='vertical')\n",
    "plt.xlabel(\"Categoria de Edad\")\n",
    "plt.title(\"Cantidades segun la categoria de edad\")"
   ]
  },
  {
   "cell_type": "markdown",
   "metadata": {},
   "source": [
    "A continuación, nos interesa encontrar el punto de corte, para el cual existen mayores respuestas positivas que negativas."
   ]
  },
  {
   "cell_type": "code",
   "execution_count": 82,
   "metadata": {},
   "outputs": [
    {
     "data": {
      "text/plain": [
       "{20: 36.734693877551024,\n",
       " 19: 39.53488372093023,\n",
       " 18: 50.0,\n",
       " 17: 51.61290322580645,\n",
       " 16: 55.172413793103445,\n",
       " 15: 55.172413793103445,\n",
       " 14: 53.57142857142857,\n",
       " 13: 56.00000000000001,\n",
       " 12: 58.333333333333336,\n",
       " 11: 61.904761904761905,\n",
       " 10: 63.1578947368421,\n",
       " 9: 70.58823529411765,\n",
       " 8: 68.75,\n",
       " 7: 68.75,\n",
       " 6: 71.42857142857143,\n",
       " 5: 63.63636363636363}"
      ]
     },
     "execution_count": 82,
     "metadata": {},
     "output_type": "execute_result"
    }
   ],
   "source": [
    "values = {}\n",
    "data=df[df['genero'] == 'hombre' ]\n",
    "for x in range(20,4,-1):\n",
    "    data=data[data['edad'] <= x ]\n",
    "    data_volverian = data[data['volveria'] == 1 ]\n",
    "    y = data_volverian.value_counts().sum() / data.value_counts().sum() * 100\n",
    "    values[x] = y\n",
    "values"
   ]
  },
  {
   "cell_type": "code",
   "execution_count": 99,
   "metadata": {},
   "outputs": [
    {
     "data": {
      "image/png": "[encoded data removed]",
      "text/plain": [
       "<Figure size 720x480 with 1 Axes>"
      ]
     },
     "metadata": {
      "needs_background": "light"
     },
     "output_type": "display_data"
    }
   ],
   "source": [
    "lists = sorted(values.items()) # sorted by key, return a list of tuples\n",
    "x, y = zip(*lists)\n",
    "plt.figure(dpi=120)\n",
    "plt.plot(x, y)\n",
    "plt.axhline(y=50, color='r', linestyle='-')\n",
    "plt.show()"
   ]
  },
  {
   "cell_type": "markdown",
   "metadata": {},
   "source": [
    "Como se puede observar, el punto de corte de acumulación es de 18 años. Esto quiere decir, que para todo hombre de que tenga menos de 18 años, tendra una tendencia positiva para volver"
   ]
  },
  {
   "cell_type": "code",
   "execution_count": null,
   "metadata": {},
   "outputs": [],
   "source": []
  },
  {
   "cell_type": "code",
   "execution_count": null,
   "metadata": {},
   "outputs": [],
   "source": []
  },
  {
   "cell_type": "code",
   "execution_count": null,
   "metadata": {},
   "outputs": [],
   "source": []
  },
  {
   "cell_type": "code",
   "execution_count": null,
   "metadata": {},
   "outputs": [],
   "source": []
  },
  {
   "cell_type": "code",
   "execution_count": null,
   "metadata": {},
   "outputs": [],
   "source": []
  },
  {
   "cell_type": "code",
   "execution_count": null,
   "metadata": {},
   "outputs": [],
   "source": []
  },
  {
   "cell_type": "markdown",
   "metadata": {},
   "source": [
    "# Esta zona es correlacion de 3 variables\n",
    "Por el momento no lo vamos a usar pero hizo ruido el precio segun la sala. No me cierran dos cosas:\n",
    "\n",
    "    1. Que si el precio es \"1\" todas las salas dicen que no.\n",
    "    2. Que 3d mujeres y precio > 1, da un valor muy similar que no se condice con el grafico mujeres y sala."
   ]
  },
  {
   "cell_type": "code",
   "execution_count": 53,
   "metadata": {},
   "outputs": [
    {
     "data": {
      "text/plain": [
       "Text(0.5, 1.0, '¿Cual fue la respuesta para las mujeres segun el tipo de sala?')"
      ]
     },
     "execution_count": 53,
     "metadata": {},
     "output_type": "execute_result"
    },
    {
     "data": {
      "image/png": "[encoded data removed]",
      "text/plain": [
       "<Figure size 600x400 with 1 Axes>"
      ]
     },
     "metadata": {
      "needs_background": "light"
     },
     "output_type": "display_data"
    }
   ],
   "source": [
    "plt.figure(dpi=100)\n",
    "data = df[df['genero'] == 'mujer']\n",
    "data = df[df['precio_ticket'] == 1]\n",
    "sns.countplot(data=data, x='tipo_de_sala', hue='volveria', palette={0: '#FF5555', 1: '#44EE44'},orient=\"vertical\")\n",
    "plt.ylabel(\"Cantidad\")\n",
    "plt.xlabel(\"Tipo de Sala\")\n",
    "plt.title(\"¿Cual fue la respuesta para las mujeres segun el tipo de sala?\")"
   ]
  },
  {
   "cell_type": "code",
   "execution_count": 55,
   "metadata": {},
   "outputs": [
    {
     "data": {
      "text/plain": [
       "Text(0.5, 1.0, '¿Cual fue la respuesta para las mujeres segun el tipo de sala?')"
      ]
     },
     "execution_count": 55,
     "metadata": {},
     "output_type": "execute_result"
    },
    {
     "data": {
      "image/png": "[encoded data removed]",
      "text/plain": [
       "<Figure size 600x400 with 1 Axes>"
      ]
     },
     "metadata": {
      "needs_background": "light"
     },
     "output_type": "display_data"
    }
   ],
   "source": [
    "plt.figure(dpi=100)\n",
    "data = df[df['genero'] == 'mujer']\n",
    "data = df[df['precio_ticket'] > 1]\n",
    "sns.countplot(data=data, x='tipo_de_sala', hue='volveria', palette={0: '#FF5555', 1: '#44EE44'},orient=\"vertical\")\n",
    "plt.ylabel(\"Cantidad\")\n",
    "plt.xlabel(\"Tipo de Sala\")\n",
    "plt.title(\"¿Cual fue la respuesta para las mujeres segun el tipo de sala?\")"
   ]
  },
  {
   "cell_type": "code",
   "execution_count": null,
   "metadata": {},
   "outputs": [],
   "source": []
  },
  {
   "cell_type": "code",
   "execution_count": null,
   "metadata": {},
   "outputs": [],
   "source": []
  },
  {
   "cell_type": "code",
   "execution_count": null,
   "metadata": {},
   "outputs": [],
   "source": []
  },
  {
   "cell_type": "code",
   "execution_count": null,
   "metadata": {},
   "outputs": [],
   "source": []
  },
  {
   "cell_type": "code",
   "execution_count": 19,
   "metadata": {},
   "outputs": [
    {
     "ename": "NameError",
     "evalue": "name 'df_usuarioClean' is not defined",
     "output_type": "error",
     "traceback": [
      "\u001b[0;31m---------------------------------------------------------------------------\u001b[0m",
      "\u001b[0;31mNameError\u001b[0m                                 Traceback (most recent call last)",
      "\u001b[0;32m<ipython-input-19-7d085dc88542>\u001b[0m in \u001b[0;36m<module>\u001b[0;34m\u001b[0m\n\u001b[0;32m----> 1\u001b[0;31m \u001b[0mdf_usuarioClean\u001b[0m\u001b[0;34m.\u001b[0m\u001b[0misnull\u001b[0m\u001b[0;34m(\u001b[0m\u001b[0;34m)\u001b[0m\u001b[0;34m.\u001b[0m\u001b[0msum\u001b[0m\u001b[0;34m(\u001b[0m\u001b[0;34m)\u001b[0m\u001b[0;34m\u001b[0m\u001b[0;34m\u001b[0m\u001b[0m\n\u001b[0m",
      "\u001b[0;31mNameError\u001b[0m: name 'df_usuarioClean' is not defined"
     ]
    }
   ],
   "source": [
    "df_usuarioClean.isnull().sum()"
   ]
  },
  {
   "cell_type": "code",
   "execution_count": null,
   "metadata": {},
   "outputs": [],
   "source": [
    "df_usuarioClean.loc[df_usuarioClean.volveria == 1].count()"
   ]
  },
  {
   "cell_type": "code",
   "execution_count": null,
   "metadata": {},
   "outputs": [],
   "source": [
    "df_usuarioClean.loc[(df_usuarioClean.edad > 25) & (df_usuarioClean.edad < 33) & (df_usuarioClean.volveria == 1)].count()"
   ]
  },
  {
   "cell_type": "code",
   "execution_count": null,
   "metadata": {},
   "outputs": [],
   "source": [
    "df_usuarioClean.loc[(df_usuarioClean.edad > 25) & (df_usuarioClean.edad < 33)]"
   ]
  },
  {
   "cell_type": "code",
   "execution_count": null,
   "metadata": {},
   "outputs": [],
   "source": []
  },
  {
   "cell_type": "code",
   "execution_count": null,
   "metadata": {},
   "outputs": [],
   "source": [
    "df_quilmes = df_usuarioClean.loc[df_usuarioClean.nombre_sede == 'fiumark_quilmes']\n",
    "df_palermo = df_usuarioClean.loc[df_usuarioClean.nombre_sede == 'fiumark_palermo']\n",
    "df_chacarita = df_usuarioClean.loc[df_usuarioClean.nombre_sede == 'fiumark_chacarita']\n",
    "\"\"\"\n",
    "#existen sedes sin nombre, entonces las elimino del data frame original para evitar inconsistencias.\n",
    "df_usuarioClean.loc[ (df_usuarioClean.nombre_sede != 'fiumark_quilmes') & (df_usuarioClean.nombre_sede != 'fiumark_palermo') & (df_usuarioClean.nombre_sede != 'fiumark_chacarita')]\n",
    "\n",
    "# al \"plotear\" el df me salen los nombres de labels principales por id y los borro del df\n",
    "df_usuarioClean.drop(labels=[830,62], inplace=True)\n",
    "\"\"\"\n",
    "\n",
    "df_quilmes.loc[df_quilmes.volveria == 1].count() / df_quilmes.count()\n"
   ]
  },
  {
   "cell_type": "code",
   "execution_count": null,
   "metadata": {},
   "outputs": [],
   "source": [
    "df_palermo.loc[df_palermo.volveria == 1].count() / df_palermo.count()"
   ]
  },
  {
   "cell_type": "code",
   "execution_count": null,
   "metadata": {},
   "outputs": [],
   "source": [
    "df_chacarita.loc[df_chacarita.volveria == 1].count() / df_chacarita.count()"
   ]
  },
  {
   "cell_type": "code",
   "execution_count": null,
   "metadata": {},
   "outputs": [],
   "source": [
    "df_usuarioClean[ ['nombre_sede'] ].value_counts().plot(kind='bar')"
   ]
  },
  {
   "cell_type": "code",
   "execution_count": null,
   "metadata": {},
   "outputs": [],
   "source": [
    "def porcentajeVolveria(unAgrupamiento):\n",
    "    return (unAgrupamiento == 1).mean() * 100.0\n",
    "\n",
    "def porcentajeNOVolveria(unAgrupamiento):\n",
    "    return (unAgrupamiento == 0).mean() * 100.0\n",
    "\n",
    "df_agrupados_por_sede = df_usuarioClean.groupby(by='nombre_sede').agg(\n",
    "    {\n",
    "        \"volveria\" : porcentajeVolveria,\n",
    "    }\n",
    ")\n",
    "\n",
    "df_agrupados_por_sede"
   ]
  },
  {
   "cell_type": "code",
   "execution_count": null,
   "metadata": {},
   "outputs": [],
   "source": [
    "df_agrupados_por_sede.plot(kind = 'bar')"
   ]
  },
  {
   "cell_type": "code",
   "execution_count": null,
   "metadata": {},
   "outputs": [],
   "source": [
    "df_agrupados_por_sede = df_usuarioClean.groupby('nombre_sede').agg(list)\n",
    "\n",
    "\n",
    "arrayNumpy = df_agrupados_por_sede.to_numpy()\n",
    "hola = np.array(arrayNumpy)\n",
    "\n",
    "\n",
    "hola[0][1]"
   ]
  },
  {
   "cell_type": "markdown",
   "metadata": {},
   "source": [
    "### Analizo otras variables que se me ocurren: Ir con amigos y/o familiares"
   ]
  },
  {
   "cell_type": "code",
   "execution_count": null,
   "metadata": {},
   "outputs": [],
   "source": [
    "df_usuarioClean.loc[(df_usuarioClean.genero == 'mujer') & (df_usuarioClean.volveria == 0)]"
   ]
  },
  {
   "cell_type": "markdown",
   "metadata": {},
   "source": [
    "### Agrupo entonces por Hombre y Mujer y ploteo los porcentajes de volver de cada genero."
   ]
  },
  {
   "cell_type": "code",
   "execution_count": null,
   "metadata": {},
   "outputs": [],
   "source": [
    "df_usuarios_porGenero = df_usuarioClean.groupby(by=['genero']).agg(\n",
    "    {\n",
    "        'volveria' : porcentajeVolveria\n",
    "    }\n",
    ")\n",
    "\n",
    "#df_usuarios_porGenero['no volveria'] = df_usuarios_porGenero['volveria'].apply(porcentajeNOVolveria)\n",
    "\n",
    "df_usuarios_porGenero['no volveria'] = df_usuarioClean.groupby(by=['genero']).agg(\n",
    "    {\n",
    "        'volveria' : porcentajeNOVolveria\n",
    "    }\n",
    ")\n",
    "\n",
    "df_usuarios_porGenero"
   ]
  },
  {
   "cell_type": "markdown",
   "metadata": {},
   "source": [
    "### Me fijo cuanta accuracy tenemos sin hacer ninguna partición"
   ]
  },
  {
   "cell_type": "code",
   "execution_count": null,
   "metadata": {},
   "outputs": [],
   "source": [
    "from sklearn.metrics import accuracy_score\n",
    "\n",
    "#observo que la mayoría no vuelve.\n",
    "pred = [1] * len(df_usuarioClean)\n",
    "accuracy_score(df_usuarioClean.volveria, pred)"
   ]
  },
  {
   "cell_type": "code",
   "execution_count": null,
   "metadata": {},
   "outputs": [],
   "source": [
    "fig, axes = plt.subplots(nrows=1, ncols=2, figsize=[6.4 * 2 , 4.8], dpi=100)\n",
    "\n",
    "df_usuario_volvera = df_usuarioClean[ df_usuarioClean.volveria == 1 ]\n",
    "\n",
    "df_usuario_no_volvera = df_usuarioClean[ df_usuarioClean.volveria == 0 ]\n",
    "\n",
    "df_usuario_volvera.edad.plot(kind = 'hist', ax=axes[0], xlim=df_usuarioClean.edad.min())\n",
    "\n",
    "df_usuario_no_volvera.edad.plot(kind = 'hist', ax=axes[1], xlim=df_usuarioClean.edad.min())\n",
    "\n",
    "axes[0].set_title(\"edad - volverian\")\n",
    "axes[0].set_xlabel(\"edad\")\n",
    "\n",
    "axes[1].set_title(\"edad - no volverian\")\n",
    "axes[1].set_xlabel(\"edad\")\n",
    "\n",
    "plt.show()\n"
   ]
  },
  {
   "cell_type": "code",
   "execution_count": null,
   "metadata": {},
   "outputs": [],
   "source": [
    "import seaborn as sns\n",
    "\n",
    "plt.figure(dpi=100)\n",
    "sns.countplot(data=df_usuarioClean, x='precio_ticket', hue='volveria')\n",
    "\n",
    "plt.title(\"Cantidad por Precio de Ticket\")import seaborn as sns\n",
    "\n",
    "plt.figure(dpi=100)\n",
    "sns.countplot(data=df_usuarioClean, x='precio_ticket', hue='volveria')\n",
    "\n",
    "plt.title(\"Cantidad por Precio de Ticket\")"
   ]
  },
  {
   "cell_type": "code",
   "execution_count": null,
   "metadata": {},
   "outputs": [],
   "source": [
    "import seaborn as sns\n",
    "\n",
    "plt.figure(dpi=100)\n",
    "sns.countplot(data=df_usuarioClean, x='tipo_de_sala', hue='volveria')\n",
    "\n",
    "plt.title(\"Cantidad por Tipo de Sala\")"
   ]
  },
  {
   "cell_type": "code",
   "execution_count": null,
   "metadata": {},
   "outputs": [],
   "source": [
    "df_usuarioClean[(df_usuarioClean.nombre_sede == 'fiumark_palermo') & \n",
    "                (df_usuarioClean.tipo_de_sala == '4d') & \n",
    "                (df_usuarioClean.genero == 'hombre') & \n",
    "                (df_usuarioClean.volveria == 1)]"
   ]
  },
  {
   "cell_type": "code",
   "execution_count": null,
   "metadata": {},
   "outputs": [],
   "source": [
    "df_usuarioClean[(df_usuarioClean.nombre_sede == 'fiumark_palermo') & \n",
    "                (df_usuarioClean.tipo_de_sala == '4d') & \n",
    "                (df_usuarioClean.genero == 'mujer') & \n",
    "                (df_usuarioClean.volveria == 1)]"
   ]
  },
  {
   "cell_type": "code",
   "execution_count": null,
   "metadata": {},
   "outputs": [],
   "source": []
  },
  {
   "cell_type": "code",
   "execution_count": null,
   "metadata": {},
   "outputs": [],
   "source": []
  },
  {
   "cell_type": "code",
   "execution_count": null,
   "metadata": {},
   "outputs": [],
   "source": []
  },
  {
   "cell_type": "code",
   "execution_count": null,
   "metadata": {},
   "outputs": [],
   "source": []
  }
 ],
 "metadata": {
  "kernelspec": {
   "display_name": "Python 3",
   "language": "python",
   "name": "python3"
  },
  "language_info": {
   "codemirror_mode": {
    "name": "ipython",
    "version": 3
   },
   "file_extension": ".py",
   "mimetype": "text/x-python",
   "name": "python",
   "nbconvert_exporter": "python",
   "pygments_lexer": "ipython3",
   "version": "3.8.5"
  }
 },
 "nbformat": 4,
 "nbformat_minor": 4
}
